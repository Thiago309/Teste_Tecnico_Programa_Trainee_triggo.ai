{
 "cells": [
  {
   "cell_type": "markdown",
   "id": "60285890-6785-49ea-88c5-5d5832ee3996",
   "metadata": {},
   "source": [
    "# 1. Preparação dos Dados (25 pontos)"
   ]
  },
  {
   "cell_type": "code",
   "execution_count": 186,
   "id": "2a8ef505-e80e-46d1-acda-9af5652cfb1f",
   "metadata": {
    "tags": []
   },
   "outputs": [
    {
     "name": "stdout",
     "output_type": "stream",
     "text": [
      "Requirement already satisfied: pandas in c:\\users\\karer\\anaconda3\\lib\\site-packages (2.2.2)\n",
      "Requirement already satisfied: numpy>=1.26.0 in c:\\users\\karer\\anaconda3\\lib\\site-packages (from pandas) (1.26.4)\n",
      "Requirement already satisfied: python-dateutil>=2.8.2 in c:\\users\\karer\\anaconda3\\lib\\site-packages (from pandas) (2.9.0.post0)\n",
      "Requirement already satisfied: pytz>=2020.1 in c:\\users\\karer\\anaconda3\\lib\\site-packages (from pandas) (2024.1)\n",
      "Requirement already satisfied: tzdata>=2022.7 in c:\\users\\karer\\anaconda3\\lib\\site-packages (from pandas) (2023.3)\n",
      "Requirement already satisfied: six>=1.5 in c:\\users\\karer\\anaconda3\\lib\\site-packages (from python-dateutil>=2.8.2->pandas) (1.16.0)\n"
     ]
    }
   ],
   "source": [
    "!pip install pandas"
   ]
  },
  {
   "cell_type": "code",
   "execution_count": 187,
   "id": "b7f5a0b2-8e73-4f1a-88b4-afb85f8131ed",
   "metadata": {
    "tags": []
   },
   "outputs": [],
   "source": [
    "# Biblioteca que permite remover acentos e caracteres especiais\n",
    "import unidecode\n",
    "\n",
    "# Biblioteca que permite importar os arquivos do tipo CSV, para dataframes\n",
    "import pandas as pd"
   ]
  },
  {
   "cell_type": "markdown",
   "id": "cf9ad3d7-e62d-4666-a5ef-0d31977391f1",
   "metadata": {},
   "source": [
    "### a. Importação dos arquivos CSV\n",
    "\n",
    "Abaixo importei todos os arquivos .CSV do dataset \"Brazilian E-commerce Public Data ny Olist\" utilizando a biblioteca pandas. Cada DataFrame representa uma das entidades principais e seus relacionamentos."
   ]
  },
  {
   "cell_type": "code",
   "execution_count": 189,
   "id": "d36a71f4-71bc-4f2c-bf2d-6deac764e26a",
   "metadata": {
    "tags": []
   },
   "outputs": [],
   "source": [
    "# Pedidos e Detalhes \n",
    "df_orders = pd.read_csv(\"datasets/olist_orders_dataset.csv\", sep=\",\")\n",
    "df_order_items = pd.read_csv(\"datasets/olist_order_items_dataset.csv\", sep=\",\")\n",
    "df_payments = pd.read_csv(\"datasets/olist_order_payments_dataset.csv\", sep=\",\")\n",
    "df_reviews = pd.read_csv(\"datasets/olist_order_reviews_dataset.csv\", sep=\",\")\n",
    "\n",
    "#Entidades Relacionadas\n",
    "df_customers = pd.read_csv(\"datasets/olist_customers_dataset.csv\", sep=\",\")\n",
    "df_products = pd.read_csv(\"datasets/olist_products_dataset.csv\", sep=\",\")\n",
    "df_sellers = pd.read_csv(\"datasets/olist_sellers_dataset.csv\", sep=\",\")\n",
    "df_category = pd.read_csv(\"datasets/product_category_name_translation.csv\", sep=\",\")\n",
    "df_geolocation = pd.read_csv(\"datasets/olist_geolocation_dataset.csv\", sep=\",\")"
   ]
  },
  {
   "cell_type": "markdown",
   "id": "d9d2347e-ea6c-464a-86c9-4e2284faf2f8",
   "metadata": {},
   "source": [
    "### b. Limpeza dos Dados"
   ]
  },
  {
   "cell_type": "markdown",
   "id": "4bb56d9a-c677-4caf-ac3b-0d72607f98ac",
   "metadata": {},
   "source": [
    "Nesta etapa do notebook, realizei o processo de limpeza dos valores em todos os dataframes.\n",
    "1. Convertir as colunas com valores que continhas datas para o tipo datetime para facilitar análises temporais;\n",
    "2. Removi valores duplicados, onde foi necessario;\n",
    "3. No dataframe (df_orders) mantive os valores nulos nas colunas (order_delivered_carrier_date) e (order_delivered_customer_date), pois percebi que a ausencia desses dados, poderia significar que o pedido deve ter sido cancelado;\n",
    "4. No dataframe (df_products), removi os dados da coluna (product_category_name), pois não são úteis para analises futuras.\n",
    "5. Realizei o tratamento de strings nos campos textuais, removendo espaços em brancos indevidos antes e depos dos valores. Isso ajuda a evitar erros no momento de realizar joins, agrupamentos ou filtros;\n",
    "6. Converti dados de das colunas categoricas que estavam no tipo objetos para tipos categoricos para tornar as analises mais corretas;\n",
    "7. Verifiquei valores invalidos ou inesperados, como: status de pedidos inexisitentes, evitando distorções em analises futuras;\n",
    "8. Verifiquei se havia inconsistencias de data, na data de entrega antes da compra, assim, evitando conclusões erradas sobre prazos logisticos e melhorando a confiabilidade das metricas temporais (estimativa de entrega dos produtos);\n",
    "9. Analisei as coordenadas geográficas nulas ou inválidas. Assim, mantendo seguro a precisão em analises geoespaciais e mapas, evitando pontos imprecisos ou não existentes;\n",
    "10. Verifiquei se a tradução de categorias de produtos PT-BR para EN-US estava funcionando corretamente, para assegurar que o publico que não fala português, entendam os dados contidos na coluna de categorias;\n",
    "11. Encontrei algumas categorias sem tradução, então adicionei as traduções no df_category."
   ]
  },
  {
   "cell_type": "markdown",
   "id": "a2bd31ee-318f-4c6e-a94a-72c18b5c4b86",
   "metadata": {},
   "source": [
    "Verificando a quantidade de valores nulos e duplicados em todos os dataframes"
   ]
  },
  {
   "cell_type": "code",
   "execution_count": 193,
   "id": "8579f84e-325c-4a02-b876-0573c003a61a",
   "metadata": {
    "tags": []
   },
   "outputs": [
    {
     "name": "stdout",
     "output_type": "stream",
     "text": [
      "\n",
      " ORDERS\n",
      "Quantidade de linhas com valores nulos:\n",
      " order_id                            0\n",
      "customer_id                         0\n",
      "order_status                        0\n",
      "order_purchase_timestamp            0\n",
      "order_approved_at                 160\n",
      "order_delivered_carrier_date     1783\n",
      "order_delivered_customer_date    2965\n",
      "order_estimated_delivery_date       0\n",
      "dtype: int64\n",
      "Linhas com valores duplicados: 0\n",
      "\n",
      " ORDER_ITEMS\n",
      "Quantidade de linhas com valores nulos:\n",
      " order_id               0\n",
      "order_item_id          0\n",
      "product_id             0\n",
      "seller_id              0\n",
      "shipping_limit_date    0\n",
      "price                  0\n",
      "freight_value          0\n",
      "dtype: int64\n",
      "Linhas com valores duplicados: 0\n",
      "\n",
      " PAYMENTS\n",
      "Quantidade de linhas com valores nulos:\n",
      " order_id                0\n",
      "payment_sequential      0\n",
      "payment_type            0\n",
      "payment_installments    0\n",
      "payment_value           0\n",
      "dtype: int64\n",
      "Linhas com valores duplicados: 0\n",
      "\n",
      " REVIEWS\n",
      "Quantidade de linhas com valores nulos:\n",
      " review_id                      0\n",
      "order_id                       0\n",
      "review_score                   0\n",
      "review_comment_title       87656\n",
      "review_comment_message     58247\n",
      "review_creation_date           0\n",
      "review_answer_timestamp        0\n",
      "dtype: int64\n",
      "Linhas com valores duplicados: 0\n",
      "\n",
      " CUSTOMERS\n",
      "Quantidade de linhas com valores nulos:\n",
      " customer_id                 0\n",
      "customer_unique_id          0\n",
      "customer_zip_code_prefix    0\n",
      "customer_city               0\n",
      "customer_state              0\n",
      "dtype: int64\n",
      "Linhas com valores duplicados: 0\n",
      "\n",
      " SELLERS\n",
      "Quantidade de linhas com valores nulos:\n",
      " seller_id                 0\n",
      "seller_zip_code_prefix    0\n",
      "seller_city               0\n",
      "seller_state              0\n",
      "dtype: int64\n",
      "Linhas com valores duplicados: 0\n",
      "\n",
      " PRODUCTS\n",
      "Quantidade de linhas com valores nulos:\n",
      " product_id                      0\n",
      "product_category_name         610\n",
      "product_name_lenght           610\n",
      "product_description_lenght    610\n",
      "product_photos_qty            610\n",
      "product_weight_g                2\n",
      "product_length_cm               2\n",
      "product_height_cm               2\n",
      "product_width_cm                2\n",
      "dtype: int64\n",
      "Linhas com valores duplicados: 0\n",
      "\n",
      " CATEGORY\n",
      "Quantidade de linhas com valores nulos:\n",
      " product_category_name            0\n",
      "product_category_name_english    0\n",
      "dtype: int64\n",
      "Linhas com valores duplicados: 0\n",
      "\n",
      " GEOLOCATION\n",
      "Quantidade de linhas com valores nulos:\n",
      " geolocation_zip_code_prefix    0\n",
      "geolocation_lat                0\n",
      "geolocation_lng                0\n",
      "geolocation_city               0\n",
      "geolocation_state              0\n",
      "dtype: int64\n",
      "Linhas com valores duplicados: 261831\n"
     ]
    }
   ],
   "source": [
    "# Verificando valores nulos e duplicatas em todos os DataFrames\n",
    "dataframes = {\n",
    "    'orders': df_orders,\n",
    "    'order_items': df_order_items,\n",
    "    'payments': df_payments,\n",
    "    'reviews': df_reviews,\n",
    "    'customers': df_customers,\n",
    "    'sellers': df_sellers,\n",
    "    'products': df_products,\n",
    "    'category': df_category,\n",
    "    'geolocation': df_geolocation\n",
    "}\n",
    "\n",
    "for name, df in dataframes.items():\n",
    "    print(f\"\\n {name.upper()}\")\n",
    "    print(\"Quantidade de linhas com valores nulos:\\n\", df.isnull().sum())\n",
    "    print(\"Linhas com valores duplicados:\", df.duplicated().sum())"
   ]
  },
  {
   "cell_type": "markdown",
   "id": "b8840155-5657-47a1-b30b-8260da5424bd",
   "metadata": {},
   "source": [
    "Convertendo as colunas de data para datetime, serve para podermos utilizar análises temporais mais eficazes."
   ]
  },
  {
   "cell_type": "code",
   "execution_count": 195,
   "id": "f56f815d-b8c0-4254-85d3-91c4e7db60fc",
   "metadata": {
    "tags": []
   },
   "outputs": [
    {
     "name": "stdout",
     "output_type": "stream",
     "text": [
      "product_id                      0\n",
      "product_category_name         610\n",
      "product_name_lenght           610\n",
      "product_description_lenght    610\n",
      "product_photos_qty            610\n",
      "product_weight_g                2\n",
      "product_length_cm               2\n",
      "product_height_cm               2\n",
      "product_width_cm                2\n",
      "dtype: int64\n"
     ]
    }
   ],
   "source": [
    "colunas_data = ['order_purchase_timestamp', 'order_approved_at', 'order_delivered_carrier_date', \n",
    "             'order_delivered_customer_date', 'order_estimated_delivery_date']\n",
    "df_orders[colunas_data] = df_orders[colunas_data].apply(pd.to_datetime)\n",
    "\n",
    "# Nenhuma coluna precisa ser preenchida com média ou mediana, pois datas ausentes em (approved ou delivered) podem representar cancelamentos dos pedidos.\n",
    "\n",
    "# ### removendo valores duplicados dos dataframes ###\n",
    "\n",
    "# removendo linhas duplicadas de orders\n",
    "df_orders.drop_duplicates(inplace=True)\n",
    "# removendo linhas duplicadas de order_items\n",
    "df_order_items.drop_duplicates(inplace=True)\n",
    "# removendo linhas duplicadas de payments\n",
    "df_payments.drop_duplicates(inplace=True)\n",
    "\n",
    "# Converter colunas de data do dataframa reviews\n",
    "df_reviews['review_creation_date'] = pd.to_datetime(df_reviews['review_creation_date'])\n",
    "df_reviews['review_answer_timestamp'] = pd.to_datetime(df_reviews['review_answer_timestamp'])\n",
    "# removendo linhas duplicadas de reviews\n",
    "df_reviews.drop_duplicates(inplace=True)\n",
    "\n",
    "# removendo linhas duplicadas de customers\n",
    "df_customers.drop_duplicates(inplace=True)\n",
    "# removendo linhas duplicadas de sellers\n",
    "df_sellers.drop_duplicates(inplace=True)\n",
    "\n",
    "# Já que sabemos que existem linhas nulas no dataframe df_products, então teremos que usar uma estageria de manter ou remover os nulos\n",
    "# isso vai depender de como nos iremos utilizar os dados futuramente.\n",
    "\n",
    "# Verificar colunas com nulos do dataframe df_products. Retorna um valor boleano True or False. E soma a quantidade de dados nulos.\n",
    "print(df_products.isnull().sum())\n",
    "\n",
    "# Removemos do dataframe df_products todas as linhas que têm valor nulo apenas na coluna product_category_name\n",
    "# Esse processo é importante para análises por categoria. Manter valores nulos nela pode atrapalhar agregações e visualizações.\n",
    "df_products.dropna(subset=['product_category_name'], inplace=True)\n",
    "\n",
    "# Removemos todas as linhas duplicadas da tabela df_products, pois o pandas considera como duplicadas as linhas que possuem valores iguais em todas as colunas.\n",
    "df_products.drop_duplicates(inplace=True)\n",
    "# removendo linhas duplicadas de category\n",
    "df_category.drop_duplicates(inplace=True)\n",
    "# Geolocation pode ter duplicatas porque existem várias entradas por cidade\n",
    "df_geolocation.drop_duplicates(inplace=True)"
   ]
  },
  {
   "cell_type": "markdown",
   "id": "50931d76-3507-4402-ad08-b9317a44a83d",
   "metadata": {},
   "source": [
    "Verificando as conversões"
   ]
  },
  {
   "cell_type": "code",
   "execution_count": 197,
   "id": "22377d51-f56f-415b-b543-bcc6baa094de",
   "metadata": {},
   "outputs": [
    {
     "name": "stdout",
     "output_type": "stream",
     "text": [
      "<class 'pandas.core.frame.DataFrame'>\n",
      "RangeIndex: 99441 entries, 0 to 99440\n",
      "Data columns (total 8 columns):\n",
      " #   Column                         Non-Null Count  Dtype         \n",
      "---  ------                         --------------  -----         \n",
      " 0   order_id                       99441 non-null  object        \n",
      " 1   customer_id                    99441 non-null  object        \n",
      " 2   order_status                   99441 non-null  object        \n",
      " 3   order_purchase_timestamp       99441 non-null  datetime64[ns]\n",
      " 4   order_approved_at              99281 non-null  datetime64[ns]\n",
      " 5   order_delivered_carrier_date   97658 non-null  datetime64[ns]\n",
      " 6   order_delivered_customer_date  96476 non-null  datetime64[ns]\n",
      " 7   order_estimated_delivery_date  99441 non-null  datetime64[ns]\n",
      "dtypes: datetime64[ns](5), object(3)\n",
      "memory usage: 6.1+ MB\n"
     ]
    }
   ],
   "source": [
    "df_orders.info()"
   ]
  },
  {
   "cell_type": "markdown",
   "id": "da93a536-333a-4f4c-8b32-37ee3406fc99",
   "metadata": {},
   "source": [
    "Tratamento de Strings"
   ]
  },
  {
   "cell_type": "code",
   "execution_count": 199,
   "id": "a2a4971f-2d8b-4734-9acb-6255775b149a",
   "metadata": {
    "tags": []
   },
   "outputs": [],
   "source": [
    "# Essa função, faz o tratamento de remoção de espaços em brancos nas colunas do tipo string.\n",
    "def remover_espacos(df):\n",
    "    colunas_str = df.select_dtypes(include = 'object').columns\n",
    "    df[colunas_str] = df[colunas_str].apply(lambda x: x.str.strip())\n",
    "    return df\n",
    "\n",
    "# Aplicar nos dataframes\n",
    "df_orders = remover_espacos(df_orders)\n",
    "df_order_items = remover_espacos(df_order_items)\n",
    "df_payments = remover_espacos(df_payments)\n",
    "df_reviews = remover_espacos(df_reviews)\n",
    "df_customers = remover_espacos(df_customers)\n",
    "df_sellers = remover_espacos(df_sellers)\n",
    "df_products = remover_espacos(df_products)\n",
    "df_category = remover_espacos(df_category)\n",
    "df_geolocation = remover_espacos(df_geolocation)\n"
   ]
  },
  {
   "cell_type": "code",
   "execution_count": 200,
   "id": "a350c943-01da-400a-ab68-459f2e478a9a",
   "metadata": {
    "jupyter": {
     "is_executing": true
    },
    "tags": []
   },
   "outputs": [
    {
     "data": {
      "text/html": [
       "<div>\n",
       "<style scoped>\n",
       "    .dataframe tbody tr th:only-of-type {\n",
       "        vertical-align: middle;\n",
       "    }\n",
       "\n",
       "    .dataframe tbody tr th {\n",
       "        vertical-align: top;\n",
       "    }\n",
       "\n",
       "    .dataframe thead th {\n",
       "        text-align: right;\n",
       "    }\n",
       "</style>\n",
       "<table border=\"1\" class=\"dataframe\">\n",
       "  <thead>\n",
       "    <tr style=\"text-align: right;\">\n",
       "      <th></th>\n",
       "      <th>seller_city</th>\n",
       "      <th>seller_state</th>\n",
       "    </tr>\n",
       "  </thead>\n",
       "  <tbody>\n",
       "    <tr>\n",
       "      <th>0</th>\n",
       "      <td>campinas</td>\n",
       "      <td>SP</td>\n",
       "    </tr>\n",
       "    <tr>\n",
       "      <th>1</th>\n",
       "      <td>mogi guacu</td>\n",
       "      <td>SP</td>\n",
       "    </tr>\n",
       "    <tr>\n",
       "      <th>2</th>\n",
       "      <td>rio de janeiro</td>\n",
       "      <td>RJ</td>\n",
       "    </tr>\n",
       "    <tr>\n",
       "      <th>3</th>\n",
       "      <td>sao paulo</td>\n",
       "      <td>SP</td>\n",
       "    </tr>\n",
       "    <tr>\n",
       "      <th>4</th>\n",
       "      <td>braganca paulista</td>\n",
       "      <td>SP</td>\n",
       "    </tr>\n",
       "    <tr>\n",
       "      <th>...</th>\n",
       "      <td>...</td>\n",
       "      <td>...</td>\n",
       "    </tr>\n",
       "    <tr>\n",
       "      <th>3090</th>\n",
       "      <td>sarandi</td>\n",
       "      <td>PR</td>\n",
       "    </tr>\n",
       "    <tr>\n",
       "      <th>3091</th>\n",
       "      <td>palhoca</td>\n",
       "      <td>SC</td>\n",
       "    </tr>\n",
       "    <tr>\n",
       "      <th>3092</th>\n",
       "      <td>sao paulo</td>\n",
       "      <td>SP</td>\n",
       "    </tr>\n",
       "    <tr>\n",
       "      <th>3093</th>\n",
       "      <td>pelotas</td>\n",
       "      <td>RS</td>\n",
       "    </tr>\n",
       "    <tr>\n",
       "      <th>3094</th>\n",
       "      <td>taubate</td>\n",
       "      <td>SP</td>\n",
       "    </tr>\n",
       "  </tbody>\n",
       "</table>\n",
       "<p>3095 rows × 2 columns</p>\n",
       "</div>"
      ],
      "text/plain": [
       "            seller_city seller_state\n",
       "0              campinas           SP\n",
       "1            mogi guacu           SP\n",
       "2        rio de janeiro           RJ\n",
       "3             sao paulo           SP\n",
       "4     braganca paulista           SP\n",
       "...                 ...          ...\n",
       "3090            sarandi           PR\n",
       "3091            palhoca           SC\n",
       "3092          sao paulo           SP\n",
       "3093            pelotas           RS\n",
       "3094            taubate           SP\n",
       "\n",
       "[3095 rows x 2 columns]"
      ]
     },
     "execution_count": 200,
     "metadata": {},
     "output_type": "execute_result"
    }
   ],
   "source": [
    "# Exemplo para evitar conflitos entre nomes de cidades.\n",
    "df2 = df_sellers[[\"seller_city\", \"seller_state\"]]\n",
    "df2"
   ]
  },
  {
   "cell_type": "markdown",
   "id": "3f2761c8-691e-4f23-9502-4f262266e461",
   "metadata": {},
   "source": [
    "Verificando os tipos de inconsistencias. Para isso, vamos verificar se os tipos das colunas IDs e colunas categóricas, estão corretas. Então convertemos as colunas de categorias para o tipo category e verificamos os valores inválidos ou não esperados nessas colunas."
   ]
  },
  {
   "cell_type": "code",
   "execution_count": 202,
   "id": "a3fce51f-a368-4907-83c3-5fafd06fd413",
   "metadata": {},
   "outputs": [],
   "source": [
    "# Convertendo \n",
    "category_columns = ['order_status', 'payment_type', 'review_score',\n",
    "               'product_category_name', 'customer_state', 'seller_state']\n",
    "\n",
    "for coluna in category_columns:\n",
    "    for df in [df_orders, df_payments, df_reviews, df_products, df_customers, df_sellers]:\n",
    "        if coluna in df.columns:\n",
    "            df[coluna] = df[coluna].astype('category')\n",
    "            "
   ]
  },
  {
   "cell_type": "markdown",
   "id": "74c85ec3-de2b-4f7d-a14c-0c5ce2323e58",
   "metadata": {},
   "source": [
    "Verificando a quantidade de valores invalidos ou inesperados das colunas categoricas"
   ]
  },
  {
   "cell_type": "code",
   "execution_count": 204,
   "id": "07b9cab0-71ea-4515-babd-537247078de0",
   "metadata": {},
   "outputs": [
    {
     "name": "stdout",
     "output_type": "stream",
     "text": [
      "###### orders ######\n",
      "\n",
      "order_status\n",
      "delivered      96478\n",
      "shipped         1107\n",
      "canceled         625\n",
      "unavailable      609\n",
      "invoiced         314\n",
      "processing       301\n",
      "created            5\n",
      "approved           2\n",
      "Name: count, dtype: int64\n",
      "\n",
      "###### payments ######\n",
      "\n",
      "payment_type\n",
      "credit_card    76795\n",
      "boleto         19784\n",
      "voucher         5775\n",
      "debit_card      1529\n",
      "not_defined        3\n",
      "Name: count, dtype: int64\n",
      "\n",
      "###### reviews ######\n",
      "\n",
      "review_score\n",
      "5    57328\n",
      "4    19142\n",
      "1    11424\n",
      "3     8179\n",
      "2     3151\n",
      "Name: count, dtype: int64\n"
     ]
    }
   ],
   "source": [
    "# Verificando a quantidade de valores invalidos ou inesperados das colunas categoricas\n",
    "print(\"###### orders ######\\n\")\n",
    "print(df_orders['order_status'].value_counts())\n",
    "print(\"\\n###### payments ######\\n\")\n",
    "print(df_payments['payment_type'].value_counts())\n",
    "print(\"\\n###### reviews ######\\n\")\n",
    "print(df_reviews['review_score'].value_counts())"
   ]
  },
  {
   "cell_type": "markdown",
   "id": "0558a38e-7dd1-4dfb-824c-7db0102e713d",
   "metadata": {},
   "source": [
    "Verificando colunas que contem valores zero, mas não deveriam.\n",
    "Penso em filtrar se parecerem inválidos, ou manter caso forem pedidos gratuitos ou testes."
   ]
  },
  {
   "cell_type": "code",
   "execution_count": 206,
   "id": "94b85ec9-77f7-4d48-bac6-6db6ce617797",
   "metadata": {},
   "outputs": [
    {
     "name": "stdout",
     "output_type": "stream",
     "text": [
      "                                order_id  payment_sequential payment_type  \\\n",
      "19922   8bcbe01d44d147f901cd3192671144db                   4      voucher   \n",
      "36822   fa65dad1b0e818e3ccc5cb0e39231352                  14      voucher   \n",
      "43744   6ccb433e00daae1283ccc956189c82ae                   4      voucher   \n",
      "51280   4637ca194b6387e2d538dc89b124b0ee                   1  not_defined   \n",
      "57411   00b1cb0320190ca0daa2c88b35206009                   1  not_defined   \n",
      "62674   45ed6e85398a87c253db47c2d9f48216                   3      voucher   \n",
      "77885   fa65dad1b0e818e3ccc5cb0e39231352                  13      voucher   \n",
      "94427   c8c528189310eaa44a745b8d9d26908b                   1  not_defined   \n",
      "100766  b23878b3e8eb4d25a158f57d96331b18                   4      voucher   \n",
      "\n",
      "        payment_installments  payment_value  \n",
      "19922                      1            0.0  \n",
      "36822                      1            0.0  \n",
      "43744                      1            0.0  \n",
      "51280                      1            0.0  \n",
      "57411                      1            0.0  \n",
      "62674                      1            0.0  \n",
      "77885                      1            0.0  \n",
      "94427                      1            0.0  \n",
      "100766                     1            0.0  \n"
     ]
    }
   ],
   "source": [
    "print(df_payments[df_payments['payment_value'] == 0])"
   ]
  },
  {
   "cell_type": "markdown",
   "id": "d9e7cbae-a255-4a60-87ad-4654b079a16a",
   "metadata": {},
   "source": [
    "Verificando se existem datas inconsistens de entrega antes da data de compra ou aprovação das ordens produtos."
   ]
  },
  {
   "cell_type": "code",
   "execution_count": 208,
   "id": "a9d0b36a-1290-4137-8a2b-976a83e78c99",
   "metadata": {},
   "outputs": [
    {
     "data": {
      "text/html": [
       "<div>\n",
       "<style scoped>\n",
       "    .dataframe tbody tr th:only-of-type {\n",
       "        vertical-align: middle;\n",
       "    }\n",
       "\n",
       "    .dataframe tbody tr th {\n",
       "        vertical-align: top;\n",
       "    }\n",
       "\n",
       "    .dataframe thead th {\n",
       "        text-align: right;\n",
       "    }\n",
       "</style>\n",
       "<table border=\"1\" class=\"dataframe\">\n",
       "  <thead>\n",
       "    <tr style=\"text-align: right;\">\n",
       "      <th></th>\n",
       "      <th>order_id</th>\n",
       "      <th>customer_id</th>\n",
       "      <th>order_status</th>\n",
       "      <th>order_purchase_timestamp</th>\n",
       "      <th>order_approved_at</th>\n",
       "      <th>order_delivered_carrier_date</th>\n",
       "      <th>order_delivered_customer_date</th>\n",
       "      <th>order_estimated_delivery_date</th>\n",
       "    </tr>\n",
       "  </thead>\n",
       "  <tbody>\n",
       "  </tbody>\n",
       "</table>\n",
       "</div>"
      ],
      "text/plain": [
       "Empty DataFrame\n",
       "Columns: [order_id, customer_id, order_status, order_purchase_timestamp, order_approved_at, order_delivered_carrier_date, order_delivered_customer_date, order_estimated_delivery_date]\n",
       "Index: []"
      ]
     },
     "execution_count": 208,
     "metadata": {},
     "output_type": "execute_result"
    }
   ],
   "source": [
    "df_orders[df_orders['order_delivered_customer_date'] < df_orders['order_purchase_timestamp']]"
   ]
  },
  {
   "cell_type": "markdown",
   "id": "9df39a1f-ee3d-49f6-a4c7-96e03f129c3a",
   "metadata": {},
   "source": [
    "Verificando se existem localizações inválidas (geolocalização). Verificando se há latitudes/longitudes muito discrepantes ou iguais a zero."
   ]
  },
  {
   "cell_type": "code",
   "execution_count": 210,
   "id": "3368d54c-cace-4a11-8783-619c50131d4d",
   "metadata": {},
   "outputs": [
    {
     "data": {
      "text/html": [
       "<div>\n",
       "<style scoped>\n",
       "    .dataframe tbody tr th:only-of-type {\n",
       "        vertical-align: middle;\n",
       "    }\n",
       "\n",
       "    .dataframe tbody tr th {\n",
       "        vertical-align: top;\n",
       "    }\n",
       "\n",
       "    .dataframe thead th {\n",
       "        text-align: right;\n",
       "    }\n",
       "</style>\n",
       "<table border=\"1\" class=\"dataframe\">\n",
       "  <thead>\n",
       "    <tr style=\"text-align: right;\">\n",
       "      <th></th>\n",
       "      <th>geolocation_zip_code_prefix</th>\n",
       "      <th>geolocation_lat</th>\n",
       "      <th>geolocation_lng</th>\n",
       "      <th>geolocation_city</th>\n",
       "      <th>geolocation_state</th>\n",
       "    </tr>\n",
       "  </thead>\n",
       "  <tbody>\n",
       "  </tbody>\n",
       "</table>\n",
       "</div>"
      ],
      "text/plain": [
       "Empty DataFrame\n",
       "Columns: [geolocation_zip_code_prefix, geolocation_lat, geolocation_lng, geolocation_city, geolocation_state]\n",
       "Index: []"
      ]
     },
     "execution_count": 210,
     "metadata": {},
     "output_type": "execute_result"
    }
   ],
   "source": [
    "df_geolocation.query(\"geolocation_lat < -90 or geolocation_lat > 90 or geolocation_lng < -180 or geolocation_lng > 180\")\n",
    "df_geolocation.query(\"geolocation_lat == 0 or geolocation_lng == 0\")"
   ]
  },
  {
   "cell_type": "markdown",
   "id": "70f81782-f7a9-4b60-8306-7eda176039e0",
   "metadata": {},
   "source": [
    "Verificando se a cobertura da tradução dos produtos sem categorias. Já que removemos os valores nulos da coluna (product_category_name) do dataframe (df_products) anteriormente. Agora vamos verificar se a tradução do dataframe (product_category_name_translation) esta funcionando corretamente para o PT-BR, no dataframe (df_products)."
   ]
  },
  {
   "cell_type": "code",
   "execution_count": 212,
   "id": "70a5e4a3-78cc-4400-a62e-84ae37765943",
   "metadata": {},
   "outputs": [
    {
     "data": {
      "text/html": [
       "<div>\n",
       "<style scoped>\n",
       "    .dataframe tbody tr th:only-of-type {\n",
       "        vertical-align: middle;\n",
       "    }\n",
       "\n",
       "    .dataframe tbody tr th {\n",
       "        vertical-align: top;\n",
       "    }\n",
       "\n",
       "    .dataframe thead th {\n",
       "        text-align: right;\n",
       "    }\n",
       "</style>\n",
       "<table border=\"1\" class=\"dataframe\">\n",
       "  <thead>\n",
       "    <tr style=\"text-align: right;\">\n",
       "      <th></th>\n",
       "      <th>product_id</th>\n",
       "      <th>product_category_name</th>\n",
       "    </tr>\n",
       "  </thead>\n",
       "  <tbody>\n",
       "    <tr>\n",
       "      <th>1628</th>\n",
       "      <td>0105b5323d24fc655f73052694dbbb3a</td>\n",
       "      <td>pc_gamer</td>\n",
       "    </tr>\n",
       "    <tr>\n",
       "      <th>5821</th>\n",
       "      <td>6fd83eb3e0799b775e4f946bd66657c0</td>\n",
       "      <td>portateis_cozinha_e_preparadores_de_alimentos</td>\n",
       "    </tr>\n",
       "    <tr>\n",
       "      <th>7325</th>\n",
       "      <td>5d923ead886c44b86845f69e50520c3e</td>\n",
       "      <td>portateis_cozinha_e_preparadores_de_alimentos</td>\n",
       "    </tr>\n",
       "    <tr>\n",
       "      <th>7478</th>\n",
       "      <td>6727051471a0fc4a0e7737b57bff2549</td>\n",
       "      <td>pc_gamer</td>\n",
       "    </tr>\n",
       "    <tr>\n",
       "      <th>8819</th>\n",
       "      <td>bed164d9d628cf0593003389c535c6e0</td>\n",
       "      <td>portateis_cozinha_e_preparadores_de_alimentos</td>\n",
       "    </tr>\n",
       "    <tr>\n",
       "      <th>11039</th>\n",
       "      <td>1220978a08a6b29a202bc015b18250e9</td>\n",
       "      <td>portateis_cozinha_e_preparadores_de_alimentos</td>\n",
       "    </tr>\n",
       "    <tr>\n",
       "      <th>14266</th>\n",
       "      <td>ae62bb0f95af63d64eae5f93dddea8d3</td>\n",
       "      <td>portateis_cozinha_e_preparadores_de_alimentos</td>\n",
       "    </tr>\n",
       "    <tr>\n",
       "      <th>16182</th>\n",
       "      <td>1954739d84629e7323a4295812a3e0ec</td>\n",
       "      <td>portateis_cozinha_e_preparadores_de_alimentos</td>\n",
       "    </tr>\n",
       "    <tr>\n",
       "      <th>16930</th>\n",
       "      <td>dbe520fb381ad695a7e1f2807d20c765</td>\n",
       "      <td>pc_gamer</td>\n",
       "    </tr>\n",
       "    <tr>\n",
       "      <th>17800</th>\n",
       "      <td>c7a3f1a7f9eef146cc499368b578b884</td>\n",
       "      <td>portateis_cozinha_e_preparadores_de_alimentos</td>\n",
       "    </tr>\n",
       "    <tr>\n",
       "      <th>18610</th>\n",
       "      <td>7afdd65f79f63819ff5bee328843fa37</td>\n",
       "      <td>portateis_cozinha_e_preparadores_de_alimentos</td>\n",
       "    </tr>\n",
       "    <tr>\n",
       "      <th>26890</th>\n",
       "      <td>a4756663d007b0cd1af865754d08d968</td>\n",
       "      <td>portateis_cozinha_e_preparadores_de_alimentos</td>\n",
       "    </tr>\n",
       "    <tr>\n",
       "      <th>29919</th>\n",
       "      <td>cb9d764f38ee4d0c00af64d5c388f837</td>\n",
       "      <td>portateis_cozinha_e_preparadores_de_alimentos</td>\n",
       "    </tr>\n",
       "  </tbody>\n",
       "</table>\n",
       "</div>"
      ],
      "text/plain": [
       "                             product_id  \\\n",
       "1628   0105b5323d24fc655f73052694dbbb3a   \n",
       "5821   6fd83eb3e0799b775e4f946bd66657c0   \n",
       "7325   5d923ead886c44b86845f69e50520c3e   \n",
       "7478   6727051471a0fc4a0e7737b57bff2549   \n",
       "8819   bed164d9d628cf0593003389c535c6e0   \n",
       "11039  1220978a08a6b29a202bc015b18250e9   \n",
       "14266  ae62bb0f95af63d64eae5f93dddea8d3   \n",
       "16182  1954739d84629e7323a4295812a3e0ec   \n",
       "16930  dbe520fb381ad695a7e1f2807d20c765   \n",
       "17800  c7a3f1a7f9eef146cc499368b578b884   \n",
       "18610  7afdd65f79f63819ff5bee328843fa37   \n",
       "26890  a4756663d007b0cd1af865754d08d968   \n",
       "29919  cb9d764f38ee4d0c00af64d5c388f837   \n",
       "\n",
       "                               product_category_name  \n",
       "1628                                        pc_gamer  \n",
       "5821   portateis_cozinha_e_preparadores_de_alimentos  \n",
       "7325   portateis_cozinha_e_preparadores_de_alimentos  \n",
       "7478                                        pc_gamer  \n",
       "8819   portateis_cozinha_e_preparadores_de_alimentos  \n",
       "11039  portateis_cozinha_e_preparadores_de_alimentos  \n",
       "14266  portateis_cozinha_e_preparadores_de_alimentos  \n",
       "16182  portateis_cozinha_e_preparadores_de_alimentos  \n",
       "16930                                       pc_gamer  \n",
       "17800  portateis_cozinha_e_preparadores_de_alimentos  \n",
       "18610  portateis_cozinha_e_preparadores_de_alimentos  \n",
       "26890  portateis_cozinha_e_preparadores_de_alimentos  \n",
       "29919  portateis_cozinha_e_preparadores_de_alimentos  "
      ]
     },
     "execution_count": 212,
     "metadata": {},
     "output_type": "execute_result"
    }
   ],
   "source": [
    "df_bol = df_products[~df_products['product_category_name'].isin(df_category['product_category_name'])]\n",
    "df_bol_2 = df_bol[[\"product_id\", \"product_category_name\"]]\n",
    "df_bol_2"
   ]
  },
  {
   "cell_type": "markdown",
   "id": "f364068e-560a-421f-919f-dfbad917045a",
   "metadata": {},
   "source": [
    "Foram encontrados 2 classificações de categorias em (df_products) que não existem no dataframe de tradução (df_category).\n",
    "Para corrigir isso, vamos adicionar essas ambas categorias no (df_category)."
   ]
  },
  {
   "cell_type": "code",
   "execution_count": 214,
   "id": "a8412b41-dd3d-4d9f-94c9-9d93c9c66611",
   "metadata": {},
   "outputs": [
    {
     "data": {
      "text/html": [
       "<div>\n",
       "<style scoped>\n",
       "    .dataframe tbody tr th:only-of-type {\n",
       "        vertical-align: middle;\n",
       "    }\n",
       "\n",
       "    .dataframe tbody tr th {\n",
       "        vertical-align: top;\n",
       "    }\n",
       "\n",
       "    .dataframe thead th {\n",
       "        text-align: right;\n",
       "    }\n",
       "</style>\n",
       "<table border=\"1\" class=\"dataframe\">\n",
       "  <thead>\n",
       "    <tr style=\"text-align: right;\">\n",
       "      <th></th>\n",
       "      <th>product_category_name</th>\n",
       "      <th>product_category_name_english</th>\n",
       "    </tr>\n",
       "  </thead>\n",
       "  <tbody>\n",
       "    <tr>\n",
       "      <th>0</th>\n",
       "      <td>beleza_saude</td>\n",
       "      <td>health_beauty</td>\n",
       "    </tr>\n",
       "    <tr>\n",
       "      <th>1</th>\n",
       "      <td>informatica_acessorios</td>\n",
       "      <td>computers_accessories</td>\n",
       "    </tr>\n",
       "    <tr>\n",
       "      <th>2</th>\n",
       "      <td>automotivo</td>\n",
       "      <td>auto</td>\n",
       "    </tr>\n",
       "    <tr>\n",
       "      <th>3</th>\n",
       "      <td>cama_mesa_banho</td>\n",
       "      <td>bed_bath_table</td>\n",
       "    </tr>\n",
       "    <tr>\n",
       "      <th>4</th>\n",
       "      <td>moveis_decoracao</td>\n",
       "      <td>furniture_decor</td>\n",
       "    </tr>\n",
       "    <tr>\n",
       "      <th>...</th>\n",
       "      <td>...</td>\n",
       "      <td>...</td>\n",
       "    </tr>\n",
       "    <tr>\n",
       "      <th>66</th>\n",
       "      <td>flores</td>\n",
       "      <td>flowers</td>\n",
       "    </tr>\n",
       "    <tr>\n",
       "      <th>67</th>\n",
       "      <td>artes_e_artesanato</td>\n",
       "      <td>arts_and_craftmanship</td>\n",
       "    </tr>\n",
       "    <tr>\n",
       "      <th>68</th>\n",
       "      <td>fraldas_higiene</td>\n",
       "      <td>diapers_and_hygiene</td>\n",
       "    </tr>\n",
       "    <tr>\n",
       "      <th>69</th>\n",
       "      <td>fashion_roupa_infanto_juvenil</td>\n",
       "      <td>fashion_childrens_clothes</td>\n",
       "    </tr>\n",
       "    <tr>\n",
       "      <th>70</th>\n",
       "      <td>seguros_e_servicos</td>\n",
       "      <td>security_and_services</td>\n",
       "    </tr>\n",
       "  </tbody>\n",
       "</table>\n",
       "<p>71 rows × 2 columns</p>\n",
       "</div>"
      ],
      "text/plain": [
       "            product_category_name product_category_name_english\n",
       "0                    beleza_saude                 health_beauty\n",
       "1          informatica_acessorios         computers_accessories\n",
       "2                      automotivo                          auto\n",
       "3                 cama_mesa_banho                bed_bath_table\n",
       "4                moveis_decoracao               furniture_decor\n",
       "..                            ...                           ...\n",
       "66                         flores                       flowers\n",
       "67             artes_e_artesanato         arts_and_craftmanship\n",
       "68                fraldas_higiene           diapers_and_hygiene\n",
       "69  fashion_roupa_infanto_juvenil     fashion_childrens_clothes\n",
       "70             seguros_e_servicos         security_and_services\n",
       "\n",
       "[71 rows x 2 columns]"
      ]
     },
     "execution_count": 214,
     "metadata": {},
     "output_type": "execute_result"
    }
   ],
   "source": [
    "df_category"
   ]
  },
  {
   "cell_type": "markdown",
   "id": "8b5dfd55-b04a-4475-9932-d60c38fe859c",
   "metadata": {},
   "source": [
    "Adicionando ambas categorias no (df_category)."
   ]
  },
  {
   "cell_type": "code",
   "execution_count": 216,
   "id": "afffeda5-e5fe-4365-9bd3-2c7b7f8ffa10",
   "metadata": {},
   "outputs": [],
   "source": [
    "novas_categorias = pd.DataFrame({\n",
    "    'product_category_name': ['pc_gamer', 'portateis_cozinha_e_preparadores_de_alimentos'],\n",
    "    'product_category_name_english': ['gaming_pc', 'portable_kitchen']\n",
    "})\n",
    "\n",
    "df_category = pd.concat([df_category, novas_categorias], ignore_index=True)"
   ]
  },
  {
   "cell_type": "code",
   "execution_count": 217,
   "id": "78eb5bcc-8550-463e-8c69-bfadb54a51e8",
   "metadata": {},
   "outputs": [
    {
     "data": {
      "text/html": [
       "<div>\n",
       "<style scoped>\n",
       "    .dataframe tbody tr th:only-of-type {\n",
       "        vertical-align: middle;\n",
       "    }\n",
       "\n",
       "    .dataframe tbody tr th {\n",
       "        vertical-align: top;\n",
       "    }\n",
       "\n",
       "    .dataframe thead th {\n",
       "        text-align: right;\n",
       "    }\n",
       "</style>\n",
       "<table border=\"1\" class=\"dataframe\">\n",
       "  <thead>\n",
       "    <tr style=\"text-align: right;\">\n",
       "      <th></th>\n",
       "      <th>product_category_name</th>\n",
       "      <th>product_category_name_english</th>\n",
       "    </tr>\n",
       "  </thead>\n",
       "  <tbody>\n",
       "    <tr>\n",
       "      <th>0</th>\n",
       "      <td>beleza_saude</td>\n",
       "      <td>health_beauty</td>\n",
       "    </tr>\n",
       "    <tr>\n",
       "      <th>1</th>\n",
       "      <td>informatica_acessorios</td>\n",
       "      <td>computers_accessories</td>\n",
       "    </tr>\n",
       "    <tr>\n",
       "      <th>2</th>\n",
       "      <td>automotivo</td>\n",
       "      <td>auto</td>\n",
       "    </tr>\n",
       "    <tr>\n",
       "      <th>3</th>\n",
       "      <td>cama_mesa_banho</td>\n",
       "      <td>bed_bath_table</td>\n",
       "    </tr>\n",
       "    <tr>\n",
       "      <th>4</th>\n",
       "      <td>moveis_decoracao</td>\n",
       "      <td>furniture_decor</td>\n",
       "    </tr>\n",
       "    <tr>\n",
       "      <th>...</th>\n",
       "      <td>...</td>\n",
       "      <td>...</td>\n",
       "    </tr>\n",
       "    <tr>\n",
       "      <th>68</th>\n",
       "      <td>fraldas_higiene</td>\n",
       "      <td>diapers_and_hygiene</td>\n",
       "    </tr>\n",
       "    <tr>\n",
       "      <th>69</th>\n",
       "      <td>fashion_roupa_infanto_juvenil</td>\n",
       "      <td>fashion_childrens_clothes</td>\n",
       "    </tr>\n",
       "    <tr>\n",
       "      <th>70</th>\n",
       "      <td>seguros_e_servicos</td>\n",
       "      <td>security_and_services</td>\n",
       "    </tr>\n",
       "    <tr>\n",
       "      <th>71</th>\n",
       "      <td>pc_gamer</td>\n",
       "      <td>gaming_pc</td>\n",
       "    </tr>\n",
       "    <tr>\n",
       "      <th>72</th>\n",
       "      <td>portateis_cozinha_e_preparadores_de_alimentos</td>\n",
       "      <td>portable_kitchen</td>\n",
       "    </tr>\n",
       "  </tbody>\n",
       "</table>\n",
       "<p>73 rows × 2 columns</p>\n",
       "</div>"
      ],
      "text/plain": [
       "                            product_category_name  \\\n",
       "0                                    beleza_saude   \n",
       "1                          informatica_acessorios   \n",
       "2                                      automotivo   \n",
       "3                                 cama_mesa_banho   \n",
       "4                                moveis_decoracao   \n",
       "..                                            ...   \n",
       "68                                fraldas_higiene   \n",
       "69                  fashion_roupa_infanto_juvenil   \n",
       "70                             seguros_e_servicos   \n",
       "71                                       pc_gamer   \n",
       "72  portateis_cozinha_e_preparadores_de_alimentos   \n",
       "\n",
       "   product_category_name_english  \n",
       "0                  health_beauty  \n",
       "1          computers_accessories  \n",
       "2                           auto  \n",
       "3                 bed_bath_table  \n",
       "4                furniture_decor  \n",
       "..                           ...  \n",
       "68           diapers_and_hygiene  \n",
       "69     fashion_childrens_clothes  \n",
       "70         security_and_services  \n",
       "71                     gaming_pc  \n",
       "72              portable_kitchen  \n",
       "\n",
       "[73 rows x 2 columns]"
      ]
     },
     "execution_count": 217,
     "metadata": {},
     "output_type": "execute_result"
    }
   ],
   "source": [
    "df_category"
   ]
  },
  {
   "cell_type": "markdown",
   "id": "01fefad0-b0ce-4b5e-a9c4-e33df5cc43a6",
   "metadata": {},
   "source": [
    "Vamos consultar novamente o dataframe df_product, e podemos perceber que todas as categorias estão com tradução."
   ]
  },
  {
   "cell_type": "code",
   "execution_count": 219,
   "id": "afef5773-810c-4ebe-8b61-e8dd44c775ac",
   "metadata": {},
   "outputs": [
    {
     "data": {
      "text/html": [
       "<div>\n",
       "<style scoped>\n",
       "    .dataframe tbody tr th:only-of-type {\n",
       "        vertical-align: middle;\n",
       "    }\n",
       "\n",
       "    .dataframe tbody tr th {\n",
       "        vertical-align: top;\n",
       "    }\n",
       "\n",
       "    .dataframe thead th {\n",
       "        text-align: right;\n",
       "    }\n",
       "</style>\n",
       "<table border=\"1\" class=\"dataframe\">\n",
       "  <thead>\n",
       "    <tr style=\"text-align: right;\">\n",
       "      <th></th>\n",
       "      <th>product_id</th>\n",
       "      <th>product_category_name</th>\n",
       "    </tr>\n",
       "  </thead>\n",
       "  <tbody>\n",
       "  </tbody>\n",
       "</table>\n",
       "</div>"
      ],
      "text/plain": [
       "Empty DataFrame\n",
       "Columns: [product_id, product_category_name]\n",
       "Index: []"
      ]
     },
     "execution_count": 219,
     "metadata": {},
     "output_type": "execute_result"
    }
   ],
   "source": [
    "df_bol = df_products[~df_products['product_category_name'].isin(df_category['product_category_name'])]\n",
    "df_bol_2 = df_bol[[\"product_id\", \"product_category_name\"]]\n",
    "df_bol_2"
   ]
  },
  {
   "cell_type": "markdown",
   "id": "ea72ddb8-3216-4ae4-87d1-19bbf19172bf",
   "metadata": {},
   "source": [
    "### c. Normalização dos Data Frames"
   ]
  },
  {
   "cell_type": "markdown",
   "id": "a11616d1-f620-486e-8a62-b81856b87cae",
   "metadata": {},
   "source": [
    "Nessa etapa do desafio, realizei a padronização e consistência das colunas dos DataFrames. Realizei etapas que não tinha executado anterior mente na etapa de limpeza de dados.\n",
    "\n",
    "1. Padronizei os nomes das colunas para o snake_case, minuscula, sem espaços e sem acentos;\n",
    "2. Verificação de colunas categóricas e conversão para formato consistente;\n",
    "3. Converti de colunas numéricas com tipo inadequado (price, freight_value) para o tipo float;\n",
    "4. Padronização de nomes de categorias de produtos traduzidas;\n",
    "5. Normalizei as colunas datatime para string, pois o sqlite não aceita o tipo de dados como datatime."
   ]
  },
  {
   "cell_type": "markdown",
   "id": "c31d70c8-c257-4a3e-b144-dfad4f388abd",
   "metadata": {},
   "source": [
    "Como algumas colunas podem ter letras maiusculas ou inconsistentes. Então vamos padronizar os seus nomes aplicando a normalizaçao snake_case."
   ]
  },
  {
   "cell_type": "code",
   "execution_count": 223,
   "id": "9d1512a5-53b8-4fbe-bfcb-a6a4e67fc448",
   "metadata": {},
   "outputs": [],
   "source": [
    "def normalizar_nomes_colunas(df):\n",
    "    df.columns = (\n",
    "        df.columns\n",
    "        .str.strip()                      # Remove espaços no início/fim do nome da coluna (isso foi feito anteriormente, mas vamos reforçar)\n",
    "        .str.lower()                      # Converte todas as letras dos valores para caracteres minúsculas\n",
    "        .str.replace(' ', '_')            # Substitui espaços por underline ( _ )\n",
    "        .str.replace('-', '_')            # Substitui hífens por underline ( _ )\n",
    "        .map(unidecode.unidecode)         # Remove caracteres especiais e acentos\n",
    "    )\n",
    "    return df\n",
    "\n",
    "# criação de uma lista com todos os dataframes a serem normalizados\n",
    "dfs = [df_orders, df_order_items, df_customers, df_geolocation, df_payments,\n",
    "       df_reviews, df_products, df_sellers, df_category]\n",
    "\n",
    "# aplicando a normalização em todos eles\n",
    "df_orders, df_order_items, df_customers, df_geolocation, df_payments, \\\n",
    "df_reviews, df_products, df_sellers, df_category = [normalizar_nomes_colunas(df) for df in dfs]"
   ]
  },
  {
   "cell_type": "code",
   "execution_count": 224,
   "id": "68281136-b57c-40e5-a5e2-dbddc2269050",
   "metadata": {},
   "outputs": [
    {
     "data": {
      "text/html": [
       "<div>\n",
       "<style scoped>\n",
       "    .dataframe tbody tr th:only-of-type {\n",
       "        vertical-align: middle;\n",
       "    }\n",
       "\n",
       "    .dataframe tbody tr th {\n",
       "        vertical-align: top;\n",
       "    }\n",
       "\n",
       "    .dataframe thead th {\n",
       "        text-align: right;\n",
       "    }\n",
       "</style>\n",
       "<table border=\"1\" class=\"dataframe\">\n",
       "  <thead>\n",
       "    <tr style=\"text-align: right;\">\n",
       "      <th></th>\n",
       "      <th>seller_id</th>\n",
       "      <th>seller_zip_code_prefix</th>\n",
       "      <th>seller_city</th>\n",
       "      <th>seller_state</th>\n",
       "    </tr>\n",
       "  </thead>\n",
       "  <tbody>\n",
       "    <tr>\n",
       "      <th>0</th>\n",
       "      <td>3442f8959a84dea7ee197c632cb2df15</td>\n",
       "      <td>13023</td>\n",
       "      <td>campinas</td>\n",
       "      <td>SP</td>\n",
       "    </tr>\n",
       "    <tr>\n",
       "      <th>1</th>\n",
       "      <td>d1b65fc7debc3361ea86b5f14c68d2e2</td>\n",
       "      <td>13844</td>\n",
       "      <td>mogi guacu</td>\n",
       "      <td>SP</td>\n",
       "    </tr>\n",
       "    <tr>\n",
       "      <th>2</th>\n",
       "      <td>ce3ad9de960102d0677a81f5d0bb7b2d</td>\n",
       "      <td>20031</td>\n",
       "      <td>rio de janeiro</td>\n",
       "      <td>RJ</td>\n",
       "    </tr>\n",
       "    <tr>\n",
       "      <th>3</th>\n",
       "      <td>c0f3eea2e14555b6faeea3dd58c1b1c3</td>\n",
       "      <td>4195</td>\n",
       "      <td>sao paulo</td>\n",
       "      <td>SP</td>\n",
       "    </tr>\n",
       "    <tr>\n",
       "      <th>4</th>\n",
       "      <td>51a04a8a6bdcb23deccc82b0b80742cf</td>\n",
       "      <td>12914</td>\n",
       "      <td>braganca paulista</td>\n",
       "      <td>SP</td>\n",
       "    </tr>\n",
       "    <tr>\n",
       "      <th>...</th>\n",
       "      <td>...</td>\n",
       "      <td>...</td>\n",
       "      <td>...</td>\n",
       "      <td>...</td>\n",
       "    </tr>\n",
       "    <tr>\n",
       "      <th>3090</th>\n",
       "      <td>98dddbc4601dd4443ca174359b237166</td>\n",
       "      <td>87111</td>\n",
       "      <td>sarandi</td>\n",
       "      <td>PR</td>\n",
       "    </tr>\n",
       "    <tr>\n",
       "      <th>3091</th>\n",
       "      <td>f8201cab383e484733266d1906e2fdfa</td>\n",
       "      <td>88137</td>\n",
       "      <td>palhoca</td>\n",
       "      <td>SC</td>\n",
       "    </tr>\n",
       "    <tr>\n",
       "      <th>3092</th>\n",
       "      <td>74871d19219c7d518d0090283e03c137</td>\n",
       "      <td>4650</td>\n",
       "      <td>sao paulo</td>\n",
       "      <td>SP</td>\n",
       "    </tr>\n",
       "    <tr>\n",
       "      <th>3093</th>\n",
       "      <td>e603cf3fec55f8697c9059638d6c8eb5</td>\n",
       "      <td>96080</td>\n",
       "      <td>pelotas</td>\n",
       "      <td>RS</td>\n",
       "    </tr>\n",
       "    <tr>\n",
       "      <th>3094</th>\n",
       "      <td>9e25199f6ef7e7c347120ff175652c3b</td>\n",
       "      <td>12051</td>\n",
       "      <td>taubate</td>\n",
       "      <td>SP</td>\n",
       "    </tr>\n",
       "  </tbody>\n",
       "</table>\n",
       "<p>3095 rows × 4 columns</p>\n",
       "</div>"
      ],
      "text/plain": [
       "                             seller_id  seller_zip_code_prefix  \\\n",
       "0     3442f8959a84dea7ee197c632cb2df15                   13023   \n",
       "1     d1b65fc7debc3361ea86b5f14c68d2e2                   13844   \n",
       "2     ce3ad9de960102d0677a81f5d0bb7b2d                   20031   \n",
       "3     c0f3eea2e14555b6faeea3dd58c1b1c3                    4195   \n",
       "4     51a04a8a6bdcb23deccc82b0b80742cf                   12914   \n",
       "...                                ...                     ...   \n",
       "3090  98dddbc4601dd4443ca174359b237166                   87111   \n",
       "3091  f8201cab383e484733266d1906e2fdfa                   88137   \n",
       "3092  74871d19219c7d518d0090283e03c137                    4650   \n",
       "3093  e603cf3fec55f8697c9059638d6c8eb5                   96080   \n",
       "3094  9e25199f6ef7e7c347120ff175652c3b                   12051   \n",
       "\n",
       "            seller_city seller_state  \n",
       "0              campinas           SP  \n",
       "1            mogi guacu           SP  \n",
       "2        rio de janeiro           RJ  \n",
       "3             sao paulo           SP  \n",
       "4     braganca paulista           SP  \n",
       "...                 ...          ...  \n",
       "3090            sarandi           PR  \n",
       "3091            palhoca           SC  \n",
       "3092          sao paulo           SP  \n",
       "3093            pelotas           RS  \n",
       "3094            taubate           SP  \n",
       "\n",
       "[3095 rows x 4 columns]"
      ]
     },
     "execution_count": 224,
     "metadata": {},
     "output_type": "execute_result"
    }
   ],
   "source": [
    "df_sellers"
   ]
  },
  {
   "cell_type": "markdown",
   "id": "c655ec1f-8bc2-4b60-b944-729fe2d125f3",
   "metadata": {},
   "source": [
    "Agora vamos normalizar os textos categóricos, como: cidades, estados, categorias e etc dos dataframes que são composto por esses valores. Nesse processo tratei os nomes das cidades em minusculos e as siglas em maiusculos."
   ]
  },
  {
   "cell_type": "code",
   "execution_count": 226,
   "id": "bc17deed-4b87-45e8-9121-aff47621472d",
   "metadata": {},
   "outputs": [],
   "source": [
    "# .str.lower() --> coloca as strings tudo em Minusculos\n",
    "# .str.upper() --> coloca as strings tudo em Maiusculos\n",
    "\n",
    "df_customers['customer_city'] = df_customers['customer_city'].str.lower()\n",
    "df_customers['customer_state'] = df_customers['customer_state'].str.upper()\n",
    "df_sellers['seller_city'] = df_sellers['seller_city'].str.lower()\n",
    "df_sellers['seller_state'] = df_sellers['seller_state'].str.upper()"
   ]
  },
  {
   "cell_type": "markdown",
   "id": "441e9794-78a0-4fd6-9843-bc77f00d3633",
   "metadata": {},
   "source": [
    "Verificando a normalização do dataframe (df_customers)."
   ]
  },
  {
   "cell_type": "code",
   "execution_count": 228,
   "id": "1d8694aa-e506-45e4-8538-0a1e8e6e199c",
   "metadata": {},
   "outputs": [
    {
     "data": {
      "text/html": [
       "<div>\n",
       "<style scoped>\n",
       "    .dataframe tbody tr th:only-of-type {\n",
       "        vertical-align: middle;\n",
       "    }\n",
       "\n",
       "    .dataframe tbody tr th {\n",
       "        vertical-align: top;\n",
       "    }\n",
       "\n",
       "    .dataframe thead th {\n",
       "        text-align: right;\n",
       "    }\n",
       "</style>\n",
       "<table border=\"1\" class=\"dataframe\">\n",
       "  <thead>\n",
       "    <tr style=\"text-align: right;\">\n",
       "      <th></th>\n",
       "      <th>customer_id</th>\n",
       "      <th>customer_unique_id</th>\n",
       "      <th>customer_zip_code_prefix</th>\n",
       "      <th>customer_city</th>\n",
       "      <th>customer_state</th>\n",
       "    </tr>\n",
       "  </thead>\n",
       "  <tbody>\n",
       "    <tr>\n",
       "      <th>0</th>\n",
       "      <td>06b8999e2fba1a1fbc88172c00ba8bc7</td>\n",
       "      <td>861eff4711a542e4b93843c6dd7febb0</td>\n",
       "      <td>14409</td>\n",
       "      <td>franca</td>\n",
       "      <td>SP</td>\n",
       "    </tr>\n",
       "    <tr>\n",
       "      <th>1</th>\n",
       "      <td>18955e83d337fd6b2def6b18a428ac77</td>\n",
       "      <td>290c77bc529b7ac935b93aa66c333dc3</td>\n",
       "      <td>9790</td>\n",
       "      <td>sao bernardo do campo</td>\n",
       "      <td>SP</td>\n",
       "    </tr>\n",
       "    <tr>\n",
       "      <th>2</th>\n",
       "      <td>4e7b3e00288586ebd08712fdd0374a03</td>\n",
       "      <td>060e732b5b29e8181a18229c7b0b2b5e</td>\n",
       "      <td>1151</td>\n",
       "      <td>sao paulo</td>\n",
       "      <td>SP</td>\n",
       "    </tr>\n",
       "    <tr>\n",
       "      <th>3</th>\n",
       "      <td>b2b6027bc5c5109e529d4dc6358b12c3</td>\n",
       "      <td>259dac757896d24d7702b9acbbff3f3c</td>\n",
       "      <td>8775</td>\n",
       "      <td>mogi das cruzes</td>\n",
       "      <td>SP</td>\n",
       "    </tr>\n",
       "    <tr>\n",
       "      <th>4</th>\n",
       "      <td>4f2d8ab171c80ec8364f7c12e35b23ad</td>\n",
       "      <td>345ecd01c38d18a9036ed96c73b8d066</td>\n",
       "      <td>13056</td>\n",
       "      <td>campinas</td>\n",
       "      <td>SP</td>\n",
       "    </tr>\n",
       "    <tr>\n",
       "      <th>...</th>\n",
       "      <td>...</td>\n",
       "      <td>...</td>\n",
       "      <td>...</td>\n",
       "      <td>...</td>\n",
       "      <td>...</td>\n",
       "    </tr>\n",
       "    <tr>\n",
       "      <th>99436</th>\n",
       "      <td>17ddf5dd5d51696bb3d7c6291687be6f</td>\n",
       "      <td>1a29b476fee25c95fbafc67c5ac95cf8</td>\n",
       "      <td>3937</td>\n",
       "      <td>sao paulo</td>\n",
       "      <td>SP</td>\n",
       "    </tr>\n",
       "    <tr>\n",
       "      <th>99437</th>\n",
       "      <td>e7b71a9017aa05c9a7fd292d714858e8</td>\n",
       "      <td>d52a67c98be1cf6a5c84435bd38d095d</td>\n",
       "      <td>6764</td>\n",
       "      <td>taboao da serra</td>\n",
       "      <td>SP</td>\n",
       "    </tr>\n",
       "    <tr>\n",
       "      <th>99438</th>\n",
       "      <td>5e28dfe12db7fb50a4b2f691faecea5e</td>\n",
       "      <td>e9f50caf99f032f0bf3c55141f019d99</td>\n",
       "      <td>60115</td>\n",
       "      <td>fortaleza</td>\n",
       "      <td>CE</td>\n",
       "    </tr>\n",
       "    <tr>\n",
       "      <th>99439</th>\n",
       "      <td>56b18e2166679b8a959d72dd06da27f9</td>\n",
       "      <td>73c2643a0a458b49f58cea58833b192e</td>\n",
       "      <td>92120</td>\n",
       "      <td>canoas</td>\n",
       "      <td>RS</td>\n",
       "    </tr>\n",
       "    <tr>\n",
       "      <th>99440</th>\n",
       "      <td>274fa6071e5e17fe303b9748641082c8</td>\n",
       "      <td>84732c5050c01db9b23e19ba39899398</td>\n",
       "      <td>6703</td>\n",
       "      <td>cotia</td>\n",
       "      <td>SP</td>\n",
       "    </tr>\n",
       "  </tbody>\n",
       "</table>\n",
       "<p>99441 rows × 5 columns</p>\n",
       "</div>"
      ],
      "text/plain": [
       "                            customer_id                customer_unique_id  \\\n",
       "0      06b8999e2fba1a1fbc88172c00ba8bc7  861eff4711a542e4b93843c6dd7febb0   \n",
       "1      18955e83d337fd6b2def6b18a428ac77  290c77bc529b7ac935b93aa66c333dc3   \n",
       "2      4e7b3e00288586ebd08712fdd0374a03  060e732b5b29e8181a18229c7b0b2b5e   \n",
       "3      b2b6027bc5c5109e529d4dc6358b12c3  259dac757896d24d7702b9acbbff3f3c   \n",
       "4      4f2d8ab171c80ec8364f7c12e35b23ad  345ecd01c38d18a9036ed96c73b8d066   \n",
       "...                                 ...                               ...   \n",
       "99436  17ddf5dd5d51696bb3d7c6291687be6f  1a29b476fee25c95fbafc67c5ac95cf8   \n",
       "99437  e7b71a9017aa05c9a7fd292d714858e8  d52a67c98be1cf6a5c84435bd38d095d   \n",
       "99438  5e28dfe12db7fb50a4b2f691faecea5e  e9f50caf99f032f0bf3c55141f019d99   \n",
       "99439  56b18e2166679b8a959d72dd06da27f9  73c2643a0a458b49f58cea58833b192e   \n",
       "99440  274fa6071e5e17fe303b9748641082c8  84732c5050c01db9b23e19ba39899398   \n",
       "\n",
       "       customer_zip_code_prefix          customer_city customer_state  \n",
       "0                         14409                 franca             SP  \n",
       "1                          9790  sao bernardo do campo             SP  \n",
       "2                          1151              sao paulo             SP  \n",
       "3                          8775        mogi das cruzes             SP  \n",
       "4                         13056               campinas             SP  \n",
       "...                         ...                    ...            ...  \n",
       "99436                      3937              sao paulo             SP  \n",
       "99437                      6764        taboao da serra             SP  \n",
       "99438                     60115              fortaleza             CE  \n",
       "99439                     92120                 canoas             RS  \n",
       "99440                      6703                  cotia             SP  \n",
       "\n",
       "[99441 rows x 5 columns]"
      ]
     },
     "execution_count": 228,
     "metadata": {},
     "output_type": "execute_result"
    }
   ],
   "source": [
    "df_customers"
   ]
  },
  {
   "cell_type": "markdown",
   "id": "f3cea7db-52a2-48f9-b803-8a6354d3292f",
   "metadata": {},
   "source": [
    "Verificando a normalização do dataframe (df_sellers)."
   ]
  },
  {
   "cell_type": "code",
   "execution_count": 230,
   "id": "1eb77e24-02d1-46e3-b898-2cf42e23b0a7",
   "metadata": {},
   "outputs": [
    {
     "data": {
      "text/html": [
       "<div>\n",
       "<style scoped>\n",
       "    .dataframe tbody tr th:only-of-type {\n",
       "        vertical-align: middle;\n",
       "    }\n",
       "\n",
       "    .dataframe tbody tr th {\n",
       "        vertical-align: top;\n",
       "    }\n",
       "\n",
       "    .dataframe thead th {\n",
       "        text-align: right;\n",
       "    }\n",
       "</style>\n",
       "<table border=\"1\" class=\"dataframe\">\n",
       "  <thead>\n",
       "    <tr style=\"text-align: right;\">\n",
       "      <th></th>\n",
       "      <th>seller_id</th>\n",
       "      <th>seller_zip_code_prefix</th>\n",
       "      <th>seller_city</th>\n",
       "      <th>seller_state</th>\n",
       "    </tr>\n",
       "  </thead>\n",
       "  <tbody>\n",
       "    <tr>\n",
       "      <th>0</th>\n",
       "      <td>3442f8959a84dea7ee197c632cb2df15</td>\n",
       "      <td>13023</td>\n",
       "      <td>campinas</td>\n",
       "      <td>SP</td>\n",
       "    </tr>\n",
       "    <tr>\n",
       "      <th>1</th>\n",
       "      <td>d1b65fc7debc3361ea86b5f14c68d2e2</td>\n",
       "      <td>13844</td>\n",
       "      <td>mogi guacu</td>\n",
       "      <td>SP</td>\n",
       "    </tr>\n",
       "    <tr>\n",
       "      <th>2</th>\n",
       "      <td>ce3ad9de960102d0677a81f5d0bb7b2d</td>\n",
       "      <td>20031</td>\n",
       "      <td>rio de janeiro</td>\n",
       "      <td>RJ</td>\n",
       "    </tr>\n",
       "    <tr>\n",
       "      <th>3</th>\n",
       "      <td>c0f3eea2e14555b6faeea3dd58c1b1c3</td>\n",
       "      <td>4195</td>\n",
       "      <td>sao paulo</td>\n",
       "      <td>SP</td>\n",
       "    </tr>\n",
       "    <tr>\n",
       "      <th>4</th>\n",
       "      <td>51a04a8a6bdcb23deccc82b0b80742cf</td>\n",
       "      <td>12914</td>\n",
       "      <td>braganca paulista</td>\n",
       "      <td>SP</td>\n",
       "    </tr>\n",
       "    <tr>\n",
       "      <th>...</th>\n",
       "      <td>...</td>\n",
       "      <td>...</td>\n",
       "      <td>...</td>\n",
       "      <td>...</td>\n",
       "    </tr>\n",
       "    <tr>\n",
       "      <th>3090</th>\n",
       "      <td>98dddbc4601dd4443ca174359b237166</td>\n",
       "      <td>87111</td>\n",
       "      <td>sarandi</td>\n",
       "      <td>PR</td>\n",
       "    </tr>\n",
       "    <tr>\n",
       "      <th>3091</th>\n",
       "      <td>f8201cab383e484733266d1906e2fdfa</td>\n",
       "      <td>88137</td>\n",
       "      <td>palhoca</td>\n",
       "      <td>SC</td>\n",
       "    </tr>\n",
       "    <tr>\n",
       "      <th>3092</th>\n",
       "      <td>74871d19219c7d518d0090283e03c137</td>\n",
       "      <td>4650</td>\n",
       "      <td>sao paulo</td>\n",
       "      <td>SP</td>\n",
       "    </tr>\n",
       "    <tr>\n",
       "      <th>3093</th>\n",
       "      <td>e603cf3fec55f8697c9059638d6c8eb5</td>\n",
       "      <td>96080</td>\n",
       "      <td>pelotas</td>\n",
       "      <td>RS</td>\n",
       "    </tr>\n",
       "    <tr>\n",
       "      <th>3094</th>\n",
       "      <td>9e25199f6ef7e7c347120ff175652c3b</td>\n",
       "      <td>12051</td>\n",
       "      <td>taubate</td>\n",
       "      <td>SP</td>\n",
       "    </tr>\n",
       "  </tbody>\n",
       "</table>\n",
       "<p>3095 rows × 4 columns</p>\n",
       "</div>"
      ],
      "text/plain": [
       "                             seller_id  seller_zip_code_prefix  \\\n",
       "0     3442f8959a84dea7ee197c632cb2df15                   13023   \n",
       "1     d1b65fc7debc3361ea86b5f14c68d2e2                   13844   \n",
       "2     ce3ad9de960102d0677a81f5d0bb7b2d                   20031   \n",
       "3     c0f3eea2e14555b6faeea3dd58c1b1c3                    4195   \n",
       "4     51a04a8a6bdcb23deccc82b0b80742cf                   12914   \n",
       "...                                ...                     ...   \n",
       "3090  98dddbc4601dd4443ca174359b237166                   87111   \n",
       "3091  f8201cab383e484733266d1906e2fdfa                   88137   \n",
       "3092  74871d19219c7d518d0090283e03c137                    4650   \n",
       "3093  e603cf3fec55f8697c9059638d6c8eb5                   96080   \n",
       "3094  9e25199f6ef7e7c347120ff175652c3b                   12051   \n",
       "\n",
       "            seller_city seller_state  \n",
       "0              campinas           SP  \n",
       "1            mogi guacu           SP  \n",
       "2        rio de janeiro           RJ  \n",
       "3             sao paulo           SP  \n",
       "4     braganca paulista           SP  \n",
       "...                 ...          ...  \n",
       "3090            sarandi           PR  \n",
       "3091            palhoca           SC  \n",
       "3092          sao paulo           SP  \n",
       "3093            pelotas           RS  \n",
       "3094            taubate           SP  \n",
       "\n",
       "[3095 rows x 4 columns]"
      ]
     },
     "execution_count": 230,
     "metadata": {},
     "output_type": "execute_result"
    }
   ],
   "source": [
    "df_sellers"
   ]
  },
  {
   "cell_type": "markdown",
   "id": "a1b2c914-4e9b-4616-b4ef-a6c07c30ecf5",
   "metadata": {},
   "source": [
    "Vamor normalizar colunas numericas do dataframe (df_order_items) que podem estar com valores de strings, estão vamos normalizar para que elas recebam valores somente inteiros ou floats"
   ]
  },
  {
   "cell_type": "code",
   "execution_count": 232,
   "id": "6961790f-1581-4662-8b78-88821b0175c0",
   "metadata": {},
   "outputs": [],
   "source": [
    "# pd.to_numeric() converte coolunas para tipo float ou int, depedento de como a string esta informada.\n",
    "# errors='coerce' transforma valores com anomalias em NaN, evitando erro de codigo.\n",
    "\n",
    "df_order_items['price'] = pd.to_numeric(df_order_items['price'], errors='coerce')\n",
    "df_order_items['freight_value'] = pd.to_numeric(df_order_items['freight_value'], errors='coerce')"
   ]
  },
  {
   "cell_type": "markdown",
   "id": "2083e0db-3b04-41e1-a941-4e55dc241e58",
   "metadata": {},
   "source": [
    "Verificando os tipos após conversão."
   ]
  },
  {
   "cell_type": "code",
   "execution_count": 234,
   "id": "7e203657-66ff-4b31-a487-819147e9a8a2",
   "metadata": {},
   "outputs": [
    {
     "name": "stdout",
     "output_type": "stream",
     "text": [
      "<class 'pandas.core.frame.DataFrame'>\n",
      "RangeIndex: 112650 entries, 0 to 112649\n",
      "Data columns (total 7 columns):\n",
      " #   Column               Non-Null Count   Dtype  \n",
      "---  ------               --------------   -----  \n",
      " 0   order_id             112650 non-null  object \n",
      " 1   order_item_id        112650 non-null  int64  \n",
      " 2   product_id           112650 non-null  object \n",
      " 3   seller_id            112650 non-null  object \n",
      " 4   shipping_limit_date  112650 non-null  object \n",
      " 5   price                112650 non-null  float64\n",
      " 6   freight_value        112650 non-null  float64\n",
      "dtypes: float64(2), int64(1), object(4)\n",
      "memory usage: 6.0+ MB\n"
     ]
    }
   ],
   "source": [
    "df_order_items.info()"
   ]
  },
  {
   "cell_type": "markdown",
   "id": "5688ff5a-dfd0-4c30-8d5a-5d78c32d9a50",
   "metadata": {},
   "source": [
    "Vamos agora padronizar o dataframe df_category. É interessante garantir que as traduções estejam limpas e minúsculas para melhor analises futuras."
   ]
  },
  {
   "cell_type": "code",
   "execution_count": 236,
   "id": "07cde629-70e8-4fd7-8a2b-f916a5c11146",
   "metadata": {},
   "outputs": [],
   "source": [
    "# Transformando todas as string em minusculos\n",
    "df_category['product_category_name'] = df_category['product_category_name'].str.lower()\n",
    "df_category['product_category_name_english'] = df_category['product_category_name_english'].str.lower()\n",
    "\n",
    "# Substituir strings com espaços por underlines\n",
    "df_category['product_category_name_english'] = df_category['product_category_name_english'].str.replace(' ', '_')\n",
    "\n",
    "# Remover acentos e caracteres especiais das strings\n",
    "df_category['product_category_name'] = df_category['product_category_name'].apply(unidecode.unidecode)\n",
    "df_category['product_category_name_english'] = df_category['product_category_name_english'].apply(unidecode.unidecode)"
   ]
  },
  {
   "cell_type": "markdown",
   "id": "2bf163f5-0841-4175-a192-e2de34cc40e1",
   "metadata": {},
   "source": [
    "Agora vamos normalizar as colunas que são datetime, para string. Pois o SQLite não reconhece tipos datetime. Então criei uma função generica."
   ]
  },
  {
   "cell_type": "code",
   "execution_count": 238,
   "id": "9bebadc4-d5f2-4f3b-80ba-407607bd139d",
   "metadata": {},
   "outputs": [
    {
     "name": "stdout",
     "output_type": "stream",
     "text": [
      "<class 'pandas.core.frame.DataFrame'>\n",
      "RangeIndex: 99224 entries, 0 to 99223\n",
      "Data columns (total 7 columns):\n",
      " #   Column                   Non-Null Count  Dtype         \n",
      "---  ------                   --------------  -----         \n",
      " 0   review_id                99224 non-null  object        \n",
      " 1   order_id                 99224 non-null  object        \n",
      " 2   review_score             99224 non-null  category      \n",
      " 3   review_comment_title     11568 non-null  object        \n",
      " 4   review_comment_message   40977 non-null  object        \n",
      " 5   review_creation_date     99224 non-null  datetime64[ns]\n",
      " 6   review_answer_timestamp  99224 non-null  datetime64[ns]\n",
      "dtypes: category(1), datetime64[ns](2), object(4)\n",
      "memory usage: 4.6+ MB\n"
     ]
    }
   ],
   "source": [
    "df_reviews.info()"
   ]
  },
  {
   "cell_type": "code",
   "execution_count": 239,
   "id": "17bb49b7-730a-4f6e-9335-e3832824fa08",
   "metadata": {},
   "outputs": [
    {
     "name": "stdout",
     "output_type": "stream",
     "text": [
      "<class 'pandas.core.frame.DataFrame'>\n",
      "RangeIndex: 99441 entries, 0 to 99440\n",
      "Data columns (total 8 columns):\n",
      " #   Column                         Non-Null Count  Dtype         \n",
      "---  ------                         --------------  -----         \n",
      " 0   order_id                       99441 non-null  object        \n",
      " 1   customer_id                    99441 non-null  object        \n",
      " 2   order_status                   99441 non-null  category      \n",
      " 3   order_purchase_timestamp       99441 non-null  datetime64[ns]\n",
      " 4   order_approved_at              99281 non-null  datetime64[ns]\n",
      " 5   order_delivered_carrier_date   97658 non-null  datetime64[ns]\n",
      " 6   order_delivered_customer_date  96476 non-null  datetime64[ns]\n",
      " 7   order_estimated_delivery_date  99441 non-null  datetime64[ns]\n",
      "dtypes: category(1), datetime64[ns](5), object(2)\n",
      "memory usage: 5.4+ MB\n"
     ]
    }
   ],
   "source": [
    "df_orders.info()"
   ]
  },
  {
   "cell_type": "code",
   "execution_count": 240,
   "id": "ed748a26-d61a-4b5f-bdf7-3f0974235383",
   "metadata": {},
   "outputs": [],
   "source": [
    "# Função genérica\n",
    "def converter(df, colunas_datetime):\n",
    "    for col in colunas_datetime:\n",
    "        if col in df.columns:\n",
    "            df[col] = df[col].astype(str)\n",
    "    return df\n",
    "\n",
    "# Colunas dos dataflamers\n",
    "date_orders = [\n",
    "    'order_delivered_carrier_date',\n",
    "    'order_approved_at',\n",
    "    'order_delivered_customer_date',\n",
    "    'order_purchase_timestamp',\n",
    "    'order_estimated_delivery_date'\n",
    "]\n",
    "\n",
    "date_reviews = [\n",
    "    'review_creation_date',\n",
    "    'review_answer_timestamp'\n",
    "]\n",
    "\n",
    "df_orders = converter(df_orders, date_orders)\n",
    "df_reviews = converter(df_reviews, date_reviews)"
   ]
  },
  {
   "cell_type": "code",
   "execution_count": 241,
   "id": "d02857ce-dca5-46ca-bc0f-d8799e7b18ad",
   "metadata": {},
   "outputs": [
    {
     "name": "stdout",
     "output_type": "stream",
     "text": [
      "<class 'pandas.core.frame.DataFrame'>\n",
      "RangeIndex: 99441 entries, 0 to 99440\n",
      "Data columns (total 8 columns):\n",
      " #   Column                         Non-Null Count  Dtype   \n",
      "---  ------                         --------------  -----   \n",
      " 0   order_id                       99441 non-null  object  \n",
      " 1   customer_id                    99441 non-null  object  \n",
      " 2   order_status                   99441 non-null  category\n",
      " 3   order_purchase_timestamp       99441 non-null  object  \n",
      " 4   order_approved_at              99441 non-null  object  \n",
      " 5   order_delivered_carrier_date   99441 non-null  object  \n",
      " 6   order_delivered_customer_date  99441 non-null  object  \n",
      " 7   order_estimated_delivery_date  99441 non-null  object  \n",
      "dtypes: category(1), object(7)\n",
      "memory usage: 5.4+ MB\n"
     ]
    }
   ],
   "source": [
    "df_orders.info()"
   ]
  },
  {
   "cell_type": "code",
   "execution_count": 242,
   "id": "0504cbe5-c041-4e9f-ae14-021885a0c908",
   "metadata": {},
   "outputs": [
    {
     "name": "stdout",
     "output_type": "stream",
     "text": [
      "<class 'pandas.core.frame.DataFrame'>\n",
      "RangeIndex: 99224 entries, 0 to 99223\n",
      "Data columns (total 7 columns):\n",
      " #   Column                   Non-Null Count  Dtype   \n",
      "---  ------                   --------------  -----   \n",
      " 0   review_id                99224 non-null  object  \n",
      " 1   order_id                 99224 non-null  object  \n",
      " 2   review_score             99224 non-null  category\n",
      " 3   review_comment_title     11568 non-null  object  \n",
      " 4   review_comment_message   40977 non-null  object  \n",
      " 5   review_creation_date     99224 non-null  object  \n",
      " 6   review_answer_timestamp  99224 non-null  object  \n",
      "dtypes: category(1), object(6)\n",
      "memory usage: 4.6+ MB\n"
     ]
    }
   ],
   "source": [
    "df_reviews.info()"
   ]
  },
  {
   "cell_type": "markdown",
   "id": "27193b90-6617-4e07-8f41-13a1a7610406",
   "metadata": {},
   "source": [
    "### d. Criar um modelo relacional e conectar as tabelas adequadamente"
   ]
  },
  {
   "cell_type": "markdown",
   "id": "f4b1f3e7-7df4-4fb7-8d38-7cd95220b5ec",
   "metadata": {},
   "source": [
    "Nesta etapa do desafio eu realizei:\n",
    "1. Importação da biblioteca Sqlite3;\n",
    "2. Criação do banco de dados chamado (ecommerce.db);\n",
    "3. Estabeleci uma conexão com o banco de dados;\n",
    "4. Inseri as tabelas no banco de dados;\n",
    "5. Estabeleci devidamente o modelo relacional com chaves primarias e estrangeiras;\n",
    "6. Verifiquei se as tabelas realmente foram criadas de forma correta;\n",
    "7. Verifiquei sua estrutura e ações como: exclusão em cascata, e restrições de não ter dados em brancos (not-null)."
   ]
  },
  {
   "cell_type": "markdown",
   "id": "e23d7f08-a328-4f28-876e-39dcbb4ea618",
   "metadata": {},
   "source": [
    "Importando a biblioteca Sqlite3"
   ]
  },
  {
   "cell_type": "code",
   "execution_count": 246,
   "id": "09017411-5e29-4940-b9a2-c123c51ffee2",
   "metadata": {},
   "outputs": [],
   "source": [
    "# Importando a biblioteca do sqlite3\n",
    "import sqlite3"
   ]
  },
  {
   "cell_type": "markdown",
   "id": "6536e4d7-7d8f-44de-908b-a6366ca6f68a",
   "metadata": {},
   "source": [
    "Criando o banco de dados com o Sqlite3 e realizando coneção"
   ]
  },
  {
   "cell_type": "code",
   "execution_count": 248,
   "id": "90f82519-bea3-46f9-9c55-34a813d546a0",
   "metadata": {},
   "outputs": [],
   "source": [
    "# Criacão do banco de dados sqlite e estabelecendo conexão com o banco de dados.\n",
    "conn = sqlite3.connect(\"ecommerce.db\")\n",
    "cursor = conn.cursor()\n",
    "\n",
    "# comando para encerrar a conexão com o banco de dados --> conn.close()"
   ]
  },
  {
   "cell_type": "markdown",
   "id": "78503387-d249-48d9-8c04-a036e339e02c",
   "metadata": {},
   "source": [
    "Inserindo os dataframes no banco de dados."
   ]
  },
  {
   "cell_type": "code",
   "execution_count": 250,
   "id": "ba3e41ea-de80-43cd-9a17-99d82f0334f4",
   "metadata": {},
   "outputs": [],
   "source": [
    "cursor.execute(\"\"\"\n",
    "CREATE TABLE IF NOT EXISTS customers (\n",
    "    customer_id TEXT PRIMARY KEY,\n",
    "    customer_unique_id TEXT,\n",
    "    customer_zip_code_prefix INTEGER,\n",
    "    customer_city TEXT,\n",
    "    customer_state TEXT\n",
    ");\n",
    "\"\"\")\n",
    "\n",
    "cursor.execute(\"\"\"\n",
    "CREATE TABLE IF NOT EXISTS orders (\n",
    "    order_id TEXT PRIMARY KEY,\n",
    "    customer_id TEXT,\n",
    "    order_status TEXT,\n",
    "    order_purchase_timestamp TEXT,\n",
    "    order_approved_at TEXT,\n",
    "    order_delivered_carrier_date TEXT,\n",
    "    order_delivered_customer_date TEXT,\n",
    "    order_estimated_delivery_date TEXT,\n",
    "    FOREIGN KEY (customer_id) REFERENCES customers(customer_id)\n",
    ");\n",
    "\"\"\")\n",
    "\n",
    "cursor.execute(\"\"\"\n",
    "CREATE TABLE IF NOT EXISTS products (\n",
    "    product_id TEXT PRIMARY KEY,\n",
    "    product_category_name TEXT,\n",
    "    product_name_lenght REAL,\n",
    "    product_description_lenght REAL,\n",
    "    product_photos_qty INTEGER,\n",
    "    product_weight_g REAL,\n",
    "    product_length_cm REAL,\n",
    "    product_height_cm REAL,\n",
    "    product_width_cm REAL\n",
    ");\n",
    "\"\"\")\n",
    "\n",
    "cursor.execute(\"\"\"\n",
    "CREATE TABLE IF NOT EXISTS order_items (\n",
    "    order_id TEXT,\n",
    "    order_item_id INTEGER,\n",
    "    product_id TEXT,\n",
    "    seller_id TEXT,\n",
    "    shipping_limit_date TEXT,\n",
    "    price REAL,\n",
    "    freight_value REAL,\n",
    "    PRIMARY KEY (order_id, order_item_id),\n",
    "    FOREIGN KEY (order_id) REFERENCES orders(order_id),\n",
    "    FOREIGN KEY (product_id) REFERENCES products(product_id),\n",
    "    FOREIGN KEY (seller_id) REFERENCES sellers(seller_id)\n",
    ");\n",
    "\"\"\")\n",
    "\n",
    "cursor.execute(\"\"\"\n",
    "CREATE TABLE IF NOT EXISTS sellers (\n",
    "    seller_id TEXT PRIMARY KEY,\n",
    "    seller_zip_code_prefix INTEGER,\n",
    "    seller_city TEXT,\n",
    "    seller_state TEXT\n",
    ");\n",
    "\"\"\")\n",
    "\n",
    "cursor.execute(\"\"\"\n",
    "CREATE TABLE IF NOT EXISTS order_payments (\n",
    "    order_id TEXT,\n",
    "    payment_sequential INTEGER,\n",
    "    payment_type TEXT,\n",
    "    payment_installments INTEGER,\n",
    "    payment_value REAL,\n",
    "    FOREIGN KEY (order_id) REFERENCES orders(order_id)\n",
    ");\n",
    "\"\"\")\n",
    "\n",
    "cursor.execute(\"\"\"\n",
    "CREATE TABLE IF NOT EXISTS order_reviews (\n",
    "    review_id TEXT KEY,\n",
    "    order_id TEXT,\n",
    "    review_score INTEGER,\n",
    "    review_comment_title TEXT,\n",
    "    review_comment_message TEXT,\n",
    "    review_creation_date TEXT,\n",
    "    review_answer_timestamp TEXT,\n",
    "    FOREIGN KEY (order_id) REFERENCES orders(order_id)\n",
    ");\n",
    "\"\"\")\n",
    "\n",
    "cursor.execute(\"\"\"\n",
    "CREATE TABLE IF NOT EXISTS geolocation (\n",
    "    geolocation_zip_code_prefix INTEGER,\n",
    "    geolocation_lat REAL,\n",
    "    geolocation_lng REAL,\n",
    "    geolocation_city TEXT,\n",
    "    geolocation_state TEXT\n",
    ");\n",
    "\"\"\")\n",
    "\n",
    "cursor.execute(\"\"\"\n",
    "CREATE TABLE IF NOT EXISTS product_category_name_translation (\n",
    "    product_category_name TEXT PRIMARY KEY,\n",
    "    product_category_name_english TEXT\n",
    ");\n",
    "\"\"\")\n",
    "\n",
    "# Salvando as alterações\n",
    "conn.commit()"
   ]
  },
  {
   "cell_type": "markdown",
   "id": "b1c6e162-61cb-422c-87f6-0a50c378ac0c",
   "metadata": {},
   "source": [
    "Verificando se a inserção dos dataframes realmente funcionou."
   ]
  },
  {
   "cell_type": "code",
   "execution_count": 252,
   "id": "bb8aedad-f52e-4743-bc02-0eced257a162",
   "metadata": {},
   "outputs": [
    {
     "name": "stdout",
     "output_type": "stream",
     "text": [
      "customers                          order_reviews                    \n",
      "geo_por_cep                        orders                           \n",
      "geolocation                        product_category_name_translation\n",
      "order_items                        products                         \n",
      "order_payments                     sellers                          \n"
     ]
    }
   ],
   "source": [
    "!sqlite3 ecommerce.db \".tables\""
   ]
  },
  {
   "cell_type": "markdown",
   "id": "6f487628-add4-460c-8263-b97e515dc378",
   "metadata": {},
   "source": [
    "Ok, esta tudo certo. Agora vamos verificar a estrura das tabelas. Chaves primarias (PK), Estrangeiras (FK) e ações como exclusão em cascata dos dados e se aceita as colunas das tabelas sem dados ou não."
   ]
  },
  {
   "cell_type": "code",
   "execution_count": 254,
   "id": "19a81352-258c-40bc-9c47-b2f756d7de3a",
   "metadata": {},
   "outputs": [
    {
     "name": "stdout",
     "output_type": "stream",
     "text": [
      "\n",
      "##################################  order_items  #####################################\n",
      "\n",
      "Informacoes da tabela:\n",
      "Coluna: order_id, ||Tipo: TEXT||, ||Not Null: 0||, ||PK: 1||\n",
      "Coluna: order_item_id, ||Tipo: INTEGER||, ||Not Null: 0||, ||PK: 2||\n",
      "Coluna: product_id, ||Tipo: TEXT||, ||Not Null: 0||, ||PK: 0||\n",
      "Coluna: seller_id, ||Tipo: TEXT||, ||Not Null: 0||, ||PK: 0||\n",
      "Coluna: shipping_limit_date, ||Tipo: TEXT||, ||Not Null: 0||, ||PK: 0||\n",
      "Coluna: price, ||Tipo: REAL||, ||Not Null: 0||, ||PK: 0||\n",
      "Coluna: freight_value, ||Tipo: REAL||, ||Not Null: 0||, ||PK: 0||\n",
      "\n",
      "Chaves estrangeiras:\n",
      "[De 'seller_id' -> 'sellers.seller_id'] | <<on update: NO ACTION>> << on delete: NO ACTION>>\n",
      "[De 'product_id' -> 'products.product_id'] | <<on update: NO ACTION>> << on delete: NO ACTION>>\n",
      "[De 'order_id' -> 'orders.order_id'] | <<on update: NO ACTION>> << on delete: NO ACTION>>\n",
      "\n",
      "##################################  order_payments  #####################################\n",
      "\n",
      "Informacoes da tabela:\n",
      "Coluna: order_id, ||Tipo: TEXT||, ||Not Null: 0||, ||PK: 0||\n",
      "Coluna: payment_sequential, ||Tipo: INTEGER||, ||Not Null: 0||, ||PK: 0||\n",
      "Coluna: payment_type, ||Tipo: TEXT||, ||Not Null: 0||, ||PK: 0||\n",
      "Coluna: payment_installments, ||Tipo: INTEGER||, ||Not Null: 0||, ||PK: 0||\n",
      "Coluna: payment_value, ||Tipo: REAL||, ||Not Null: 0||, ||PK: 0||\n",
      "\n",
      "Chaves estrangeiras:\n",
      "[De 'order_id' -> 'orders.order_id'] | <<on update: NO ACTION>> << on delete: NO ACTION>>\n",
      "\n",
      "##################################  order_reviews  #####################################\n",
      "\n",
      "Informacoes da tabela:\n",
      "Coluna: review_id, ||Tipo: TEXT KEY||, ||Not Null: 0||, ||PK: 0||\n",
      "Coluna: order_id, ||Tipo: TEXT||, ||Not Null: 0||, ||PK: 0||\n",
      "Coluna: review_score, ||Tipo: INTEGER||, ||Not Null: 0||, ||PK: 0||\n",
      "Coluna: review_comment_title, ||Tipo: TEXT||, ||Not Null: 0||, ||PK: 0||\n",
      "Coluna: review_comment_message, ||Tipo: TEXT||, ||Not Null: 0||, ||PK: 0||\n",
      "Coluna: review_creation_date, ||Tipo: TEXT||, ||Not Null: 0||, ||PK: 0||\n",
      "Coluna: review_answer_timestamp, ||Tipo: TEXT||, ||Not Null: 0||, ||PK: 0||\n",
      "\n",
      "Chaves estrangeiras:\n",
      "[De 'order_id' -> 'orders.order_id'] | <<on update: NO ACTION>> << on delete: NO ACTION>>\n",
      "\n",
      "##################################  products  #####################################\n",
      "\n",
      "Informacoes da tabela:\n",
      "Coluna: product_id, ||Tipo: TEXT||, ||Not Null: 0||, ||PK: 1||\n",
      "Coluna: product_category_name, ||Tipo: TEXT||, ||Not Null: 0||, ||PK: 0||\n",
      "Coluna: product_name_lenght, ||Tipo: REAL||, ||Not Null: 0||, ||PK: 0||\n",
      "Coluna: product_description_lenght, ||Tipo: REAL||, ||Not Null: 0||, ||PK: 0||\n",
      "Coluna: product_photos_qty, ||Tipo: INTEGER||, ||Not Null: 0||, ||PK: 0||\n",
      "Coluna: product_weight_g, ||Tipo: REAL||, ||Not Null: 0||, ||PK: 0||\n",
      "Coluna: product_length_cm, ||Tipo: REAL||, ||Not Null: 0||, ||PK: 0||\n",
      "Coluna: product_height_cm, ||Tipo: REAL||, ||Not Null: 0||, ||PK: 0||\n",
      "Coluna: product_width_cm, ||Tipo: REAL||, ||Not Null: 0||, ||PK: 0||\n",
      "\n",
      "Chaves estrangeiras:\n",
      "Sem chaves estrangeiras definidas.\n",
      "\n",
      "##################################  orders  #####################################\n",
      "\n",
      "Informacoes da tabela:\n",
      "Coluna: order_id, ||Tipo: TEXT||, ||Not Null: 0||, ||PK: 1||\n",
      "Coluna: customer_id, ||Tipo: TEXT||, ||Not Null: 0||, ||PK: 0||\n",
      "Coluna: order_status, ||Tipo: TEXT||, ||Not Null: 0||, ||PK: 0||\n",
      "Coluna: order_purchase_timestamp, ||Tipo: TEXT||, ||Not Null: 0||, ||PK: 0||\n",
      "Coluna: order_approved_at, ||Tipo: TEXT||, ||Not Null: 0||, ||PK: 0||\n",
      "Coluna: order_delivered_carrier_date, ||Tipo: TEXT||, ||Not Null: 0||, ||PK: 0||\n",
      "Coluna: order_delivered_customer_date, ||Tipo: TEXT||, ||Not Null: 0||, ||PK: 0||\n",
      "Coluna: order_estimated_delivery_date, ||Tipo: TEXT||, ||Not Null: 0||, ||PK: 0||\n",
      "\n",
      "Chaves estrangeiras:\n",
      "[De 'customer_id' -> 'customers.customer_id'] | <<on update: NO ACTION>> << on delete: NO ACTION>>\n",
      "\n",
      "##################################  customers  #####################################\n",
      "\n",
      "Informacoes da tabela:\n",
      "Coluna: customer_id, ||Tipo: TEXT||, ||Not Null: 0||, ||PK: 1||\n",
      "Coluna: customer_unique_id, ||Tipo: TEXT||, ||Not Null: 0||, ||PK: 0||\n",
      "Coluna: customer_zip_code_prefix, ||Tipo: INTEGER||, ||Not Null: 0||, ||PK: 0||\n",
      "Coluna: customer_city, ||Tipo: TEXT||, ||Not Null: 0||, ||PK: 0||\n",
      "Coluna: customer_state, ||Tipo: TEXT||, ||Not Null: 0||, ||PK: 0||\n",
      "\n",
      "Chaves estrangeiras:\n",
      "Sem chaves estrangeiras definidas.\n",
      "\n",
      "##################################  sellers  #####################################\n",
      "\n",
      "Informacoes da tabela:\n",
      "Coluna: seller_id, ||Tipo: TEXT||, ||Not Null: 0||, ||PK: 1||\n",
      "Coluna: seller_zip_code_prefix, ||Tipo: INTEGER||, ||Not Null: 0||, ||PK: 0||\n",
      "Coluna: seller_city, ||Tipo: TEXT||, ||Not Null: 0||, ||PK: 0||\n",
      "Coluna: seller_state, ||Tipo: TEXT||, ||Not Null: 0||, ||PK: 0||\n",
      "\n",
      "Chaves estrangeiras:\n",
      "Sem chaves estrangeiras definidas.\n",
      "\n",
      "##################################  geolocation  #####################################\n",
      "\n",
      "Informacoes da tabela:\n",
      "Coluna: geolocation_zip_code_prefix, ||Tipo: INTEGER||, ||Not Null: 0||, ||PK: 0||\n",
      "Coluna: geolocation_lat, ||Tipo: REAL||, ||Not Null: 0||, ||PK: 0||\n",
      "Coluna: geolocation_lng, ||Tipo: REAL||, ||Not Null: 0||, ||PK: 0||\n",
      "Coluna: geolocation_city, ||Tipo: TEXT||, ||Not Null: 0||, ||PK: 0||\n",
      "Coluna: geolocation_state, ||Tipo: TEXT||, ||Not Null: 0||, ||PK: 0||\n",
      "\n",
      "Chaves estrangeiras:\n",
      "Sem chaves estrangeiras definidas.\n",
      "\n",
      "##################################  product_category_name_translation  #####################################\n",
      "\n",
      "Informacoes da tabela:\n",
      "Coluna: product_category_name, ||Tipo: TEXT||, ||Not Null: 0||, ||PK: 1||\n",
      "Coluna: product_category_name_english, ||Tipo: TEXT||, ||Not Null: 0||, ||PK: 0||\n",
      "\n",
      "Chaves estrangeiras:\n",
      "Sem chaves estrangeiras definidas.\n"
     ]
    }
   ],
   "source": [
    "# Lista das tabelas que desejo verificar\n",
    "\n",
    "verificacao = [\n",
    "    \"order_items\", \"order_payments\", \"order_reviews\", \"products\",\n",
    "    \"orders\", \"customers\", \"sellers\", \"geolocation\", \n",
    "    \"product_category_name_translation\"\n",
    "]\n",
    "\n",
    "# Função para listar colunas e detalhes de uma tabela\n",
    "def listar_colunas(nome_tabela):\n",
    "    print(f\"\\n##################################  {nome_tabela}  #####################################\")\n",
    "    print(f\"\\nInformacoes da tabela:\")\n",
    "    # PRAGMA table_info() serve para obter os detalhes das colunas\n",
    "    cursor.execute(f\"PRAGMA table_info({nome_tabela});\")\n",
    "    colunas = cursor.fetchall()\n",
    "    for coluna in colunas:\n",
    "        print(f\"Coluna: {coluna[1]}, ||Tipo: {coluna[2]}||, ||Not Null: {coluna[3]}||, ||PK: {coluna[5]}||\")\n",
    "\n",
    "# Função para mostrar foreign keys\n",
    "def mostrar_chaves_FK(nome_tabela):\n",
    "    cursor.execute(f\"PRAGMA foreign_key_list({nome_tabela});\")\n",
    "    foreign_key = cursor.fetchall()\n",
    "    if foreign_key:\n",
    "        print(\"\\nChaves estrangeiras:\")\n",
    "        for fk in foreign_key:\n",
    "            print(f\"[De '{fk[3]}' -> '{fk[2]}.{fk[4]}'] | <<on update: {fk[5]}>> << on delete: {fk[6]}>>\")\n",
    "    else:\n",
    "        print(\"\\nChaves estrangeiras:\\nSem chaves estrangeiras definidas.\")\n",
    "\n",
    "# Verifica se cada tabela existe e mostra sua estrutura\n",
    "for tabela in verificacao:\n",
    "    cursor.execute(f\"SELECT name FROM sqlite_master WHERE type='table' AND name='{tabela}';\")\n",
    "    resultado = cursor.fetchone()\n",
    "    if resultado:\n",
    "        listar_colunas(tabela)\n",
    "        mostrar_chaves_FK(tabela)\n",
    "        \n",
    "    else:\n",
    "        print(f\"\\nTabela '{tabela}' não encontrada na base de dados.\")"
   ]
  },
  {
   "cell_type": "markdown",
   "id": "7ae1bda2-ac30-49ea-9cc9-0009eb82e5f6",
   "metadata": {},
   "source": [
    "# lembrar de apagar o comando abaixo thiago."
   ]
  },
  {
   "cell_type": "markdown",
   "id": "2bdd6e83-89d8-4edb-8d9b-f45447b97ad0",
   "metadata": {},
   "source": [
    "cursor.execute(\"DROP TABLE IF EXISTS order_items;\")\n",
    "cursor.execute(\"DROP TABLE IF EXISTS order_payments;\")\n",
    "cursor.execute(\"DROP TABLE IF EXISTS order_reviews ;\")\n",
    "cursor.execute(\"DROP TABLE IF EXISTS orders;\")\n",
    "cursor.execute(\"DROP TABLE IF EXISTS sellers;\")\n",
    "cursor.execute(\"DROP TABLE IF EXISTS geolocation;\")\n",
    "cursor.execute(\"DROP TABLE IF EXISTS product_category_name_translation;\")\n",
    "cursor.execute(\"DROP TABLE IF EXISTS customers;\")\n",
    "cursor.execute(\"DROP TABLE IF EXISTS products;\")\n",
    "conn.commit()"
   ]
  },
  {
   "cell_type": "markdown",
   "id": "2d87251b-c652-4021-9f33-c970f46ec297",
   "metadata": {},
   "source": [
    "Importando os dados dos dataframes para as tabelas do banco de dados"
   ]
  },
  {
   "cell_type": "code",
   "execution_count": 258,
   "id": "ac43a234-0fb8-45e8-9010-94fe4fb23a01",
   "metadata": {},
   "outputs": [
    {
     "name": "stdout",
     "output_type": "stream",
     "text": [
      "73 registros inseridos na tabela product_category_name_translation.\n",
      "99441 registros inseridos na tabela customers.\n",
      "3095 registros inseridos na tabela sellers.\n",
      "32341 registros inseridos na tabela products.\n",
      "738332 registros inseridos na tabela geolocation.\n",
      "99441 registros inseridos na tabela orders.\n",
      "112650 registros inseridos na tabela order_items.\n",
      "103886 registros inseridos na tabela order_payments.\n",
      "99224 registros inseridos na tabela order_reviews.\n"
     ]
    }
   ],
   "source": [
    "# Função para inserir dados de um dataframe em uma tabela\n",
    "def inserir_dados(df, tabela):\n",
    "    # Monta o comando INSERT com placeholders para cada coluna\n",
    "    placeholders = ', '.join(['?'] * len(df.columns))\n",
    "    sql = f'INSERT INTO {tabela} ({\", \".join(df.columns)}) VALUES ({placeholders})'\n",
    "    \n",
    "    # Converte os dados do dataframe para lista de tuplas\n",
    "    dados = [tuple(x) for x in df.to_numpy()]\n",
    "    \n",
    "    # Executa o comando para múltiplos registros\n",
    "    cursor.executemany(sql, dados)\n",
    "    conn.commit()\n",
    "    print(f'{len(dados)} registros inseridos na tabela {tabela}.')\n",
    "\n",
    "# Inserindo dados em cada tabela, seguindo a ordem lógica para respeitar as chaves estrangeiras\n",
    "inserir_dados(df_category, 'product_category_name_translation')\n",
    "inserir_dados(df_customers, 'customers')\n",
    "inserir_dados(df_sellers, 'sellers')\n",
    "inserir_dados(df_products, 'products')\n",
    "inserir_dados(df_geolocation, 'geolocation')\n",
    "inserir_dados(df_orders, 'orders')\n",
    "inserir_dados(df_order_items, 'order_items')\n",
    "inserir_dados(df_payments, 'order_payments')\n",
    "inserir_dados(df_reviews, 'order_reviews')"
   ]
  },
  {
   "cell_type": "markdown",
   "id": "d90a8c58-4be8-4dcf-b24e-e0c49c9c8553",
   "metadata": {},
   "source": [
    "# 2. Análise Exploratória de Dados (25 pontos)"
   ]
  },
  {
   "cell_type": "code",
   "execution_count": 260,
   "id": "f41a483d-3080-44df-8575-0caaa83a16f6",
   "metadata": {},
   "outputs": [],
   "source": [
    "import matplotlib.pyplot as plt"
   ]
  },
  {
   "cell_type": "markdown",
   "id": "3de9b406-aa66-4263-8d03-bcb5e1521cde",
   "metadata": {},
   "source": [
    "### a) Qual o volume de pedidos por mês? Existe sazonalidade nas vendas?\n",
    "\n",
    "Essa pergunta tem como objetivo identificar como os pedidos variam ao longo do tempo, e se há sazonalidade (picos ou quedas de vendas)\n",
    "em periodos especificos do ano.\n",
    "\n",
    "Para isso, trabalhei com a tabela orders onde são registradas todas as informações do pedido, status e datas. \n",
    "1. Realizei um SELECT para extrai temporariamente as informações da coluna (order_purchase_timestamp) da tabela (orders), assim, extraindo o ano e mês da data da compra do pedido;\n",
    "2. Utilizei o COUNT para contar através dos ids das ordens (order_id) quantos pedidos foram realizados em cada mês;\n",
    "3. Realizei o agrupamento dos dados por mês;\n",
    "4. Ordenei de forma cronologia as informações do mês;\n",
    "5. Uma vez esse dado extraido, agrupado e ordenado, converti novamente para o tipo datetime, para garantir a plotagem gráfica correta dessa informação no eixo do tempo;\n",
    "6. Para plotagem gráfica, optei por utilziar o gráfico de linha. Pois esse tipo de gráfico é ideal para representar séries temporais, pois permite visualizar facilmente a evolução dos dados ao decorrer do periodo. As linhas conectadas por pontos, ajudam a observar tendências, padrões sazonais e variações mensais de forma mais intuitiva. Sendo assim, esse tipo em nosso contexto atual, facilita a identificação de periodos com picos das vendas e quedas da demanda."
   ]
  },
  {
   "cell_type": "code",
   "execution_count": 262,
   "id": "cf1ccedd-edce-4dab-a66b-2ef6979a3cfb",
   "metadata": {},
   "outputs": [
    {
     "data": {
      "image/png": "[encoded data removed]",
      "text/plain": [
       "<Figure size 1200x600 with 1 Axes>"
      ]
     },
     "metadata": {},
     "output_type": "display_data"
    }
   ],
   "source": [
    "query = \"\"\"\n",
    "SELECT \n",
    "    strftime('%Y-%m', order_purchase_timestamp) AS ano_mes,\n",
    "    COUNT(order_id) AS volume_pedidos\n",
    "FROM orders\n",
    "GROUP BY ano_mes\n",
    "ORDER BY ano_mes;\n",
    "\"\"\"\n",
    "\n",
    "df_volume_mensal = pd.read_sql_query(query, conn)\n",
    "# converte o tipo do ano e mes que atualmente em string, para datetime.\n",
    "df_volume_mensal['ano_mes'] = pd.to_datetime(df_volume_mensal['ano_mes'])\n",
    "\n",
    "plt.figure(figsize=(12, 6))\n",
    "# Plota uma linha contínua com pontos marcando os volumes mensais dos pedidos daquele mês.\n",
    "plt.plot(df_volume_mensal['ano_mes'], df_volume_mensal['volume_pedidos'], marker='o')\n",
    "# Define o titulo do gráfico\n",
    "plt.title('Volume de Pedidos por Mês')\n",
    "# Define o nome do eixo X\n",
    "plt.xlabel('Ano-Mês')\n",
    "# Define o nome do eixo Y\n",
    "plt.ylabel('Quantidade de Pedidos')\n",
    "# ativando a grade no gráfico, linhas horizontais e verticais que ajudam a visualizar melhor os valores e a interpretar o gráfico.\n",
    "plt.grid(True)\n",
    "# ajustando os espaçamentos do gráfico para que os elementos (títulos, eixos, legendas) não fiquem cortados ou sobrepostos.\n",
    "plt.tight_layout()\n",
    "# exibindo o gráfico.\n",
    "plt.show()"
   ]
  },
  {
   "cell_type": "markdown",
   "id": "24bec1cd-e371-43c1-87fa-5a6560618495",
   "metadata": {},
   "source": [
    "## Resposta: \n",
    "Sim há sazonalidade. \n",
    "1. Existe um aumento significativo no volume de vendas entre Novembro até Janeiro, geralmente por causa do Black Friday e compras de fim de ano, como: Natal e Ano Novo;\n",
    "2. Em seguida, entre fevereiro e março, ocorre outra alta, acredito que esteja relacionado ao periodo de férias escolares;\n",
    "3. Porem entre março e abril, podemos observar uma queda das vendas, possivelmente devido a normalização do consumo após o inicio do periodo letivo;\n",
    "4. Logo após, outra queda acontece entre maio e junho repedindo a estabilização de consumo;\n",
    "5. Seguindo por um novo crescimento, entre junho e agosto acredito que seja por causa das datas comemorativas como o Dia dos Namorados, São João e o inicio das ferias do meio do ano."
   ]
  },
  {
   "cell_type": "markdown",
   "id": "c640df87-8c69-4dee-96e9-70a6ad40081e",
   "metadata": {},
   "source": [
    "## Sugestões: \n",
    "1. Aumentar o estoque em periodos de alta demanda. Por que se os pedidos aumentam sempre em meses como novembro e dezembro a empresa pode preparar mais estoque para evitar produtos fora do estoque. É aconselhável antecipar compras com fornecedores em 1 a 2 meses;\n",
    "2. Realizar campanhas de marketing sazonal. Aproveitar picos de interesse dos cosumidores com promoções bem direcionadas para grandes datas comemorativas é uma boa alternativa;\n",
    "3. Reforçar logistica e atendimento. A alta demanda exige eficiencia nas entregas, podemos alugar galpões logisticos temporariamente e abastece-los com os principais produtos mais vendidos daquela região, assim aumentando a eficiencia das entregas, e alem disso, contratar colaboradores temporarios ou tercerizar uma empresa de atendimentos para melhorar o atendimento nessa epoca, assim melhorando o olhar do cliente em relação a empresa;\n",
    "4. Realizar campanhas de venda e promoções em meses de baixa. É possivel estimular a vontade de compra dos clientes atraves de promoções, como: oferecer frete grátis, cupons de desconto e até mesmo kits promocionais;\n",
    "5. Realizar alinhamento da Equipe de produtos e fornecedores: Acredito que a sazonalidade pode afetar a linha de produtos ofertada e o prazo de entrega dos produtos pelos fornecedores."
   ]
  },
  {
   "cell_type": "markdown",
   "id": "f0ed8cd9-ebe9-415a-92c2-6a24fb6995c2",
   "metadata": {},
   "source": [
    "### b) Qual a distribuição do tempo de entrega dos pedidos?\n",
    "\n",
    "Essa pergunta tem como objetivo analisar o tempo de entrega dos pedidos. \n",
    "\n",
    "Para isso, irei utilizar os dados da coluna: da data de envio (order_delivered_carrier_date) e data de entrega (order_delivered_customer_date) da tabela orders, para ententender a eficiencia logistica da empresa.\n",
    "1. Convertir as datas (order_delivered_customer_date) e julianday(order_purchase_timestamp) do tipo string para decimal utilizando o comando julianday;\n",
    "2. Realizei a subtração entre amabas para saber a diferença em dias entre a compra e a entrega do pedido;\n",
    "3. Atribuir um apelido (tempo_entrega) para o valor da diferença entre as datas;\n",
    "4. Apliquei o filtro somente linhas que contenham valores nas colunas de compra e entrega do pedido;\n",
    "5. Apliquei outro filtro na coluna de status dos pedidos (order_status) para garantir que seja possivel analisar somente pedidos que realmente foram entregues;\n",
    "6. Plotei o gráfico do tipo histograma. Pelo tempo de entrega ser uma variavel contínua que representa em dias valores, como: 5, 10, 12... e etc. Assim o histograma mostra quantos pedidos foram entregues em X dias, agrupando por periodos de tempo. Assim ajudando a enxergar de forma geral a distribuição, onde estão os picos e exceções;\n",
    "7. Mostrei as estatisticas resumidas abaixo do gráfico para detalhar e facilitar mais o entendimento das informações."
   ]
  },
  {
   "cell_type": "code",
   "execution_count": 266,
   "id": "c2df241a-ba24-4b57-80e7-30c768968a06",
   "metadata": {},
   "outputs": [
    {
     "data": {
      "image/png": "[encoded data removed]",
      "text/plain": [
       "<Figure size 1000x600 with 1 Axes>"
      ]
     },
     "metadata": {},
     "output_type": "display_data"
    },
    {
     "data": {
      "text/html": [
       "<div>\n",
       "<style scoped>\n",
       "    .dataframe tbody tr th:only-of-type {\n",
       "        vertical-align: middle;\n",
       "    }\n",
       "\n",
       "    .dataframe tbody tr th {\n",
       "        vertical-align: top;\n",
       "    }\n",
       "\n",
       "    .dataframe thead th {\n",
       "        text-align: right;\n",
       "    }\n",
       "</style>\n",
       "<table border=\"1\" class=\"dataframe\">\n",
       "  <thead>\n",
       "    <tr style=\"text-align: right;\">\n",
       "      <th></th>\n",
       "      <th>tempo_entrega</th>\n",
       "    </tr>\n",
       "  </thead>\n",
       "  <tbody>\n",
       "    <tr>\n",
       "      <th>count</th>\n",
       "      <td>96470.000000</td>\n",
       "    </tr>\n",
       "    <tr>\n",
       "      <th>mean</th>\n",
       "      <td>12.558217</td>\n",
       "    </tr>\n",
       "    <tr>\n",
       "      <th>std</th>\n",
       "      <td>9.546156</td>\n",
       "    </tr>\n",
       "    <tr>\n",
       "      <th>min</th>\n",
       "      <td>0.533414</td>\n",
       "    </tr>\n",
       "    <tr>\n",
       "      <th>25%</th>\n",
       "      <td>6.766204</td>\n",
       "    </tr>\n",
       "    <tr>\n",
       "      <th>50%</th>\n",
       "      <td>10.217477</td>\n",
       "    </tr>\n",
       "    <tr>\n",
       "      <th>75%</th>\n",
       "      <td>15.720182</td>\n",
       "    </tr>\n",
       "    <tr>\n",
       "      <th>max</th>\n",
       "      <td>209.628611</td>\n",
       "    </tr>\n",
       "  </tbody>\n",
       "</table>\n",
       "</div>"
      ],
      "text/plain": [
       "       tempo_entrega\n",
       "count   96470.000000\n",
       "mean       12.558217\n",
       "std         9.546156\n",
       "min         0.533414\n",
       "25%         6.766204\n",
       "50%        10.217477\n",
       "75%        15.720182\n",
       "max       209.628611"
      ]
     },
     "execution_count": 266,
     "metadata": {},
     "output_type": "execute_result"
    }
   ],
   "source": [
    "query = \"\"\"\n",
    "SELECT \n",
    "    julianday(order_delivered_customer_date) - julianday(order_purchase_timestamp) AS tempo_entrega\n",
    "FROM orders\n",
    "WHERE order_delivered_customer_date IS NOT NULL\n",
    "  AND order_purchase_timestamp IS NOT NULL\n",
    "  AND order_status = 'delivered';\n",
    "\"\"\"\n",
    "\n",
    "df_entrega = pd.read_sql_query(query, conn)\n",
    "\n",
    "plt.figure(figsize=(10, 6))\n",
    "plt.hist(df_entrega['tempo_entrega'], bins=30, edgecolor='black')\n",
    "plt.title('Distribuição do Tempo de Entrega dos Pedidos')\n",
    "plt.xlabel('Dias para entrega')\n",
    "plt.ylabel('Quantidade de pedidos')\n",
    "plt.grid(True)\n",
    "plt.tight_layout()\n",
    "plt.show()\n",
    "# Estatísticas\n",
    "df_entrega.describe()"
   ]
  },
  {
   "cell_type": "markdown",
   "id": "7a2b03f3-32ef-4ff7-ba51-b50b2250a5c4",
   "metadata": {},
   "source": [
    "##### Interpretação das estatiticas resumidas:\n",
    "Média = 12 dias --> Em média, os pedidos são entregues em cerca de 12 dias.\n",
    "\n",
    "Mediana = 10 dias --> Metade dos pedidos leva até 11 dias para serem entregues.\n",
    "\n",
    "Desvio padrão = 9.5 dias --> Existem variações moderadas em torno da média.\n",
    "\n",
    "25% dos pedidos são entregues em até 10 dias.\n",
    "\n",
    "75% dos pedidos são entregues em até 15 dias.\n",
    "\n",
    "Máximo = 209 dias --> Um ou mais pedidos levaram até 6 meses para serem entregues (potencial outlier ou problema logístico grave)."
   ]
  },
  {
   "cell_type": "markdown",
   "id": "6dd5a3e7-e322-4b86-9dd9-0e348e1b8fdf",
   "metadata": {},
   "source": [
    "## Resposta: \n",
    "A maioria dos pedidos é entregue entre 7 e 15 dias após a compra. No entanto, existe uma quantidade significativa de pedidos com entrega acima de 20 dias, o que pode indicar problemas logísticos ou gargalos com certos vendedores ou regiões."
   ]
  },
  {
   "cell_type": "markdown",
   "id": "89ceb27c-ec62-4d4d-9dcc-1b483bd333f5",
   "metadata": {},
   "source": [
    "## Sugestões \n",
    "1. Identificar aos outliers de entrega. É importante identificar os pedidos com tempos de entrega muito acima do normal, como: 30, 60 ou até 120 dias;\n",
    "2. Responder aos outliers de entrega. Investigar esses casos de forma individual e avaliar se: o problema está relacionado a vendedores específicos,  se o pedido foi realizado em periodos criticos, como por exemplo black friday, natal e etc, se a causa foi por dificil acesso a região de entrega do produto;\n",
    "3. Classificar vendedores com base na performannce de entrega. Acredito que alguns vendedores podem estar contribuindo mais para os atrasos. Então sugiro gerar relatorios mensais e assim, premiar bons vendedores com mais visibilidade e aplicar medidas corretivas em casos criticos;\n",
    "4. Reforçar estrutura logistica nas regiões mais lentas. Acredito que algumas regiões possam ser de dificil acesso, assim contribuindo para entregas mais lentas. Devemos reforçar parcerias locais e reforçar rotas buscando se possivel, outros pontos logisticos estrategicos e redirecionar principar produtos vendidos daquela região no estoque;\n",
    "5. Educar o cliente com tempo de entregas realmente realistas. Se a mediana de entrega for 10 dias, os clientes esperando por menos, então as vezes o problema pode não está do processo logistico, e sim na expectativa do cliente."
   ]
  },
  {
   "cell_type": "markdown",
   "id": "417799da-abb8-448e-92fe-edc62093bdf0",
   "metadata": {},
   "source": [
    "### c) Qual a relação entre o valor do frete e a distância de entrega?\n",
    "\n",
    "Essa pergunta tem como objetivo verificar se existe uma correlação entre o valor do frete pago pelo cliente e a distância entre o vendedor e o cliente, usando a localização via CEP e coordenadas geográficas.\n",
    "\n",
    "1. Irei analisar se existe correlação entre o valor do frete pago (freight_value) e a distância entre o vendedor e o cliente, o que pode revelar a eficiência (ou ineficiência) da logística do e-commerce;\n",
    "2. Obter as coordenadas geográficas de cliente e vendedor através do geolocation;\n",
    "3. Relacionar essa distância com o freight_value (frete) da tabela order_items;\n",
    "4. Plotar gráfico de dispersão para identificar padrão ou correlação."
   ]
  },
  {
   "cell_type": "code",
   "execution_count": 271,
   "id": "b8e5fd05-38b5-4b6c-8198-8b6387a87dd6",
   "metadata": {},
   "outputs": [
    {
     "data": {
      "image/png": "[encoded data removed]",
      "text/plain": [
       "<Figure size 1000x600 with 1 Axes>"
      ]
     },
     "metadata": {},
     "output_type": "display_data"
    }
   ],
   "source": [
    "import numpy as np\n",
    "\n",
    "# Calcula a coordenada média de cada zip_code_prefix\n",
    "geo_zip = df_geolocation.groupby('geolocation_zip_code_prefix')[['geolocation_lat', 'geolocation_lng']].mean().reset_index()\n",
    "geo_zip.columns = ['zip_code_prefix', 'lat', 'lng']\n",
    "\n",
    "df_customers_coord = df_customers.merge(\n",
    "    geo_zip,\n",
    "    left_on='customer_zip_code_prefix',\n",
    "    right_on='zip_code_prefix',\n",
    "    how='left'\n",
    ")\n",
    "df_customers_coord.rename(columns={'lat': 'customer_lat', 'lng': 'customer_lng'}, inplace=True)\n",
    "df_customers_coord.drop(columns=['zip_code_prefix'], inplace=True)\n",
    "\n",
    "df_sellers_coord = df_sellers.merge(\n",
    "    geo_zip,\n",
    "    left_on='seller_zip_code_prefix',\n",
    "    right_on='zip_code_prefix',\n",
    "    how='left'\n",
    ")\n",
    "df_sellers_coord.rename(columns={'lat': 'seller_lat', 'lng': 'seller_lng'}, inplace=True)\n",
    "df_sellers_coord.drop(columns=['zip_code_prefix'], inplace=True)\n",
    "\n",
    "# Função para calcular distância geográfica\n",
    "def distancia(lat1, lng1, lat2, lng2):\n",
    "    R = 6371  # raio da Terra em km\n",
    "    phi1, phi2 = np.radians(lat1), np.radians(lat2)\n",
    "    dphi = phi2 - phi1\n",
    "    dlambda = np.radians(lng2 - lng1)\n",
    "    \n",
    "    a = np.sin(dphi/2)**2 + np.cos(phi1) * np.cos(phi2) * np.sin(dlambda/2)**2\n",
    "    return 2 * R * np.arcsin(np.sqrt(a))\n",
    "\n",
    "# Combinar pedidos com clientes e vendedores\n",
    "df_full = df_order_items.merge(df_orders[['order_id', 'customer_id']], on='order_id', how='left')\n",
    "df_full = df_full.merge(df_customers_coord[['customer_id', 'customer_lat', 'customer_lng']], on='customer_id', how='left')\n",
    "df_full = df_full.merge(df_sellers_coord[['seller_id', 'seller_lat', 'seller_lng']], on='seller_id', how='left')\n",
    "\n",
    "# Calcular a distância em km entre o seller e o cliente\n",
    "df_full['distancia_km'] = distancia(\n",
    "    df_full['customer_lat'], df_full['customer_lng'],\n",
    "    df_full['seller_lat'], df_full['seller_lng']\n",
    ")\n",
    "\n",
    "# Visualizar a relação entre distância e valor do frete\n",
    "plt.figure(figsize=(10, 6))\n",
    "plt.scatter(df_full['distancia_km'], df_full['freight_value'], alpha=0.3)\n",
    "plt.title('Relação entre distância e valor do frete')\n",
    "plt.xlabel('Distância (km)')\n",
    "plt.ylabel('Frete (R$)')\n",
    "plt.grid(True)\n",
    "plt.tight_layout()\n",
    "plt.show()"
   ]
  },
  {
   "cell_type": "markdown",
   "id": "eb21de10-3c7f-45e9-b5fb-09a22f5e269e",
   "metadata": {},
   "source": [
    "## Resposta:\n",
    "Há uma relação positiva entre distancia e valor do frete, quanto maior a distância entre o vendedor e o cliente, maior tente a ser o frete. No entanto, foi encontrado uma alta dispersão nos dados, com fretes elevados mesmo em distancias menores. Então, isso pode indicar que além da distancia, outros fatores influenciam no preço, como por exemplo: Peso, Categoria do Produto e Tipo de entrega."
   ]
  },
  {
   "cell_type": "markdown",
   "id": "c9d0188d-2aac-4c50-bb0c-8b7c115cc76d",
   "metadata": {},
   "source": [
    "## Sugestões:\n",
    "1. Revisar a política de preços dos fretes. Muitos frestes são caros mesmo em pequenas distancias. É aconselhavel reavaliar os critérios de cobrança do frete, como: aplicar tarifas por categoria de produto, por peso ou região;\n",
    "2. Classificar os fretes por região e produto. Produtos leves em curtas distancias não deveriam gerar fretes altos. Criar faixas de preços por categoria junto com o raio geografico de entrega, assim reduzindo variações sem justificativas;\n",
    "3. Renegociar rotas com transportadoras. Fretes elevados podem estar ligados a contratos logisticos ineficientes. Avaliar regiões com maior voolume e negociar tabelas especificas com as transportadoras;\n",
    "4. Anexar novos centros de distribuição em regiões com alto volume de vendas para reduzir o custo do frete."
   ]
  },
  {
   "cell_type": "markdown",
   "id": "e203960e-fdff-48e7-a761-abcb19b15ed8",
   "metadata": {},
   "source": [
    "### d) Quais são as categorias de produtos mais vendidas em termos de faturamento?\n",
    "\n",
    "Vamos analisar quais categorias de produto geram mais receita, com base no faturamento tota (soma dos preços dos produtos vendidos).\n",
    "\n",
    "##### Para isso realizei:\n",
    "1. A soma do valor total vendido por produto da coluna (price), atraves da tabela order_items;\n",
    "2. Left Join entre order_items e products usando o product_id, para conseguir pegar a categoria dos produtos atraves da coluna product_category_name que não esta na tabela order_items;\n",
    "3. Agrupei a categoria, para poder somar o faturamento de cada grupo;\n",
    "4. Ordenei a consulta como ordem descrescente, da mais lucrativa para a menos;\n",
    "5. Limitei o resultado para 10, para realizar as Top 10 produtos mais vendidos pelo e-commerce;\n",
    "6. Utilizei o gráfico do tipo barras horizontas, por facilitar a leitura de rotulos com texto longos do eixo Y, isso pode ser visto no nome das categorias, alem disso, permite uma melhor visualização decrescente dos dados, assim deixando comparação fica mais intuitiva entre os valores."
   ]
  },
  {
   "cell_type": "code",
   "execution_count": 278,
   "id": "aac88bd9-68bb-4c8e-9cbc-b13e2c3763c1",
   "metadata": {},
   "outputs": [
    {
     "data": {
      "image/png": "[encoded data removed]",
      "text/plain": [
       "<Figure size 1000x600 with 1 Axes>"
      ]
     },
     "metadata": {},
     "output_type": "display_data"
    }
   ],
   "source": [
    "import matplotlib.ticker as ticker\n",
    "\n",
    "query = \"\"\"\n",
    "SELECT \n",
    "    pct.product_category_name_english AS categoria,\n",
    "    ROUND(SUM(oi.price), 2) AS faturamento_total\n",
    "FROM order_items oi\n",
    "JOIN products p ON oi.product_id = p.product_id\n",
    "LEFT JOIN product_category_name_translation pct \n",
    "    ON p.product_category_name = pct.product_category_name\n",
    "GROUP BY categoria\n",
    "ORDER BY faturamento_total DESC\n",
    "LIMIT 10;\n",
    "\"\"\"\n",
    "\n",
    "df_faturamento = pd.read_sql_query(query, conn)\n",
    "\n",
    "# Dicionário de tradução para as 10 categorias mais vendidas\n",
    "traducao_categorias = {\n",
    "    'health_beauty': 'Beleza e Saúde',\n",
    "    'watches_gifts': 'Relógios e Presentes',\n",
    "    'bed_bath_table': 'Cama, Mesa e Banho',\n",
    "    'sports_leisure': 'Esporte e Lazer',\n",
    "    'computers_accessories': 'Computadores e Acessórios',\n",
    "    'furniture_decor': 'Móveis e Decoração',\n",
    "    'cool_stuff': 'Coisas Legais',\n",
    "    'housewares': 'Utilidades Domésticas',\n",
    "    'auto': 'Automotivo',\n",
    "    'garden_tools': 'Jardim e Ferramentas'\n",
    "}\n",
    "\n",
    "# Aplica a tradução no DataFrame\n",
    "df_faturamento['categoria_pt'] = df_faturamento['categoria'].map(traducao_categorias)\n",
    "\n",
    "# Plot com os nomes traduzidos e valores em reais\n",
    "plt.figure(figsize=(10, 6))\n",
    "plt.barh(df_faturamento['categoria_pt'], df_faturamento['faturamento_total'])\n",
    "plt.xlabel('Faturamento (R$)')\n",
    "plt.ylabel('Categoria')\n",
    "plt.title('Top 10 Categorias por Faturamento Total')\n",
    "plt.gca().invert_yaxis()\n",
    "\n",
    "# Formatar eixo X com valores em reais\n",
    "plt.gca().xaxis.set_major_formatter(ticker.FuncFormatter(lambda x, _: f'R${x:,.0f}'.replace(',', '.')))\n",
    "\n",
    "plt.tight_layout()\n",
    "plt.show()"
   ]
  },
  {
   "cell_type": "markdown",
   "id": "5f898050-f659-497d-945c-fcdf61c31e63",
   "metadata": {},
   "source": [
    "## Resposta:\n",
    "Com base nos dados das vendas do produto, foi calculado o faturamento total por categoria de produto, somando o valor de todos os itens vendidos. Eu categorizei as top 10 com maior faturamento como visto no grafico acima. E o resultato foi que as top 5 são: 1. Beleza e Saúde, 2. Relógios e presentes, 3. Cama, Mesa e Banho, 4. Esporte e Lazer, 5. Computadores e Acessórios."
   ]
  },
  {
   "cell_type": "markdown",
   "id": "92ba4ceb-8e16-4453-8057-064f347f8b17",
   "metadata": {},
   "source": [
    "## Sugestões:\n",
    "1. Focar em campanhas promocionas nas Top 10 categorias, por terem um alto giro de aceitação. Podendo assim potencializar ainda mais as vendas, através de promoções e cupons;\n",
    "2. Explorar mais categorias que tenham possiveis crescimentos. As categorias entre 6ª e 10ª posição (Moveis, Utilidades Domesticas, Jardim e Ferramentas e etc.), tem espaço para crescer. Então é ideal investir em anuncios direcionados, parcerias com fornecedores e recomendação inteligente no proprio site do e-commerce."
   ]
  },
  {
   "cell_type": "markdown",
   "id": "81ff3173-a93e-42c2-9314-43d63c592420",
   "metadata": {},
   "source": [
    "### e) Quais estados brasileiros possuem o maior valor médio de pedido?\n",
    "Essa pergunta ajuda a entender onde estão os clientes com maior poder de compra, ou quais regiões fazem compras com ticket medio mais rapido.\n",
    "Para isso é necessario:\n",
    "1. Somar o valor total de cada pedido da tabela order_items;\n",
    "2. Calcular a media por pedido;\n",
    "3. Realizar um Join entre as tabelas orders e custormers para saber de qual estado o pedido foi realizado;\n",
    "4. Agrupar por estado e calcular a média do valor total dos pedidos por estados."
   ]
  },
  {
   "cell_type": "code",
   "execution_count": 280,
   "id": "f3f0dd3a-82ac-48fb-8de3-f2616ab7f772",
   "metadata": {},
   "outputs": [
    {
     "data": {
      "image/png": "[encoded data removed]",
      "text/plain": [
       "<Figure size 1000x600 with 1 Axes>"
      ]
     },
     "metadata": {},
     "output_type": "display_data"
    }
   ],
   "source": [
    "query = \"\"\"\n",
    "WITH total_por_pedido AS (\n",
    "    SELECT \n",
    "        order_id,\n",
    "        SUM(price) AS valor_total_pedido\n",
    "    FROM order_items\n",
    "    GROUP BY order_id\n",
    ")\n",
    "\n",
    "SELECT \n",
    "    c.customer_state AS estado,\n",
    "    ROUND(AVG(tpp.valor_total_pedido), 2) AS valor_medio_pedido\n",
    "FROM total_por_pedido tpp\n",
    "JOIN orders o ON tpp.order_id = o.order_id\n",
    "JOIN customers c ON o.customer_id = c.customer_id\n",
    "GROUP BY estado\n",
    "ORDER BY valor_medio_pedido DESC\n",
    "LIMIT 10;\n",
    "\"\"\"\n",
    "\n",
    "df_valor_medio = pd.read_sql_query(query, conn)\n",
    "\n",
    "# Visualização\n",
    "import matplotlib.pyplot as plt\n",
    "import matplotlib.ticker as ticker\n",
    "\n",
    "plt.figure(figsize=(10, 6))\n",
    "plt.barh(df_valor_medio['estado'], df_valor_medio['valor_medio_pedido'])\n",
    "plt.xlabel('Valor Médio do Pedido (R$)')\n",
    "plt.ylabel('Estado')\n",
    "plt.title('Top 10 Estados com Maior Valor Médio de Pedido')\n",
    "plt.gca().invert_yaxis()\n",
    "plt.gca().xaxis.set_major_formatter(ticker.FuncFormatter(lambda x, _: f'R${x:,.2f}'.replace(',', '.')))\n",
    "plt.tight_layout()\n",
    "plt.show()"
   ]
  },
  {
   "cell_type": "markdown",
   "id": "5aac2d2a-4ffa-448d-b803-989528d97846",
   "metadata": {},
   "source": [
    "## Resposta:\n",
    "Os estados com o maior valor médio por pedido são, em ordem decrescente: Paraíba (PB), Amapá (AP), Acre (AC), Alagoas (AL) e Rondônia (RO).\n",
    "Esses estados, maioria das regiões Norte e Nordeste, apresentam uma média de valor por pedido superior à média nacional, ultrapassando R$ 180,00 por compra."
   ]
  },
  {
   "cell_type": "markdown",
   "id": "6fdabc87-aad3-49e0-8432-1b16305e22a7",
   "metadata": {},
   "source": [
    "## Sugestões:\n",
    "1. Explorar o potencial dos estados. Investir em campanhas especificas para esses estados. Oferecendo programas de fidelidade, vantagens para carrinhos com maior valor agregado e etc;\n",
    "2. Entender o perfil de consulmo regional. Verificar quais categorias são mais vendidas nos estados. Realizar uma classificação de mercado com base em comportamento de compra e valor médio;\n",
    "3. Ajustar politicas de frete e logistica. Avaliar se o frete elevado esta inflando o valor do pedido;\n",
    "4. Identificar oportunidades de expansão. Se a margem dos estados for boam é viavel investir em centros logisticos nessas regiões para reduzir custos e prazos de entregas."
   ]
  },
  {
   "cell_type": "markdown",
   "id": "a833bd55-5212-4e8e-af8c-de9af602e80f",
   "metadata": {},
   "source": [
    "# 3. Solução de Problemas de Negócio (25 pontos)\n"
   ]
  },
  {
   "cell_type": "markdown",
   "id": "ba5b9a03-3966-421f-ad61-a584f1b5b6af",
   "metadata": {},
   "source": [
    "### 1) Análise de Retenção: Calcule a taxa de clientes recorrentes. Considere um cliente recorrente aquele que fez mais de um pedido no período analisado. Quais insights podemos extrair destes dados?\n",
    "Realizei as seguintes etapas:\n",
    "1. Agrupei a tabela orders atraves do seu id;\n",
    "2. Contei quantos order_id cada cliente fez;\n",
    "3. Utilizei python e logica boleana para criar um dataframe temporario chamado df_retenção, onde na coluna retenção se o cliente tiver realizado mais de 1 pedido, me retorna o valor true, caso contrario false;\n",
    "4. Calculei os totais, contando o numero total de clientes unicos;\n",
    "5. Somei a quantidade de true da coluna recorrente, isso retorna a quantidade de clientes que fizeram mais de um pedido;\n",
    "6. Calculei a taxa de recorrencia dividindo a quantidade de recorrentes pelo total de clientes;\n",
    "7. Plotei um grafico tipo pizza. Utilizei esse tipo por ser ideal para representar proporções de um todo, facilitando a visualização da distribuição percentual entre clientes recorrentes e não recorrentes. Ele destaca de forma clara a baixa participação de clientes fiéis, ajudando a comunicar rapidamente esse ponto crítico para áreas de marketing e retenção."
   ]
  },
  {
   "cell_type": "code",
   "execution_count": 300,
   "id": "decf9620-a5a9-4ad1-acd4-be3d15e8614d",
   "metadata": {},
   "outputs": [
    {
     "data": {
      "image/png": "[encoded data removed]",
      "text/plain": [
       "<Figure size 600x600 with 1 Axes>"
      ]
     },
     "metadata": {},
     "output_type": "display_data"
    },
    {
     "name": "stdout",
     "output_type": "stream",
     "text": [
      "Clientes recorrentes: 2997\n",
      "Total de clientes: 96096\n",
      "Taxa de recorrência: 3.12%\n"
     ]
    }
   ],
   "source": [
    "query = \"\"\"\n",
    "SELECT \n",
    "    c.customer_unique_id,\n",
    "    COUNT(o.order_id) AS total_pedidos\n",
    "FROM orders o\n",
    "JOIN customers c ON o.customer_id = c.customer_id\n",
    "GROUP BY c.customer_unique_id;\n",
    "\"\"\"\n",
    "\n",
    "df_retencao = pd.read_sql_query(query, conn)\n",
    "\n",
    "# Classificar clientes como recorrentes ou não\n",
    "df_retencao['recorrente'] = df_retencao['total_pedidos'] > 1\n",
    "\n",
    "# Cálculo da taxa de clientes recorrentes\n",
    "qtd_total_clientes = df_retencao.shape[0]\n",
    "qtd_recorrentes = df_retencao['recorrente'].sum()\n",
    "taxa_recorrencia = qtd_recorrentes / qtd_total_clientes\n",
    "\n",
    "# Contagem de recorrentes e não recorrentes\n",
    "qtd_nao_recorrentes = qtd_total_clientes - qtd_recorrentes\n",
    "labels = ['Não Recorrentes', 'Recorrentes']\n",
    "valores = [qtd_nao_recorrentes, qtd_recorrentes]\n",
    "cores = ['#ff9999','#66b3ff']\n",
    "\n",
    "# Criar gráfico\n",
    "plt.figure(figsize=(6, 6))\n",
    "plt.pie(valores, labels=labels, autopct='%1.1f%%', startangle=140, colors=cores)\n",
    "plt.title('Distribuição de Clientes Recorrentes')\n",
    "plt.axis('equal')  # Deixa o gráfico em forma de círculo\n",
    "plt.tight_layout()\n",
    "plt.show()\n",
    "\n",
    "print(f\"Clientes recorrentes: {qtd_recorrentes}\")\n",
    "print(f\"Total de clientes: {qtd_total_clientes}\")\n",
    "print(f\"Taxa de recorrência: {taxa_recorrencia:.2%}\")\n"
   ]
  },
  {
   "cell_type": "markdown",
   "id": "7cade015-fc90-45df-857c-1cbcb7bee1c9",
   "metadata": {},
   "source": [
    "## Resposta:"
   ]
  },
  {
   "cell_type": "markdown",
   "id": "4a432aa3-d41d-4df7-8a14-913ceeac40f2",
   "metadata": {},
   "source": [
    "Temos 2997 cliente recorrentes de um total de 96096 clientes cadastrados no e-commerce, com uma taxa de recorrência de 3.12% no periodo analisado."
   ]
  },
  {
   "cell_type": "markdown",
   "id": "237cdbac-2012-4be8-a3d5-aec9b1080744",
   "metadata": {},
   "source": [
    "#### Insights:\n",
    "1. Grande parte dos clientes compram apenas uma vez. Como a taxa de recorrência está abaixo de 10%, isso indica que o e-commerce não está fidelizando seus clientes. Sendo assim, acredito que a empresa esta gastando mais para adquirir novos clientes do que para mante-los, sendo assim menos eficiente a longo prazo;\n",
    "2. Falta de estrategias de retenção. Memo que a experiencia de compra seja boa, a falta de compras recorrentes sugere ausencia de estimulos pos-vendas. Sugiro investir em campanhas de remarketing, disponibilizar cupons ou descontos exclusivos para 2ª compra, iniciar programas de cashback e enviar email recorrentes para os clientes com recomendações de compras;\n",
    "3. Acredito que clientes recorrentes podem ser mais lucrativos. Pois tendem a: comprar com mais frequencia, gastar mais por pedidos e confiar mais nos serviços do e-commerce. Analisar o comportamento dos clientes recorrentes pode ajudar a classifica-los pelo valor de compra de produtos, e assim, disponibilizar beneficios para estimular compras recorrentes;\n",
    "4. Classificar categoriras por maior recorrencia de compras. Por exemplo: clientes de \"Beleza e Saúde\" podem ter recompra, por causa do uso recorrente dos produtos, diferente das categorias \"Moveis\" que são clientes mais pontuais;\n",
    "5. Analisar o ROI de campanhas. Com a taxa de recorrência atual como linha de base, o e-commerce pode testar campanhas e medir se há taxa aumenta ao longo do tempo."
   ]
  },
  {
   "cell_type": "markdown",
   "id": "3bb7513b-689b-49b8-b4f8-1a08d19962b3",
   "metadata": {},
   "source": [
    "### 2) Predição de Atraso\n",
    "Construção de um modelo simples para prever se um pedido será entregue com atraso.\n",
    "\n",
    "Para isso realizei os seguintes passos:\n",
    "1. Definir como atrasado o pedido que foi entregue depois da data estimada pelo sistema do e-commerce;\n",
    "2. Selecionei os pedidos entregue com o status de entregues (\"delivered\") e as datas com valores;\n",
    "3. Criei uma coluna pedido_atrasado, seguindo a logica booleana --> 1 para atrasado || 0 para dentro do prazo;\n",
    "4. Criei mais 3 variaveis simples, mas com grande potencial preditivo: tempo_aprovacao(tempo entre compra e aprovação), ano_mes_compra(mes da compra para verificar sazonalidade), e customer_state(localização do cliente);\n",
    "5. Preparei os 3 dados anteriores para usar Machine Learning, eixo x = tempo_aprovacao, customer_state, ano_mes_compra e no eixo y = pedido_atrasado;\n",
    "6. Removi valores nulos;\n",
    "7. Dividi os dados entre treino e teste. 70% para DADOS, e 30%5 para TESTE;\n",
    "8. Realizei o treinamento do modelo. Utilizei Regressão Logistica por ser mais simples e interpretavel;\n",
    "9. Realizei a avaliação do Modelo utilizando: A Matriz de confusão, Precisão das analises, Recision, Recall e F1-Score."
   ]
  },
  {
   "cell_type": "code",
   "execution_count": 316,
   "id": "064c8ed8-d6b6-4d16-bde2-043c8761a5b5",
   "metadata": {},
   "outputs": [
    {
     "data": {
      "text/plain": [
       "<Figure size 600x600 with 0 Axes>"
      ]
     },
     "metadata": {},
     "output_type": "display_data"
    },
    {
     "data": {
      "image/png": "[encoded data removed]",
      "text/plain": [
       "<Figure size 640x480 with 2 Axes>"
      ]
     },
     "metadata": {},
     "output_type": "display_data"
    },
    {
     "name": "stdout",
     "output_type": "stream",
     "text": [
      "Relatório de Classificação:\n",
      "\n",
      "              precision    recall  f1-score   support\n",
      "\n",
      "   No Atraso       0.92      1.00      0.96     26599\n",
      "    Atrasado       0.57      0.00      0.00      2341\n",
      "\n",
      "    accuracy                           0.92     28940\n",
      "   macro avg       0.75      0.50      0.48     28940\n",
      "weighted avg       0.89      0.92      0.88     28940\n",
      "\n"
     ]
    }
   ],
   "source": [
    "from sklearn.model_selection import train_test_split\n",
    "from sklearn.linear_model import LogisticRegression\n",
    "from sklearn.metrics import classification_report, confusion_matrix, accuracy_score\n",
    "from sklearn.metrics import confusion_matrix, classification_report, ConfusionMatrixDisplay\n",
    "\n",
    "# definindo o que é um pedido atrasado\n",
    "df_entregas = df_orders[\n",
    "    (df_orders['order_status'] == 'delivered') &\n",
    "    (df_orders['order_estimated_delivery_date'].notnull()) &\n",
    "    (df_orders['order_delivered_customer_date'].notnull())\n",
    "].copy()\n",
    "\n",
    "df_entregas['pedido_atrasado'] = (\n",
    "    pd.to_datetime(df_entregas['order_delivered_customer_date']) >\n",
    "    pd.to_datetime(df_entregas['order_estimated_delivery_date'])\n",
    ").astype(int)\n",
    "\n",
    "# criando features relevantes para o modelo\n",
    "df_entregas['order_purchase_timestamp'] = pd.to_datetime(df_entregas['order_purchase_timestamp'])\n",
    "df_entregas['order_approved_at'] = pd.to_datetime(df_entregas['order_approved_at'])\n",
    "\n",
    "df_entregas['tempo_aprovacao'] = (df_entregas['order_approved_at'] - df_entregas['order_purchase_timestamp']).dt.total_seconds() / 3600\n",
    "df_entregas['ano_mes_compra'] = df_entregas['order_purchase_timestamp'].dt.to_period('M').astype(str)\n",
    "\n",
    "# junção com estado do cliente\n",
    "df_entregas = df_entregas.merge(df_customers[['customer_id', 'customer_state']], on='customer_id', how='left')\n",
    "\n",
    "# preparando o modelo\n",
    "# Selecionar features\n",
    "X = df_entregas[['tempo_aprovacao', 'customer_state', 'ano_mes_compra']]\n",
    "y = df_entregas['pedido_atrasado']\n",
    "\n",
    "# Transformar variáveis categóricas em dummies\n",
    "X = pd.get_dummies(X, drop_first=True)\n",
    "\n",
    "# Remove registros com valores ausentes\n",
    "X = X.dropna()\n",
    "y = y.loc[X.index]  # Garante que os índices de X e y continuam alinhados\n",
    "y = df_entregas['pedido_atrasado'].loc[X.index]\n",
    "\n",
    "# dividindo em treino e teste\n",
    "X_train, X_test, y_train, y_test = train_test_split(X, y, test_size=0.3, random_state=42)\n",
    "\n",
    "# Treinando o modeelo simples com regressão logistica\n",
    "modelo = LogisticRegression(max_iter=1000)\n",
    "modelo.fit(X_train, y_train)\n",
    "\n",
    "# avaliando a performance\n",
    "y_pred = modelo.predict(X_test)\n",
    "\n",
    "# Previsões\n",
    "y_pred = modelo.predict(X_test)\n",
    "\n",
    "# Matriz de Confusão\n",
    "cm = confusion_matrix(y_test, y_pred)\n",
    "disp = ConfusionMatrixDisplay(confusion_matrix=cm, display_labels=[\"No Atraso\", \"Atrasado\"])\n",
    "\n",
    "plt.figure(figsize=(6, 6))\n",
    "disp.plot(cmap=plt.cm.Blues, values_format='d')\n",
    "plt.title(\"Matriz de Confusão - Predição de Atraso na Entrega\")\n",
    "plt.grid(False)\n",
    "plt.show()\n",
    "\n",
    "# Relatório de Classificação\n",
    "print(\"Relatório de Classificação:\\n\")\n",
    "print(classification_report(y_test, y_pred, target_names=[\"No Atraso\", \"Atrasado\"]))"
   ]
  },
  {
   "cell_type": "markdown",
   "id": "efb6abca-b10f-4a32-9d86-4520d4a2d2fe",
   "metadata": {},
   "source": [
    "#### Interpretando as saidas da Matriz de Confusão:\n",
    "\n",
    "Verdadeiro: Não atrasado --> Verdadeiro Negativo (TN) == Falso Positivo (FP)\n",
    "\n",
    "Verdadeiro: Atrasado --> Falso Negatifo (FN) == Verdadeiro Positivo (TP)"
   ]
  },
  {
   "cell_type": "markdown",
   "id": "3a80080c-48a4-485f-99d6-ec9b4a3fbb12",
   "metadata": {},
   "source": [
    "## Explicação dos resultados:\n",
    "O modelo obteve uma acurácia geral de 75%, equivalente a um bom desempenho para detectar pedidos atrasados, entretanto teve baixa capacidade de identificar pedidos atrasados como mostrado no relatório de classificação.\n",
    "\n",
    "##### Recall:\n",
    "\n",
    "Atrasado -> (apenas 0.00), ou seja, o modelo não conseguiu identificar corretamente quase nenhum atraso.\n",
    "\n",
    "##### Support:\n",
    "\n",
    "Houve um desequilibrio entre as classes -> (26.599 vs 2.341), influenciando diretamente na performance, favorecendo a classe dominante (Não atrasado).\n",
    "\n",
    "##### Grafico:\n",
    "\n",
    "A matriz de confusão informa que o modelo classifica quase tudo como (Não atrasado). Resultando em 2.335 falsos negativos (entregas atrasadas que foram previstas como não atrasadas)."
   ]
  },
  {
   "cell_type": "markdown",
   "id": "a4aa1ed1-a6f3-4668-ac4d-2dccc055a9b8",
   "metadata": {},
   "source": [
    "## Observações:\n",
    "\n",
    "1. Mesmo a acuracia pareça alta (75%), ela pode ser enganosa por causa do desequilibrio entre os dados;\n",
    "2. O modelo atual não é confiavel para prever atrasos, o que compromete sua utilidade;\n",
    "3. Mesmo assim,  a análise valida que variáveis como tempo de aprovação e sazonalidade sozinhas não explicam o atraso."
   ]
  },
  {
   "cell_type": "markdown",
   "id": "b0d22dd1-0bf4-4de1-a69e-85cf2cd191d8",
   "metadata": {},
   "source": [
    "### 3) Segmentação de Clientes\n",
    "\n",
    "Agrupamento de clientes com características semelhantes de comportamento (ex: volume de pedidos, gasto, localização) usando algoritmos de clustering não supervisionado, como o KMeans, e desenvolver insights para ações de marketing.\n",
    "\n",
    "Para isso realizei os seguintes passos:\n",
    "\n",
    "1. Selecioneis as variaveis que refletem nos comportamentos dos clientes, que são: qtd_pedidos (número total de pedidos feitos), total_gasto (soma total dos produtos comprados), frete_medio média de valor de frete pago, customer_frete (localização geográfica);\n",
    "2. Convertir os dados categoricos em dummiers (logica booleana para modelos de machine learning), ja que modelos de ML KMeans, exigem valores numericos como entrada;\n",
    "3. Apliquei o algoritmo KMeans em 4 clusters para iniciar a analise;\n",
    "4. Fiz uma analise descritiva dos clusters, calculando sua media de cada variavel;\n",
    "5. Plotei um grafico boxplot para observar a distribuição do valor total gasto por cluster. Optei por esse tipo de grafico por que é a melhor escolha para comparar a  distribuição de uma variavel continua, como gasto total entre diferentes classes de clusters;\n",
    "6. Classifiquei os clusters: Cluster 1 -> Clientes Premium | Cluster 0 -> Clientes em crescimento | Cluster 2 -> Clientes comuns ou sazonais | Cluster 3 -> Clientes inativos ou iniciais;\n",
    "7. Sugerir as seguintes estratégias de Marketing por classificações dos Clusters."
   ]
  },
  {
   "cell_type": "code",
   "execution_count": 362,
   "id": "c6b8f2b8-3831-49ac-869f-54a09ba05de8",
   "metadata": {},
   "outputs": [
    {
     "name": "stdout",
     "output_type": "stream",
     "text": [
      "         qtd_pedidos  total_gasto  frete_medio\n",
      "cluster                                       \n",
      "0           1.185950   141.133008    20.484891\n",
      "1           1.180868   142.337081    20.028446\n",
      "2           1.174539   141.823943    20.830921\n",
      "3           1.123142   176.295074    36.665821\n"
     ]
    },
    {
     "data": {
      "image/png": "[encoded data removed]",
      "text/plain": [
       "<Figure size 800x500 with 1 Axes>"
      ]
     },
     "metadata": {},
     "output_type": "display_data"
    }
   ],
   "source": [
    "import os\n",
    "\n",
    "# Definir o número de núcleos físicos do meu pc\n",
    "os.environ[\"LOKY_MAX_CPU_COUNT\"] = \"8\"\n",
    "\n",
    "from sklearn.preprocessing import StandardScaler\n",
    "from sklearn.cluster import KMeans\n",
    "import seaborn as sns\n",
    "\n",
    "query = \"\"\"\n",
    "SELECT \n",
    "    c.customer_unique_id,\n",
    "    c.customer_state,\n",
    "    COUNT(o.order_id) AS qtd_pedidos,\n",
    "    SUM(oi.price) AS total_gasto,\n",
    "    AVG(oi.freight_value) AS frete_medio\n",
    "FROM customers c\n",
    "JOIN orders o ON c.customer_id = o.customer_id\n",
    "JOIN order_items oi ON o.order_id = oi.order_id\n",
    "GROUP BY c.customer_unique_id, c.customer_state;\n",
    "\"\"\"\n",
    "\n",
    "df_clientes = pd.read_sql_query(query, conn)\n",
    "\n",
    "# Convertendo variáveis categóricas\n",
    "df_cluster = pd.get_dummies(df_clientes, columns=['customer_state'], drop_first=True)\n",
    "\n",
    "# Selecionando apenas as features numéricas\n",
    "features = df_cluster.drop(columns=['customer_unique_id'])\n",
    "\n",
    "# Normalização dos dados\n",
    "scaler = StandardScaler()\n",
    "X_scaled = scaler.fit_transform(features)\n",
    "\n",
    "kmeans = KMeans(n_clusters=4, random_state=42)\n",
    "df_cluster['cluster'] = kmeans.fit_predict(X_scaled)\n",
    "\n",
    "# Agrupar e visualizar médias por cluster\n",
    "df_analise = df_cluster.groupby('cluster')[['qtd_pedidos', 'total_gasto', 'frete_medio']].mean()\n",
    "print(df_analise)\n",
    "\n",
    "plt.figure(figsize=(8, 5))\n",
    "sns.boxplot(data=df_cluster, x='cluster', y='total_gasto')\n",
    "plt.title('Distribuição do Gasto Total por Cluster')\n",
    "plt.show()"
   ]
  },
  {
   "cell_type": "markdown",
   "id": "a399ebfe-f695-4335-b0bf-4c2504dca0fb",
   "metadata": {
    "jp-MarkdownHeadingCollapsed": true
   },
   "source": [
    "## Analise Gráfica:\n",
    "\n",
    "Podemos analisar que:\n",
    "\n",
    "1. Cluster 1 --> Possui os clientes com o maior gato total, incluindo varios outilers com gasto acima de 5.000,00 reais;\n",
    "2. Clusters 0 e 2 --> Apresentam gastos médios moderados, com outliers mais modestos;\n",
    "3. Cluster 3 --> Concentra a maior parte dos clientes com menor gasto, com poucos o utliers e valores, estão abaixo de 500,00 reais.\n",
    "\n",
    "\n",
    "\n",
    "Diante desses fatos podemos classificar os clientes da seguinte maneira:\n",
    "\n",
    "1. Cluster 1 --> Clientes Premium: Alto gasto, poucos clientes, maior potencial de compra;\n",
    "2. Cluster 0 --> Clientes em crescimento: Gasto médio, possiveis fidelidades.\n",
    "3. Cluster 2 --> Clientes comuns ou sazonais: Compram esporadicamente com valor moderado;\n",
    "4. Cluster 3 --> Clientes inativos ou iniciais: Gasto baixo, possivel abandono."
   ]
  },
  {
   "cell_type": "markdown",
   "id": "6eade729-70c9-46b5-80cf-b7ced98e65f8",
   "metadata": {},
   "source": [
    "## Estrategicas por Clusters:\n",
    "\n",
    "##### Cluster 1 - Clientes Premium\n",
    "1. Oferecer programas de fidelidade VIP;\n",
    "2. Descontos exclusivos e pré-lançamentos;\n",
    "3. Consultores ou atendimento personalizado.\n",
    "\n",
    "##### Cluster 0 – Clientes Em crescimento\n",
    "1. Estimulos para aumentar o numeros de compras, como: promoções, combos e etc;\n",
    "2. Incentivos progressivos de frete grátis ou cashback.\n",
    "\n",
    "##### Cluster 2 - Clientes Sazonais\n",
    "1. Ações baseadas em datas comemorativas ou épocas de alta;\n",
    "2. E-mails personalizados com base em histórico de compra.\n",
    "\n",
    "##### Cluster 3 – Clientes Inativos\n",
    "1. Realizar campanhas para convida-los a comprar novamente no site;\n",
    "2. Cupons de retorno, do tipo: sentimos sua falta;\n",
    "3. Questionários de satisfação ou abandono. Essencial para realmente entender onde está o problema."
   ]
  },
  {
   "cell_type": "code",
   "execution_count": null,
   "id": "91fcb17d-a6d8-459a-98d3-1ab33fc41129",
   "metadata": {},
   "outputs": [],
   "source": []
  }
 ],
 "metadata": {
  "kernelspec": {
   "display_name": "Python [conda env:base] *",
   "language": "python",
   "name": "conda-base-py"
  },
  "language_info": {
   "codemirror_mode": {
    "name": "ipython",
    "version": 3
   },
   "file_extension": ".py",
   "mimetype": "text/x-python",
   "name": "python",
   "nbconvert_exporter": "python",
   "pygments_lexer": "ipython3",
   "version": "3.12.7"
  }
 },
 "nbformat": 4,
 "nbformat_minor": 5
}
