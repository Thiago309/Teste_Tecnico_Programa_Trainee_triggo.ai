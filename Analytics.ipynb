{
 "cells": [
  {
   "cell_type": "code",
   "id": "b7f5a0b2-8e73-4f1a-88b4-afb85f8131ed",
   "metadata": {},
   "source": [
    "import pandas as pd\n",
    "\n",
    "df_orders = pd.read_csv(\"../datasets/olist_orders_dataset.csv\")\n",
    "df_order_items = pd.read_csv(\"../datasets/olist_order_items_dataset.csv\")\n",
    "df_customers = pd.read_csv(\"../datasets/olist_customers_dataset.csv\")\n",
    "df_geolocation = pd.read_csv(\"../datasets/olist_geolocation_dataset.csv\")\n",
    "df_payments = pd.read_csv(\"../datasets/olist_order_payments_dataset.csv\")\n",
    "df_reviews = pd.read_csv(\"../datasets/olist_order_reviews_dataset.csv\")\n",
    "df_products = pd.read_csv(\"../datasets/olist_products_dataset.csv\")\n",
    "df_sellers = pd.read_csv(\"../datasets/olist_sellers_dataset.csv\")\n",
    "df_category = pd.read_csv(\"../datasets/product_category_name_translation.csv\")"
   ],
   "outputs": [],
   "execution_count": null
  },
  {
   "cell_type": "code",
   "id": "aeb631ba-75cf-4c39-ac1a-2cdbff90d314",
   "metadata": {},
   "source": [],
   "outputs": [],
   "execution_count": null
  }
 ],
 "metadata": {
  "kernelspec": {
   "display_name": "Python [conda env:base] *",
   "language": "python",
   "name": "conda-base-py"
  },
  "language_info": {
   "codemirror_mode": {
    "name": "ipython",
    "version": 3
   },
   "file_extension": ".py",
   "mimetype": "text/x-python",
   "name": "python",
   "nbconvert_exporter": "python",
   "pygments_lexer": "ipython3",
   "version": "3.12.7"
  }
 },
 "nbformat": 4,
 "nbformat_minor": 5
}
