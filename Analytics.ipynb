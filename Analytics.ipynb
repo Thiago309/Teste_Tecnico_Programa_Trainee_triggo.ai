{
 "cells": [
  {
   "cell_type": "markdown",
   "id": "60285890-6785-49ea-88c5-5d5832ee3996",
   "metadata": {},
   "source": [
    "# 1. Preparação dos Dados (25 pontos)"
   ]
  },
  {
   "cell_type": "code",
   "execution_count": 118,
   "id": "2a8ef505-e80e-46d1-acda-9af5652cfb1f",
   "metadata": {
    "tags": []
   },
   "outputs": [
    {
     "name": "stdout",
     "output_type": "stream",
     "text": [
      "Requirement already satisfied: pandas in c:\\users\\karer\\anaconda3\\lib\\site-packages (2.2.2)\n",
      "Requirement already satisfied: numpy>=1.26.0 in c:\\users\\karer\\anaconda3\\lib\\site-packages (from pandas) (1.26.4)\n",
      "Requirement already satisfied: python-dateutil>=2.8.2 in c:\\users\\karer\\anaconda3\\lib\\site-packages (from pandas) (2.9.0.post0)\n",
      "Requirement already satisfied: pytz>=2020.1 in c:\\users\\karer\\anaconda3\\lib\\site-packages (from pandas) (2024.1)\n",
      "Requirement already satisfied: tzdata>=2022.7 in c:\\users\\karer\\anaconda3\\lib\\site-packages (from pandas) (2023.3)\n",
      "Requirement already satisfied: six>=1.5 in c:\\users\\karer\\anaconda3\\lib\\site-packages (from python-dateutil>=2.8.2->pandas) (1.16.0)\n"
     ]
    }
   ],
   "source": [
    "!pip install pandas"
   ]
  },
  {
   "cell_type": "code",
   "execution_count": 119,
   "id": "b7f5a0b2-8e73-4f1a-88b4-afb85f8131ed",
   "metadata": {
    "tags": []
   },
   "outputs": [],
   "source": [
    "import pandas as pd"
   ]
  },
  {
   "cell_type": "markdown",
   "id": "cf9ad3d7-e62d-4666-a5ef-0d31977391f1",
   "metadata": {},
   "source": [
    "### a. Importação dos arquivos CSV\n",
    "\n",
    "Abaixo importei todos os arquivos .CSV do dataset \"Brazilian E-commerce Public Data ny Olist\" utilizando a biblioteca pandas. Cada DataFrame representa uma das entidades principais e seus relacionamentos."
   ]
  },
  {
   "cell_type": "code",
   "execution_count": 121,
   "id": "ccbda90d-d5f7-4c8d-a377-43cb7c4e4a7d",
   "metadata": {
    "tags": []
   },
   "outputs": [],
   "source": [
    "# Pedidos e Detalhes \n",
    "df_orders = pd.read_csv(\"olist_orders_dataset.csv\", sep=\",\")\n",
    "df_order_items = pd.read_csv(\"olist_order_items_dataset.csv\", sep=\",\")\n",
    "df_payments = pd.read_csv(\"olist_order_payments_dataset.csv\", sep=\",\")\n",
    "df_reviews = pd.read_csv(\"olist_order_reviews_dataset.csv\", sep=\",\")\n",
    "\n",
    "#Entidades Relacionadas\n",
    "df_customers = pd.read_csv(\"olist_customers_dataset.csv\", sep=\",\")\n",
    "df_products = pd.read_csv(\"olist_products_dataset.csv\", sep=\",\")\n",
    "df_sellers = pd.read_csv(\"olist_sellers_dataset.csv\", sep=\",\")\n",
    "df_category = pd.read_csv(\"product_category_name_translation.csv\", sep=\",\")\n",
    "df_geolocation = pd.read_csv(\"olist_geolocation_dataset.csv\", sep=\",\")"
   ]
  },
  {
   "cell_type": "markdown",
   "id": "d9d2347e-ea6c-464a-86c9-4e2284faf2f8",
   "metadata": {},
   "source": [
    "### b. Limpeza dos Dados"
   ]
  },
  {
   "cell_type": "markdown",
   "id": "4bb56d9a-c677-4caf-ac3b-0d72607f98ac",
   "metadata": {},
   "source": [
    "Nesta etapa do código, realizei o processo de limpeza dos valores em todos os dataframes.\n",
    "1. Convertir as colunas com valores que continhas datas para o tipo datetime para facilitar análises temporais;\n",
    "2. Removi valores duplicados, onde foi necessario;\n",
    "3. No dataframe (df_orders) mantive os valores nulos nas colunas (order_delivered_carrier_date) e (order_delivered_customer_date), pois percebi que a ausencia desses dados, poderia significar que o pedido deve ter sido cancelado;\n",
    "4. No dataframe (df_products), removi os dados da coluna (product_category_name), pois não são úteis para analises futuras.\n",
    "5. Realizei o tratamento de strings nos campos textuais, removendo espaços em brancos indevidos antes e depos dos valores. Isso ajuda a evitar erros no momento de realizar joins, agrupamentos ou filtros;\n",
    "6. Converti dados de das colunas categoricas que estavam no tipo objetos para tipos categoricos para tornar as analises mais corretas;\n",
    "7. Verifiquei valores invalidos ou inesperados, como: status de pedidos inexisitentes, evitando distorções em analises futuras;\n",
    "8. Verifiquei se havia inconsistencias de data, na data de entrega antes da compra, assim, evitando conclusões erradas sobre prazos logisticos e melhorando a confiabilidade das metricas temporais (estimativa de entrega dos produtos);\n",
    "9. Analisei as coordenadas geográficas nulas ou inválidas. Assim, mantendo seguro a precisão em analises geoespaciais e mapas, evitando pontos imprecisos ou não existentes;\n",
    "10. Verifiquei se a tradução de categorias de produtos PT-BR para EN-US estava funcionando corretamente, para assegurar que o publico que não fala português, entendam os dados contidos na coluna de categorias;\n",
    "11. Encontrei algumas categorias sem tradução, então adicionei as traduções no df_category."
   ]
  },
  {
   "cell_type": "markdown",
   "id": "a2bd31ee-318f-4c6e-a94a-72c18b5c4b86",
   "metadata": {},
   "source": [
    "Verificando a quantidade de valores nulos e duplicados em todos os dataframes"
   ]
  },
  {
   "cell_type": "code",
   "execution_count": 125,
   "id": "8579f84e-325c-4a02-b876-0573c003a61a",
   "metadata": {
    "tags": []
   },
   "outputs": [
    {
     "name": "stdout",
     "output_type": "stream",
     "text": [
      "\n",
      " ORDERS\n",
      "Quantidade de linhas com valores nulos:\n",
      " order_id                            0\n",
      "customer_id                         0\n",
      "order_status                        0\n",
      "order_purchase_timestamp            0\n",
      "order_approved_at                 160\n",
      "order_delivered_carrier_date     1783\n",
      "order_delivered_customer_date    2965\n",
      "order_estimated_delivery_date       0\n",
      "dtype: int64\n",
      "Linhas com valores duplicados: 0\n",
      "\n",
      " ORDER_ITEMS\n",
      "Quantidade de linhas com valores nulos:\n",
      " order_id               0\n",
      "order_item_id          0\n",
      "product_id             0\n",
      "seller_id              0\n",
      "shipping_limit_date    0\n",
      "price                  0\n",
      "freight_value          0\n",
      "dtype: int64\n",
      "Linhas com valores duplicados: 0\n",
      "\n",
      " PAYMENTS\n",
      "Quantidade de linhas com valores nulos:\n",
      " order_id                0\n",
      "payment_sequential      0\n",
      "payment_type            0\n",
      "payment_installments    0\n",
      "payment_value           0\n",
      "dtype: int64\n",
      "Linhas com valores duplicados: 0\n",
      "\n",
      " REVIEWS\n",
      "Quantidade de linhas com valores nulos:\n",
      " review_id                      0\n",
      "order_id                       0\n",
      "review_score                   0\n",
      "review_comment_title       87656\n",
      "review_comment_message     58247\n",
      "review_creation_date           0\n",
      "review_answer_timestamp        0\n",
      "dtype: int64\n",
      "Linhas com valores duplicados: 0\n",
      "\n",
      " CUSTOMERS\n",
      "Quantidade de linhas com valores nulos:\n",
      " customer_id                 0\n",
      "customer_unique_id          0\n",
      "customer_zip_code_prefix    0\n",
      "customer_city               0\n",
      "customer_state              0\n",
      "dtype: int64\n",
      "Linhas com valores duplicados: 0\n",
      "\n",
      " SELLERS\n",
      "Quantidade de linhas com valores nulos:\n",
      " seller_id                 0\n",
      "seller_zip_code_prefix    0\n",
      "seller_city               0\n",
      "seller_state              0\n",
      "dtype: int64\n",
      "Linhas com valores duplicados: 0\n",
      "\n",
      " PRODUCTS\n",
      "Quantidade de linhas com valores nulos:\n",
      " product_id                      0\n",
      "product_category_name         610\n",
      "product_name_lenght           610\n",
      "product_description_lenght    610\n",
      "product_photos_qty            610\n",
      "product_weight_g                2\n",
      "product_length_cm               2\n",
      "product_height_cm               2\n",
      "product_width_cm                2\n",
      "dtype: int64\n",
      "Linhas com valores duplicados: 0\n",
      "\n",
      " CATEGORY\n",
      "Quantidade de linhas com valores nulos:\n",
      " product_category_name            0\n",
      "product_category_name_english    0\n",
      "dtype: int64\n",
      "Linhas com valores duplicados: 0\n",
      "\n",
      " GEOLOCATION\n",
      "Quantidade de linhas com valores nulos:\n",
      " geolocation_zip_code_prefix    0\n",
      "geolocation_lat                0\n",
      "geolocation_lng                0\n",
      "geolocation_city               0\n",
      "geolocation_state              0\n",
      "dtype: int64\n",
      "Linhas com valores duplicados: 261831\n"
     ]
    }
   ],
   "source": [
    "# Verificando valores nulos e duplicatas em todos os DataFrames\n",
    "dataframes = {\n",
    "    'orders': df_orders,\n",
    "    'order_items': df_order_items,\n",
    "    'payments': df_payments,\n",
    "    'reviews': df_reviews,\n",
    "    'customers': df_customers,\n",
    "    'sellers': df_sellers,\n",
    "    'products': df_products,\n",
    "    'category': df_category,\n",
    "    'geolocation': df_geolocation\n",
    "}\n",
    "\n",
    "for name, df in dataframes.items():\n",
    "    print(f\"\\n {name.upper()}\")\n",
    "    print(\"Quantidade de linhas com valores nulos:\\n\", df.isnull().sum())\n",
    "    print(\"Linhas com valores duplicados:\", df.duplicated().sum())"
   ]
  },
  {
   "cell_type": "markdown",
   "id": "b8840155-5657-47a1-b30b-8260da5424bd",
   "metadata": {},
   "source": [
    "Convertendo as colunas de data para datetime, serve para podermos utilizar análises temporais mais eficazes."
   ]
  },
  {
   "cell_type": "code",
   "execution_count": 127,
   "id": "f56f815d-b8c0-4254-85d3-91c4e7db60fc",
   "metadata": {
    "tags": []
   },
   "outputs": [
    {
     "name": "stdout",
     "output_type": "stream",
     "text": [
      "product_id                      0\n",
      "product_category_name         610\n",
      "product_name_lenght           610\n",
      "product_description_lenght    610\n",
      "product_photos_qty            610\n",
      "product_weight_g                2\n",
      "product_length_cm               2\n",
      "product_height_cm               2\n",
      "product_width_cm                2\n",
      "dtype: int64\n"
     ]
    }
   ],
   "source": [
    "colunas_data = ['order_purchase_timestamp', 'order_approved_at', 'order_delivered_carrier_date', \n",
    "             'order_delivered_customer_date', 'order_estimated_delivery_date']\n",
    "df_orders[colunas_data] = df_orders[colunas_data].apply(pd.to_datetime)\n",
    "\n",
    "# Nenhuma coluna precisa ser preenchida com média ou mediana, pois datas ausentes em (approved ou delivered) podem representar cancelamentos dos pedidos.\n",
    "\n",
    "# ### removendo valores duplicados dos dataframes ###\n",
    "\n",
    "# removendo linhas duplicadas de orders\n",
    "df_orders.drop_duplicates(inplace=True)\n",
    "# removendo linhas duplicadas de order_items\n",
    "df_order_items.drop_duplicates(inplace=True)\n",
    "# removendo linhas duplicadas de payments\n",
    "df_payments.drop_duplicates(inplace=True)\n",
    "\n",
    "# Converter colunas de data do dataframa reviews\n",
    "df_reviews['review_creation_date'] = pd.to_datetime(df_reviews['review_creation_date'])\n",
    "df_reviews['review_answer_timestamp'] = pd.to_datetime(df_reviews['review_answer_timestamp'])\n",
    "# removendo linhas duplicadas de reviews\n",
    "df_reviews.drop_duplicates(inplace=True)\n",
    "\n",
    "# removendo linhas duplicadas de customers\n",
    "df_customers.drop_duplicates(inplace=True)\n",
    "# removendo linhas duplicadas de sellers\n",
    "df_sellers.drop_duplicates(inplace=True)\n",
    "\n",
    "# Já que sabemos que existem linhas nulas no dataframe df_products, então teremos que usar uma estageria de manter ou remover os nulos\n",
    "# isso vai depender de como nos iremos utilizar os dados futuramente.\n",
    "\n",
    "# Verificar colunas com nulos do dataframe df_products. Retorna um valor boleano True or False. E soma a quantidade de dados nulos.\n",
    "print(df_products.isnull().sum())\n",
    "\n",
    "# Removemos do dataframe df_products todas as linhas que têm valor nulo apenas na coluna product_category_name\n",
    "# Esse processo é importante para análises por categoria. Manter valores nulos nela pode atrapalhar agregações e visualizações.\n",
    "df_products.dropna(subset=['product_category_name'], inplace=True)\n",
    "\n",
    "# Removemos todas as linhas duplicadas da tabela df_products, pois o pandas considera como duplicadas as linhas que possuem valores iguais em todas as colunas.\n",
    "df_products.drop_duplicates(inplace=True)\n",
    "# removendo linhas duplicadas de category\n",
    "df_category.drop_duplicates(inplace=True)\n",
    "# Geolocation pode ter duplicatas porque existem várias entradas por cidade\n",
    "df_geolocation.drop_duplicates(inplace=True)"
   ]
  },
  {
   "cell_type": "markdown",
   "id": "50931d76-3507-4402-ad08-b9317a44a83d",
   "metadata": {},
   "source": [
    "Verificando as conversões"
   ]
  },
  {
   "cell_type": "code",
   "execution_count": 129,
   "id": "22377d51-f56f-415b-b543-bcc6baa094de",
   "metadata": {},
   "outputs": [
    {
     "name": "stdout",
     "output_type": "stream",
     "text": [
      "<class 'pandas.core.frame.DataFrame'>\n",
      "RangeIndex: 99441 entries, 0 to 99440\n",
      "Data columns (total 8 columns):\n",
      " #   Column                         Non-Null Count  Dtype         \n",
      "---  ------                         --------------  -----         \n",
      " 0   order_id                       99441 non-null  object        \n",
      " 1   customer_id                    99441 non-null  object        \n",
      " 2   order_status                   99441 non-null  object        \n",
      " 3   order_purchase_timestamp       99441 non-null  datetime64[ns]\n",
      " 4   order_approved_at              99281 non-null  datetime64[ns]\n",
      " 5   order_delivered_carrier_date   97658 non-null  datetime64[ns]\n",
      " 6   order_delivered_customer_date  96476 non-null  datetime64[ns]\n",
      " 7   order_estimated_delivery_date  99441 non-null  datetime64[ns]\n",
      "dtypes: datetime64[ns](5), object(3)\n",
      "memory usage: 6.1+ MB\n"
     ]
    }
   ],
   "source": [
    "df_orders.info()"
   ]
  },
  {
   "cell_type": "markdown",
   "id": "da93a536-333a-4f4c-8b32-37ee3406fc99",
   "metadata": {},
   "source": [
    "Tratamento de Strings"
   ]
  },
  {
   "cell_type": "code",
   "execution_count": 131,
   "id": "a2a4971f-2d8b-4734-9acb-6255775b149a",
   "metadata": {
    "tags": []
   },
   "outputs": [],
   "source": [
    "# Essa função, faz o tratamento de remoção de espaços em brancos nas colunas do tipo string.\n",
    "def remover_espacos(df):\n",
    "    colunas_str = df.select_dtypes(include = 'object').columns\n",
    "    df[colunas_str] = df[colunas_str].apply(lambda x: x.str.strip())\n",
    "    return df\n",
    "\n",
    "# Aplicar nos dataframes\n",
    "df_orders = remover_espacos(df_orders)\n",
    "df_order_items = remover_espacos(df_order_items)\n",
    "df_payments = remover_espacos(df_payments)\n",
    "df_reviews = remover_espacos(df_reviews)\n",
    "df_customers = remover_espacos(df_customers)\n",
    "df_sellers = remover_espacos(df_sellers)\n",
    "df_products = remover_espacos(df_products)\n",
    "df_category = remover_espacos(df_category)\n",
    "df_geolocation = remover_espacos(df_geolocation)\n"
   ]
  },
  {
   "cell_type": "code",
   "execution_count": 132,
   "id": "a350c943-01da-400a-ab68-459f2e478a9a",
   "metadata": {
    "jupyter": {
     "is_executing": true
    },
    "tags": []
   },
   "outputs": [
    {
     "data": {
      "text/html": [
       "<div>\n",
       "<style scoped>\n",
       "    .dataframe tbody tr th:only-of-type {\n",
       "        vertical-align: middle;\n",
       "    }\n",
       "\n",
       "    .dataframe tbody tr th {\n",
       "        vertical-align: top;\n",
       "    }\n",
       "\n",
       "    .dataframe thead th {\n",
       "        text-align: right;\n",
       "    }\n",
       "</style>\n",
       "<table border=\"1\" class=\"dataframe\">\n",
       "  <thead>\n",
       "    <tr style=\"text-align: right;\">\n",
       "      <th></th>\n",
       "      <th>seller_city</th>\n",
       "      <th>seller_state</th>\n",
       "    </tr>\n",
       "  </thead>\n",
       "  <tbody>\n",
       "    <tr>\n",
       "      <th>0</th>\n",
       "      <td>campinas</td>\n",
       "      <td>SP</td>\n",
       "    </tr>\n",
       "    <tr>\n",
       "      <th>1</th>\n",
       "      <td>mogi guacu</td>\n",
       "      <td>SP</td>\n",
       "    </tr>\n",
       "    <tr>\n",
       "      <th>2</th>\n",
       "      <td>rio de janeiro</td>\n",
       "      <td>RJ</td>\n",
       "    </tr>\n",
       "    <tr>\n",
       "      <th>3</th>\n",
       "      <td>sao paulo</td>\n",
       "      <td>SP</td>\n",
       "    </tr>\n",
       "    <tr>\n",
       "      <th>4</th>\n",
       "      <td>braganca paulista</td>\n",
       "      <td>SP</td>\n",
       "    </tr>\n",
       "    <tr>\n",
       "      <th>...</th>\n",
       "      <td>...</td>\n",
       "      <td>...</td>\n",
       "    </tr>\n",
       "    <tr>\n",
       "      <th>3090</th>\n",
       "      <td>sarandi</td>\n",
       "      <td>PR</td>\n",
       "    </tr>\n",
       "    <tr>\n",
       "      <th>3091</th>\n",
       "      <td>palhoca</td>\n",
       "      <td>SC</td>\n",
       "    </tr>\n",
       "    <tr>\n",
       "      <th>3092</th>\n",
       "      <td>sao paulo</td>\n",
       "      <td>SP</td>\n",
       "    </tr>\n",
       "    <tr>\n",
       "      <th>3093</th>\n",
       "      <td>pelotas</td>\n",
       "      <td>RS</td>\n",
       "    </tr>\n",
       "    <tr>\n",
       "      <th>3094</th>\n",
       "      <td>taubate</td>\n",
       "      <td>SP</td>\n",
       "    </tr>\n",
       "  </tbody>\n",
       "</table>\n",
       "<p>3095 rows × 2 columns</p>\n",
       "</div>"
      ],
      "text/plain": [
       "            seller_city seller_state\n",
       "0              campinas           SP\n",
       "1            mogi guacu           SP\n",
       "2        rio de janeiro           RJ\n",
       "3             sao paulo           SP\n",
       "4     braganca paulista           SP\n",
       "...                 ...          ...\n",
       "3090            sarandi           PR\n",
       "3091            palhoca           SC\n",
       "3092          sao paulo           SP\n",
       "3093            pelotas           RS\n",
       "3094            taubate           SP\n",
       "\n",
       "[3095 rows x 2 columns]"
      ]
     },
     "execution_count": 132,
     "metadata": {},
     "output_type": "execute_result"
    }
   ],
   "source": [
    "# Exemplo para evitar conflitos entre nomes de cidades.\n",
    "df2 = df_sellers[[\"seller_city\", \"seller_state\"]]\n",
    "df2"
   ]
  },
  {
   "cell_type": "markdown",
   "id": "3f2761c8-691e-4f23-9502-4f262266e461",
   "metadata": {},
   "source": [
    "Verificando os tipos de inconsistencias. Para isso, vamos verificar se os tipos das colunas IDs e colunas categóricas, estão corretas. Então convertemos as colunas de categorias para o tipo category e verificamos os valores inválidos ou não esperados nessas colunas."
   ]
  },
  {
   "cell_type": "code",
   "execution_count": 175,
   "id": "a3fce51f-a368-4907-83c3-5fafd06fd413",
   "metadata": {},
   "outputs": [],
   "source": [
    "# Convertendo \n",
    "category_columns = ['order_status', 'payment_type', 'review_score',\n",
    "               'product_category_name', 'customer_state', 'seller_state']\n",
    "\n",
    "for coluna in category_columns:\n",
    "    for df in [df_orders, df_payments, df_reviews, df_products, df_customers, df_sellers]:\n",
    "        if coluna in df.columns:\n",
    "            df[coluna] = df[coluna].astype('category')\n",
    "            "
   ]
  },
  {
   "cell_type": "markdown",
   "id": "74c85ec3-de2b-4f7d-a14c-0c5ce2323e58",
   "metadata": {},
   "source": [
    "Verificando a quantidade de valores invalidos ou inesperados das colunas categoricas"
   ]
  },
  {
   "cell_type": "code",
   "execution_count": 136,
   "id": "07b9cab0-71ea-4515-babd-537247078de0",
   "metadata": {},
   "outputs": [
    {
     "name": "stdout",
     "output_type": "stream",
     "text": [
      "###### orders ######\n",
      "\n",
      "order_status\n",
      "delivered      96478\n",
      "shipped         1107\n",
      "canceled         625\n",
      "unavailable      609\n",
      "invoiced         314\n",
      "processing       301\n",
      "created            5\n",
      "approved           2\n",
      "Name: count, dtype: int64\n",
      "\n",
      "###### payments ######\n",
      "\n",
      "payment_type\n",
      "credit_card    76795\n",
      "boleto         19784\n",
      "voucher         5775\n",
      "debit_card      1529\n",
      "not_defined        3\n",
      "Name: count, dtype: int64\n",
      "\n",
      "###### reviews ######\n",
      "\n",
      "review_score\n",
      "5    57328\n",
      "4    19142\n",
      "1    11424\n",
      "3     8179\n",
      "2     3151\n",
      "Name: count, dtype: int64\n"
     ]
    }
   ],
   "source": [
    "# Verificando a quantidade de valores invalidos ou inesperados das colunas categoricas\n",
    "print(\"###### orders ######\\n\")\n",
    "print(df_orders['order_status'].value_counts())\n",
    "print(\"\\n###### payments ######\\n\")\n",
    "print(df_payments['payment_type'].value_counts())\n",
    "print(\"\\n###### reviews ######\\n\")\n",
    "print(df_reviews['review_score'].value_counts())"
   ]
  },
  {
   "cell_type": "markdown",
   "id": "0558a38e-7dd1-4dfb-824c-7db0102e713d",
   "metadata": {},
   "source": [
    "Verificando colunas que contem valores zero, mas não deveriam.\n",
    "Penso em filtrar se parecerem inválidos, ou manter caso forem pedidos gratuitos ou testes."
   ]
  },
  {
   "cell_type": "code",
   "execution_count": 138,
   "id": "94b85ec9-77f7-4d48-bac6-6db6ce617797",
   "metadata": {},
   "outputs": [
    {
     "name": "stdout",
     "output_type": "stream",
     "text": [
      "                                order_id  payment_sequential payment_type  \\\n",
      "19922   8bcbe01d44d147f901cd3192671144db                   4      voucher   \n",
      "36822   fa65dad1b0e818e3ccc5cb0e39231352                  14      voucher   \n",
      "43744   6ccb433e00daae1283ccc956189c82ae                   4      voucher   \n",
      "51280   4637ca194b6387e2d538dc89b124b0ee                   1  not_defined   \n",
      "57411   00b1cb0320190ca0daa2c88b35206009                   1  not_defined   \n",
      "62674   45ed6e85398a87c253db47c2d9f48216                   3      voucher   \n",
      "77885   fa65dad1b0e818e3ccc5cb0e39231352                  13      voucher   \n",
      "94427   c8c528189310eaa44a745b8d9d26908b                   1  not_defined   \n",
      "100766  b23878b3e8eb4d25a158f57d96331b18                   4      voucher   \n",
      "\n",
      "        payment_installments  payment_value  \n",
      "19922                      1            0.0  \n",
      "36822                      1            0.0  \n",
      "43744                      1            0.0  \n",
      "51280                      1            0.0  \n",
      "57411                      1            0.0  \n",
      "62674                      1            0.0  \n",
      "77885                      1            0.0  \n",
      "94427                      1            0.0  \n",
      "100766                     1            0.0  \n"
     ]
    }
   ],
   "source": [
    "print(df_payments[df_payments['payment_value'] == 0])"
   ]
  },
  {
   "cell_type": "markdown",
   "id": "d9e7cbae-a255-4a60-87ad-4654b079a16a",
   "metadata": {},
   "source": [
    "Verificando se existem datas inconsistens de entrega antes da data de compra ou aprovação das ordens produtos."
   ]
  },
  {
   "cell_type": "code",
   "execution_count": 140,
   "id": "a9d0b36a-1290-4137-8a2b-976a83e78c99",
   "metadata": {},
   "outputs": [
    {
     "data": {
      "text/html": [
       "<div>\n",
       "<style scoped>\n",
       "    .dataframe tbody tr th:only-of-type {\n",
       "        vertical-align: middle;\n",
       "    }\n",
       "\n",
       "    .dataframe tbody tr th {\n",
       "        vertical-align: top;\n",
       "    }\n",
       "\n",
       "    .dataframe thead th {\n",
       "        text-align: right;\n",
       "    }\n",
       "</style>\n",
       "<table border=\"1\" class=\"dataframe\">\n",
       "  <thead>\n",
       "    <tr style=\"text-align: right;\">\n",
       "      <th></th>\n",
       "      <th>order_id</th>\n",
       "      <th>customer_id</th>\n",
       "      <th>order_status</th>\n",
       "      <th>order_purchase_timestamp</th>\n",
       "      <th>order_approved_at</th>\n",
       "      <th>order_delivered_carrier_date</th>\n",
       "      <th>order_delivered_customer_date</th>\n",
       "      <th>order_estimated_delivery_date</th>\n",
       "    </tr>\n",
       "  </thead>\n",
       "  <tbody>\n",
       "  </tbody>\n",
       "</table>\n",
       "</div>"
      ],
      "text/plain": [
       "Empty DataFrame\n",
       "Columns: [order_id, customer_id, order_status, order_purchase_timestamp, order_approved_at, order_delivered_carrier_date, order_delivered_customer_date, order_estimated_delivery_date]\n",
       "Index: []"
      ]
     },
     "execution_count": 140,
     "metadata": {},
     "output_type": "execute_result"
    }
   ],
   "source": [
    "df_orders[df_orders['order_delivered_customer_date'] < df_orders['order_purchase_timestamp']]"
   ]
  },
  {
   "cell_type": "markdown",
   "id": "9df39a1f-ee3d-49f6-a4c7-96e03f129c3a",
   "metadata": {},
   "source": [
    "Verificando se existem localizações inválidas (geolocalização). Verificando se há latitudes/longitudes muito discrepantes ou iguais a zero."
   ]
  },
  {
   "cell_type": "code",
   "execution_count": 142,
   "id": "3368d54c-cace-4a11-8783-619c50131d4d",
   "metadata": {},
   "outputs": [
    {
     "data": {
      "text/html": [
       "<div>\n",
       "<style scoped>\n",
       "    .dataframe tbody tr th:only-of-type {\n",
       "        vertical-align: middle;\n",
       "    }\n",
       "\n",
       "    .dataframe tbody tr th {\n",
       "        vertical-align: top;\n",
       "    }\n",
       "\n",
       "    .dataframe thead th {\n",
       "        text-align: right;\n",
       "    }\n",
       "</style>\n",
       "<table border=\"1\" class=\"dataframe\">\n",
       "  <thead>\n",
       "    <tr style=\"text-align: right;\">\n",
       "      <th></th>\n",
       "      <th>geolocation_zip_code_prefix</th>\n",
       "      <th>geolocation_lat</th>\n",
       "      <th>geolocation_lng</th>\n",
       "      <th>geolocation_city</th>\n",
       "      <th>geolocation_state</th>\n",
       "    </tr>\n",
       "  </thead>\n",
       "  <tbody>\n",
       "  </tbody>\n",
       "</table>\n",
       "</div>"
      ],
      "text/plain": [
       "Empty DataFrame\n",
       "Columns: [geolocation_zip_code_prefix, geolocation_lat, geolocation_lng, geolocation_city, geolocation_state]\n",
       "Index: []"
      ]
     },
     "execution_count": 142,
     "metadata": {},
     "output_type": "execute_result"
    }
   ],
   "source": [
    "df_geolocation.query(\"geolocation_lat < -90 or geolocation_lat > 90 or geolocation_lng < -180 or geolocation_lng > 180\")\n",
    "df_geolocation.query(\"geolocation_lat == 0 or geolocation_lng == 0\")"
   ]
  },
  {
   "cell_type": "markdown",
   "id": "70f81782-f7a9-4b60-8306-7eda176039e0",
   "metadata": {},
   "source": [
    "Verificando se a cobertura da tradução dos produtos sem categorias. Já que removemos os valores nulos da coluna (product_category_name) do dataframe (df_products) anteriormente. Agora vamos verificar se a tradução do dataframe (product_category_name_translation) esta funcionando corretamente para o PT-BR, no dataframe (df_products)."
   ]
  },
  {
   "cell_type": "code",
   "execution_count": 157,
   "id": "70a5e4a3-78cc-4400-a62e-84ae37765943",
   "metadata": {},
   "outputs": [
    {
     "data": {
      "text/html": [
       "<div>\n",
       "<style scoped>\n",
       "    .dataframe tbody tr th:only-of-type {\n",
       "        vertical-align: middle;\n",
       "    }\n",
       "\n",
       "    .dataframe tbody tr th {\n",
       "        vertical-align: top;\n",
       "    }\n",
       "\n",
       "    .dataframe thead th {\n",
       "        text-align: right;\n",
       "    }\n",
       "</style>\n",
       "<table border=\"1\" class=\"dataframe\">\n",
       "  <thead>\n",
       "    <tr style=\"text-align: right;\">\n",
       "      <th></th>\n",
       "      <th>product_id</th>\n",
       "      <th>product_category_name</th>\n",
       "    </tr>\n",
       "  </thead>\n",
       "  <tbody>\n",
       "    <tr>\n",
       "      <th>1628</th>\n",
       "      <td>0105b5323d24fc655f73052694dbbb3a</td>\n",
       "      <td>pc_gamer</td>\n",
       "    </tr>\n",
       "    <tr>\n",
       "      <th>5821</th>\n",
       "      <td>6fd83eb3e0799b775e4f946bd66657c0</td>\n",
       "      <td>portateis_cozinha_e_preparadores_de_alimentos</td>\n",
       "    </tr>\n",
       "    <tr>\n",
       "      <th>7325</th>\n",
       "      <td>5d923ead886c44b86845f69e50520c3e</td>\n",
       "      <td>portateis_cozinha_e_preparadores_de_alimentos</td>\n",
       "    </tr>\n",
       "    <tr>\n",
       "      <th>7478</th>\n",
       "      <td>6727051471a0fc4a0e7737b57bff2549</td>\n",
       "      <td>pc_gamer</td>\n",
       "    </tr>\n",
       "    <tr>\n",
       "      <th>8819</th>\n",
       "      <td>bed164d9d628cf0593003389c535c6e0</td>\n",
       "      <td>portateis_cozinha_e_preparadores_de_alimentos</td>\n",
       "    </tr>\n",
       "    <tr>\n",
       "      <th>11039</th>\n",
       "      <td>1220978a08a6b29a202bc015b18250e9</td>\n",
       "      <td>portateis_cozinha_e_preparadores_de_alimentos</td>\n",
       "    </tr>\n",
       "    <tr>\n",
       "      <th>14266</th>\n",
       "      <td>ae62bb0f95af63d64eae5f93dddea8d3</td>\n",
       "      <td>portateis_cozinha_e_preparadores_de_alimentos</td>\n",
       "    </tr>\n",
       "    <tr>\n",
       "      <th>16182</th>\n",
       "      <td>1954739d84629e7323a4295812a3e0ec</td>\n",
       "      <td>portateis_cozinha_e_preparadores_de_alimentos</td>\n",
       "    </tr>\n",
       "    <tr>\n",
       "      <th>16930</th>\n",
       "      <td>dbe520fb381ad695a7e1f2807d20c765</td>\n",
       "      <td>pc_gamer</td>\n",
       "    </tr>\n",
       "    <tr>\n",
       "      <th>17800</th>\n",
       "      <td>c7a3f1a7f9eef146cc499368b578b884</td>\n",
       "      <td>portateis_cozinha_e_preparadores_de_alimentos</td>\n",
       "    </tr>\n",
       "    <tr>\n",
       "      <th>18610</th>\n",
       "      <td>7afdd65f79f63819ff5bee328843fa37</td>\n",
       "      <td>portateis_cozinha_e_preparadores_de_alimentos</td>\n",
       "    </tr>\n",
       "    <tr>\n",
       "      <th>26890</th>\n",
       "      <td>a4756663d007b0cd1af865754d08d968</td>\n",
       "      <td>portateis_cozinha_e_preparadores_de_alimentos</td>\n",
       "    </tr>\n",
       "    <tr>\n",
       "      <th>29919</th>\n",
       "      <td>cb9d764f38ee4d0c00af64d5c388f837</td>\n",
       "      <td>portateis_cozinha_e_preparadores_de_alimentos</td>\n",
       "    </tr>\n",
       "  </tbody>\n",
       "</table>\n",
       "</div>"
      ],
      "text/plain": [
       "                             product_id  \\\n",
       "1628   0105b5323d24fc655f73052694dbbb3a   \n",
       "5821   6fd83eb3e0799b775e4f946bd66657c0   \n",
       "7325   5d923ead886c44b86845f69e50520c3e   \n",
       "7478   6727051471a0fc4a0e7737b57bff2549   \n",
       "8819   bed164d9d628cf0593003389c535c6e0   \n",
       "11039  1220978a08a6b29a202bc015b18250e9   \n",
       "14266  ae62bb0f95af63d64eae5f93dddea8d3   \n",
       "16182  1954739d84629e7323a4295812a3e0ec   \n",
       "16930  dbe520fb381ad695a7e1f2807d20c765   \n",
       "17800  c7a3f1a7f9eef146cc499368b578b884   \n",
       "18610  7afdd65f79f63819ff5bee328843fa37   \n",
       "26890  a4756663d007b0cd1af865754d08d968   \n",
       "29919  cb9d764f38ee4d0c00af64d5c388f837   \n",
       "\n",
       "                               product_category_name  \n",
       "1628                                        pc_gamer  \n",
       "5821   portateis_cozinha_e_preparadores_de_alimentos  \n",
       "7325   portateis_cozinha_e_preparadores_de_alimentos  \n",
       "7478                                        pc_gamer  \n",
       "8819   portateis_cozinha_e_preparadores_de_alimentos  \n",
       "11039  portateis_cozinha_e_preparadores_de_alimentos  \n",
       "14266  portateis_cozinha_e_preparadores_de_alimentos  \n",
       "16182  portateis_cozinha_e_preparadores_de_alimentos  \n",
       "16930                                       pc_gamer  \n",
       "17800  portateis_cozinha_e_preparadores_de_alimentos  \n",
       "18610  portateis_cozinha_e_preparadores_de_alimentos  \n",
       "26890  portateis_cozinha_e_preparadores_de_alimentos  \n",
       "29919  portateis_cozinha_e_preparadores_de_alimentos  "
      ]
     },
     "execution_count": 157,
     "metadata": {},
     "output_type": "execute_result"
    }
   ],
   "source": [
    "df_bol = df_products[~df_products['product_category_name'].isin(df_category['product_category_name'])]\n",
    "df_bol_2 = df_bol[[\"product_id\", \"product_category_name\"]]\n",
    "df_bol_2"
   ]
  },
  {
   "cell_type": "markdown",
   "id": "f364068e-560a-421f-919f-dfbad917045a",
   "metadata": {},
   "source": [
    "Foram encontrados 2 classificações de categorias em (df_products) que não existem no dataframe de tradução (df_category).\n",
    "Para corrigir isso, vamos adicionar essas ambas categorias no (df_category)."
   ]
  },
  {
   "cell_type": "code",
   "execution_count": 159,
   "id": "a8412b41-dd3d-4d9f-94c9-9d93c9c66611",
   "metadata": {},
   "outputs": [
    {
     "data": {
      "text/html": [
       "<div>\n",
       "<style scoped>\n",
       "    .dataframe tbody tr th:only-of-type {\n",
       "        vertical-align: middle;\n",
       "    }\n",
       "\n",
       "    .dataframe tbody tr th {\n",
       "        vertical-align: top;\n",
       "    }\n",
       "\n",
       "    .dataframe thead th {\n",
       "        text-align: right;\n",
       "    }\n",
       "</style>\n",
       "<table border=\"1\" class=\"dataframe\">\n",
       "  <thead>\n",
       "    <tr style=\"text-align: right;\">\n",
       "      <th></th>\n",
       "      <th>product_category_name</th>\n",
       "      <th>product_category_name_english</th>\n",
       "    </tr>\n",
       "  </thead>\n",
       "  <tbody>\n",
       "    <tr>\n",
       "      <th>0</th>\n",
       "      <td>beleza_saude</td>\n",
       "      <td>health_beauty</td>\n",
       "    </tr>\n",
       "    <tr>\n",
       "      <th>1</th>\n",
       "      <td>informatica_acessorios</td>\n",
       "      <td>computers_accessories</td>\n",
       "    </tr>\n",
       "    <tr>\n",
       "      <th>2</th>\n",
       "      <td>automotivo</td>\n",
       "      <td>auto</td>\n",
       "    </tr>\n",
       "    <tr>\n",
       "      <th>3</th>\n",
       "      <td>cama_mesa_banho</td>\n",
       "      <td>bed_bath_table</td>\n",
       "    </tr>\n",
       "    <tr>\n",
       "      <th>4</th>\n",
       "      <td>moveis_decoracao</td>\n",
       "      <td>furniture_decor</td>\n",
       "    </tr>\n",
       "    <tr>\n",
       "      <th>...</th>\n",
       "      <td>...</td>\n",
       "      <td>...</td>\n",
       "    </tr>\n",
       "    <tr>\n",
       "      <th>66</th>\n",
       "      <td>flores</td>\n",
       "      <td>flowers</td>\n",
       "    </tr>\n",
       "    <tr>\n",
       "      <th>67</th>\n",
       "      <td>artes_e_artesanato</td>\n",
       "      <td>arts_and_craftmanship</td>\n",
       "    </tr>\n",
       "    <tr>\n",
       "      <th>68</th>\n",
       "      <td>fraldas_higiene</td>\n",
       "      <td>diapers_and_hygiene</td>\n",
       "    </tr>\n",
       "    <tr>\n",
       "      <th>69</th>\n",
       "      <td>fashion_roupa_infanto_juvenil</td>\n",
       "      <td>fashion_childrens_clothes</td>\n",
       "    </tr>\n",
       "    <tr>\n",
       "      <th>70</th>\n",
       "      <td>seguros_e_servicos</td>\n",
       "      <td>security_and_services</td>\n",
       "    </tr>\n",
       "  </tbody>\n",
       "</table>\n",
       "<p>71 rows × 2 columns</p>\n",
       "</div>"
      ],
      "text/plain": [
       "            product_category_name product_category_name_english\n",
       "0                    beleza_saude                 health_beauty\n",
       "1          informatica_acessorios         computers_accessories\n",
       "2                      automotivo                          auto\n",
       "3                 cama_mesa_banho                bed_bath_table\n",
       "4                moveis_decoracao               furniture_decor\n",
       "..                            ...                           ...\n",
       "66                         flores                       flowers\n",
       "67             artes_e_artesanato         arts_and_craftmanship\n",
       "68                fraldas_higiene           diapers_and_hygiene\n",
       "69  fashion_roupa_infanto_juvenil     fashion_childrens_clothes\n",
       "70             seguros_e_servicos         security_and_services\n",
       "\n",
       "[71 rows x 2 columns]"
      ]
     },
     "execution_count": 159,
     "metadata": {},
     "output_type": "execute_result"
    }
   ],
   "source": [
    "df_category"
   ]
  },
  {
   "cell_type": "markdown",
   "id": "8b5dfd55-b04a-4475-9932-d60c38fe859c",
   "metadata": {},
   "source": [
    "Adicionando ambas categorias no (df_category)."
   ]
  },
  {
   "cell_type": "code",
   "execution_count": 164,
   "id": "afffeda5-e5fe-4365-9bd3-2c7b7f8ffa10",
   "metadata": {},
   "outputs": [],
   "source": [
    "novas_categorias = pd.DataFrame({\n",
    "    'product_category_name': ['pc_gamer', 'portateis_cozinha_e_preparadores_de_alimentos'],\n",
    "    'product_category_name_english': ['gaming_pc', 'portable_kitchen']\n",
    "})\n",
    "\n",
    "df_category = pd.concat([df_category, novas_categorias], ignore_index=True)"
   ]
  },
  {
   "cell_type": "code",
   "execution_count": 166,
   "id": "78eb5bcc-8550-463e-8c69-bfadb54a51e8",
   "metadata": {},
   "outputs": [
    {
     "data": {
      "text/html": [
       "<div>\n",
       "<style scoped>\n",
       "    .dataframe tbody tr th:only-of-type {\n",
       "        vertical-align: middle;\n",
       "    }\n",
       "\n",
       "    .dataframe tbody tr th {\n",
       "        vertical-align: top;\n",
       "    }\n",
       "\n",
       "    .dataframe thead th {\n",
       "        text-align: right;\n",
       "    }\n",
       "</style>\n",
       "<table border=\"1\" class=\"dataframe\">\n",
       "  <thead>\n",
       "    <tr style=\"text-align: right;\">\n",
       "      <th></th>\n",
       "      <th>product_category_name</th>\n",
       "      <th>product_category_name_english</th>\n",
       "    </tr>\n",
       "  </thead>\n",
       "  <tbody>\n",
       "    <tr>\n",
       "      <th>0</th>\n",
       "      <td>beleza_saude</td>\n",
       "      <td>health_beauty</td>\n",
       "    </tr>\n",
       "    <tr>\n",
       "      <th>1</th>\n",
       "      <td>informatica_acessorios</td>\n",
       "      <td>computers_accessories</td>\n",
       "    </tr>\n",
       "    <tr>\n",
       "      <th>2</th>\n",
       "      <td>automotivo</td>\n",
       "      <td>auto</td>\n",
       "    </tr>\n",
       "    <tr>\n",
       "      <th>3</th>\n",
       "      <td>cama_mesa_banho</td>\n",
       "      <td>bed_bath_table</td>\n",
       "    </tr>\n",
       "    <tr>\n",
       "      <th>4</th>\n",
       "      <td>moveis_decoracao</td>\n",
       "      <td>furniture_decor</td>\n",
       "    </tr>\n",
       "    <tr>\n",
       "      <th>...</th>\n",
       "      <td>...</td>\n",
       "      <td>...</td>\n",
       "    </tr>\n",
       "    <tr>\n",
       "      <th>68</th>\n",
       "      <td>fraldas_higiene</td>\n",
       "      <td>diapers_and_hygiene</td>\n",
       "    </tr>\n",
       "    <tr>\n",
       "      <th>69</th>\n",
       "      <td>fashion_roupa_infanto_juvenil</td>\n",
       "      <td>fashion_childrens_clothes</td>\n",
       "    </tr>\n",
       "    <tr>\n",
       "      <th>70</th>\n",
       "      <td>seguros_e_servicos</td>\n",
       "      <td>security_and_services</td>\n",
       "    </tr>\n",
       "    <tr>\n",
       "      <th>71</th>\n",
       "      <td>pc_gamer</td>\n",
       "      <td>gaming_pc</td>\n",
       "    </tr>\n",
       "    <tr>\n",
       "      <th>72</th>\n",
       "      <td>portateis_cozinha_e_preparadores_de_alimentos</td>\n",
       "      <td>portable_kitchen</td>\n",
       "    </tr>\n",
       "  </tbody>\n",
       "</table>\n",
       "<p>73 rows × 2 columns</p>\n",
       "</div>"
      ],
      "text/plain": [
       "                            product_category_name  \\\n",
       "0                                    beleza_saude   \n",
       "1                          informatica_acessorios   \n",
       "2                                      automotivo   \n",
       "3                                 cama_mesa_banho   \n",
       "4                                moveis_decoracao   \n",
       "..                                            ...   \n",
       "68                                fraldas_higiene   \n",
       "69                  fashion_roupa_infanto_juvenil   \n",
       "70                             seguros_e_servicos   \n",
       "71                                       pc_gamer   \n",
       "72  portateis_cozinha_e_preparadores_de_alimentos   \n",
       "\n",
       "   product_category_name_english  \n",
       "0                  health_beauty  \n",
       "1          computers_accessories  \n",
       "2                           auto  \n",
       "3                 bed_bath_table  \n",
       "4                furniture_decor  \n",
       "..                           ...  \n",
       "68           diapers_and_hygiene  \n",
       "69     fashion_childrens_clothes  \n",
       "70         security_and_services  \n",
       "71                     gaming_pc  \n",
       "72              portable_kitchen  \n",
       "\n",
       "[73 rows x 2 columns]"
      ]
     },
     "execution_count": 166,
     "metadata": {},
     "output_type": "execute_result"
    }
   ],
   "source": [
    "df_category"
   ]
  },
  {
   "cell_type": "markdown",
   "id": "01fefad0-b0ce-4b5e-a9c4-e33df5cc43a6",
   "metadata": {},
   "source": [
    "Vamos consultar novamente o dataframe df_product, e podemos perceber que todas as categorias estão com tradução."
   ]
  },
  {
   "cell_type": "code",
   "execution_count": 168,
   "id": "afef5773-810c-4ebe-8b61-e8dd44c775ac",
   "metadata": {},
   "outputs": [
    {
     "data": {
      "text/html": [
       "<div>\n",
       "<style scoped>\n",
       "    .dataframe tbody tr th:only-of-type {\n",
       "        vertical-align: middle;\n",
       "    }\n",
       "\n",
       "    .dataframe tbody tr th {\n",
       "        vertical-align: top;\n",
       "    }\n",
       "\n",
       "    .dataframe thead th {\n",
       "        text-align: right;\n",
       "    }\n",
       "</style>\n",
       "<table border=\"1\" class=\"dataframe\">\n",
       "  <thead>\n",
       "    <tr style=\"text-align: right;\">\n",
       "      <th></th>\n",
       "      <th>product_id</th>\n",
       "      <th>product_category_name</th>\n",
       "    </tr>\n",
       "  </thead>\n",
       "  <tbody>\n",
       "  </tbody>\n",
       "</table>\n",
       "</div>"
      ],
      "text/plain": [
       "Empty DataFrame\n",
       "Columns: [product_id, product_category_name]\n",
       "Index: []"
      ]
     },
     "execution_count": 168,
     "metadata": {},
     "output_type": "execute_result"
    }
   ],
   "source": [
    "df_bol = df_products[~df_products['product_category_name'].isin(df_category['product_category_name'])]\n",
    "df_bol_2 = df_bol[[\"product_id\", \"product_category_name\"]]\n",
    "df_bol_2"
   ]
  },
  {
   "cell_type": "markdown",
   "id": "ea72ddb8-3216-4ae4-87d1-19bbf19172bf",
   "metadata": {},
   "source": [
    "### c. Normalização dos Data Frames"
   ]
  },
  {
   "cell_type": "markdown",
   "id": "c31d70c8-c257-4a3e-b144-dfad4f388abd",
   "metadata": {},
   "source": [
    "Como algumas colunas podem ter letras maiusculas ou inconsistentes. Então vamos padronizar os seus nomes aplicando a normalizaçao snake_case."
   ]
  },
  {
   "cell_type": "code",
   "execution_count": 198,
   "id": "9d1512a5-53b8-4fbe-bfcb-a6a4e67fc448",
   "metadata": {},
   "outputs": [],
   "source": [
    "def normalizar_nomes_colunas(df):\n",
    "    df.columns = (\n",
    "        df.columns\n",
    "        .str.strip()                      # Remove espaços no início/fim do nome da coluna (isso foi feito anteriormente, mas vamos reforçar)\n",
    "        .str.lower()                      # Converte todas as letras dos valores para caracteres minúsculas\n",
    "        .str.replace(' ', '_')            # Substitui espaços por underline ( _ )\n",
    "        .str.replace('-', '_')            # Substitui hífens por underline ( _ )\n",
    "    )\n",
    "    return df\n",
    "\n",
    "# criação de uma lista com todos os dataframes a serem normalizados\n",
    "dfs = [df_orders, df_order_items, df_customers, df_geolocation, df_payments,\n",
    "       df_reviews, df_products, df_sellers, df_category]\n",
    "\n",
    "# aplicando a normalização em todos eles\n",
    "df_orders, df_order_items, df_customers, df_geolocation, df_payments, \\\n",
    "df_reviews, df_products, df_sellers, df_category = [normalizar_nomes_colunas(df) for df in dfs]"
   ]
  },
  {
   "cell_type": "code",
   "execution_count": 200,
   "id": "68281136-b57c-40e5-a5e2-dbddc2269050",
   "metadata": {},
   "outputs": [
    {
     "data": {
      "text/html": [
       "<div>\n",
       "<style scoped>\n",
       "    .dataframe tbody tr th:only-of-type {\n",
       "        vertical-align: middle;\n",
       "    }\n",
       "\n",
       "    .dataframe tbody tr th {\n",
       "        vertical-align: top;\n",
       "    }\n",
       "\n",
       "    .dataframe thead th {\n",
       "        text-align: right;\n",
       "    }\n",
       "</style>\n",
       "<table border=\"1\" class=\"dataframe\">\n",
       "  <thead>\n",
       "    <tr style=\"text-align: right;\">\n",
       "      <th></th>\n",
       "      <th>seller_id</th>\n",
       "      <th>seller_zip_code_prefix</th>\n",
       "      <th>seller_city</th>\n",
       "      <th>seller_state</th>\n",
       "    </tr>\n",
       "  </thead>\n",
       "  <tbody>\n",
       "    <tr>\n",
       "      <th>0</th>\n",
       "      <td>3442f8959a84dea7ee197c632cb2df15</td>\n",
       "      <td>13023</td>\n",
       "      <td>campinas</td>\n",
       "      <td>SP</td>\n",
       "    </tr>\n",
       "    <tr>\n",
       "      <th>1</th>\n",
       "      <td>d1b65fc7debc3361ea86b5f14c68d2e2</td>\n",
       "      <td>13844</td>\n",
       "      <td>mogi guacu</td>\n",
       "      <td>SP</td>\n",
       "    </tr>\n",
       "    <tr>\n",
       "      <th>2</th>\n",
       "      <td>ce3ad9de960102d0677a81f5d0bb7b2d</td>\n",
       "      <td>20031</td>\n",
       "      <td>rio de janeiro</td>\n",
       "      <td>RJ</td>\n",
       "    </tr>\n",
       "    <tr>\n",
       "      <th>3</th>\n",
       "      <td>c0f3eea2e14555b6faeea3dd58c1b1c3</td>\n",
       "      <td>4195</td>\n",
       "      <td>sao paulo</td>\n",
       "      <td>SP</td>\n",
       "    </tr>\n",
       "    <tr>\n",
       "      <th>4</th>\n",
       "      <td>51a04a8a6bdcb23deccc82b0b80742cf</td>\n",
       "      <td>12914</td>\n",
       "      <td>braganca paulista</td>\n",
       "      <td>SP</td>\n",
       "    </tr>\n",
       "    <tr>\n",
       "      <th>...</th>\n",
       "      <td>...</td>\n",
       "      <td>...</td>\n",
       "      <td>...</td>\n",
       "      <td>...</td>\n",
       "    </tr>\n",
       "    <tr>\n",
       "      <th>3090</th>\n",
       "      <td>98dddbc4601dd4443ca174359b237166</td>\n",
       "      <td>87111</td>\n",
       "      <td>sarandi</td>\n",
       "      <td>PR</td>\n",
       "    </tr>\n",
       "    <tr>\n",
       "      <th>3091</th>\n",
       "      <td>f8201cab383e484733266d1906e2fdfa</td>\n",
       "      <td>88137</td>\n",
       "      <td>palhoca</td>\n",
       "      <td>SC</td>\n",
       "    </tr>\n",
       "    <tr>\n",
       "      <th>3092</th>\n",
       "      <td>74871d19219c7d518d0090283e03c137</td>\n",
       "      <td>4650</td>\n",
       "      <td>sao paulo</td>\n",
       "      <td>SP</td>\n",
       "    </tr>\n",
       "    <tr>\n",
       "      <th>3093</th>\n",
       "      <td>e603cf3fec55f8697c9059638d6c8eb5</td>\n",
       "      <td>96080</td>\n",
       "      <td>pelotas</td>\n",
       "      <td>RS</td>\n",
       "    </tr>\n",
       "    <tr>\n",
       "      <th>3094</th>\n",
       "      <td>9e25199f6ef7e7c347120ff175652c3b</td>\n",
       "      <td>12051</td>\n",
       "      <td>taubate</td>\n",
       "      <td>SP</td>\n",
       "    </tr>\n",
       "  </tbody>\n",
       "</table>\n",
       "<p>3095 rows × 4 columns</p>\n",
       "</div>"
      ],
      "text/plain": [
       "                             seller_id  seller_zip_code_prefix  \\\n",
       "0     3442f8959a84dea7ee197c632cb2df15                   13023   \n",
       "1     d1b65fc7debc3361ea86b5f14c68d2e2                   13844   \n",
       "2     ce3ad9de960102d0677a81f5d0bb7b2d                   20031   \n",
       "3     c0f3eea2e14555b6faeea3dd58c1b1c3                    4195   \n",
       "4     51a04a8a6bdcb23deccc82b0b80742cf                   12914   \n",
       "...                                ...                     ...   \n",
       "3090  98dddbc4601dd4443ca174359b237166                   87111   \n",
       "3091  f8201cab383e484733266d1906e2fdfa                   88137   \n",
       "3092  74871d19219c7d518d0090283e03c137                    4650   \n",
       "3093  e603cf3fec55f8697c9059638d6c8eb5                   96080   \n",
       "3094  9e25199f6ef7e7c347120ff175652c3b                   12051   \n",
       "\n",
       "            seller_city seller_state  \n",
       "0              campinas           SP  \n",
       "1            mogi guacu           SP  \n",
       "2        rio de janeiro           RJ  \n",
       "3             sao paulo           SP  \n",
       "4     braganca paulista           SP  \n",
       "...                 ...          ...  \n",
       "3090            sarandi           PR  \n",
       "3091            palhoca           SC  \n",
       "3092          sao paulo           SP  \n",
       "3093            pelotas           RS  \n",
       "3094            taubate           SP  \n",
       "\n",
       "[3095 rows x 4 columns]"
      ]
     },
     "execution_count": 200,
     "metadata": {},
     "output_type": "execute_result"
    }
   ],
   "source": [
    "df_sellers"
   ]
  },
  {
   "cell_type": "markdown",
   "id": "c655ec1f-8bc2-4b60-b944-729fe2d125f3",
   "metadata": {},
   "source": [
    "Agora vamos normalizar os textos categóricos, como: cidades, estados, categorias e etc dos dataframes que são composto por esses valores. Nesse processo coloquei os nomeas das cidades em minusculos e as siglas em maiusculos."
   ]
  },
  {
   "cell_type": "code",
   "execution_count": 204,
   "id": "bc17deed-4b87-45e8-9121-aff47621472d",
   "metadata": {},
   "outputs": [],
   "source": [
    "df_customers['customer_city'] = df_customers['customer_city'].str.lower()\n",
    "df_customers['customer_state'] = df_customers['customer_state'].str.upper()\n",
    "df_sellers['seller_city'] = df_sellers['seller_city'].str.lower()\n",
    "df_sellers['seller_state'] = df_sellers['seller_state'].str.upper()"
   ]
  },
  {
   "cell_type": "code",
   "execution_count": null,
   "id": "45739b54-91c6-4d39-8f35-1f8a02d17723",
   "metadata": {},
   "outputs": [],
   "source": []
  }
 ],
 "metadata": {
  "kernelspec": {
   "display_name": "Python [conda env:base] *",
   "language": "python",
   "name": "conda-base-py"
  },
  "language_info": {
   "codemirror_mode": {
    "name": "ipython",
    "version": 3
   },
   "file_extension": ".py",
   "mimetype": "text/x-python",
   "name": "python",
   "nbconvert_exporter": "python",
   "pygments_lexer": "ipython3",
   "version": "3.12.7"
  }
 },
 "nbformat": 4,
 "nbformat_minor": 5
}
